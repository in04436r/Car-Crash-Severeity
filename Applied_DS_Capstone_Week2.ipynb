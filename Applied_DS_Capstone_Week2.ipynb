{
  "nbformat": 4,
  "nbformat_minor": 0,
  "metadata": {
    "kernelspec": {
      "display_name": "Python 3",
      "language": "python",
      "name": "python3"
    },
    "language_info": {
      "codemirror_mode": {
        "name": "ipython",
        "version": 3
      },
      "file_extension": ".py",
      "mimetype": "text/x-python",
      "name": "python",
      "nbconvert_exporter": "python",
      "pygments_lexer": "ipython3",
      "version": "3.7.6"
    },
    "colab": {
      "name": "Applied_DS_Capstone_Week2.ipynb",
      "provenance": [],
      "collapsed_sections": []
    }
  },
  "cells": [
    {
      "cell_type": "markdown",
      "metadata": {
        "id": "ODjK_3JtQNMo",
        "colab_type": "text"
      },
      "source": [
        "# Capstone Project - Collision Analysis (Week 2)\n",
        "### Applied Data Science Capstone by IBM/Coursera"
      ]
    },
    {
      "cell_type": "markdown",
      "metadata": {
        "id": "Idjsx-R7QNMs",
        "colab_type": "text"
      },
      "source": [
        "## Table of contents\n",
        "* [Introduction: Business Problem](#introduction)\n",
        "* [Data](#data)\n",
        "* [Methodology](#methodology)\n",
        "* [Analysis](#analysis)\n",
        "* [Results and Discussion](#results)\n",
        "* [Conclusion](#conclusion)"
      ]
    },
    {
      "cell_type": "markdown",
      "metadata": {
        "id": "qMY2l0tcQNMu",
        "colab_type": "text"
      },
      "source": [
        "## Introduction: Business Problem <a name=\"introduction\"></a>"
      ]
    },
    {
      "cell_type": "markdown",
      "metadata": {
        "id": "ZQmQzkagQNMw",
        "colab_type": "text"
      },
      "source": [
        "In our daily busy lives, we are almost inseparable from technology when it comes to travelling. Public and private transportation systems play a very crucial role in our daily lives.\n",
        "How many times has it happened, that you are driving home from your work, after a tiresome day, and as soon as you hit the main road, there is a traffic jam. So you peep out of your window and learn that there has been an accident.\n",
        "Indeed accidents or collisions are not only unpleasent scenarios but also quite costly affairs when it comes to harm to life or property.\n",
        "The objective of my project is to understand what are the various types of collisions(accidents) that can occur from a given data set and which of them are the most severe ones. \n",
        "Based on this information I will try to build a model, that can classify this collision and also tell us which factors contribiute most to such type of collisions.\n"
      ]
    },
    {
      "cell_type": "markdown",
      "metadata": {
        "id": "3MpOCVYjQNMx",
        "colab_type": "text"
      },
      "source": [
        "## Data <a name=\"data\"></a>"
      ]
    },
    {
      "cell_type": "markdown",
      "metadata": {
        "id": "3gDdTX2oQNM0",
        "colab_type": "text"
      },
      "source": [
        "To achieve this goal, I have accquired a publicly available dataset of Seattle that captures all the collisions that have taken place between 2004 and 2013.\n"
      ]
    },
    {
      "cell_type": "markdown",
      "metadata": {
        "id": "QdqeRzsgQNM2",
        "colab_type": "text"
      },
      "source": [
        "## Methodology <a name=\"methodology\"></a>"
      ]
    },
    {
      "cell_type": "markdown",
      "metadata": {
        "id": "LlDFvEv0QNM8",
        "colab_type": "text"
      },
      "source": [
        "describe the methodology"
      ]
    },
    {
      "cell_type": "markdown",
      "metadata": {
        "id": "axXDtZELQNM-",
        "colab_type": "text"
      },
      "source": [
        "## Analysis <a name=\"analysis\"></a>"
      ]
    },
    {
      "cell_type": "markdown",
      "metadata": {
        "id": "4SLPNV9aQNM_",
        "colab_type": "text"
      },
      "source": [
        "Analysis of the problem"
      ]
    },
    {
      "cell_type": "markdown",
      "metadata": {
        "id": "RvrTfERxQNNB",
        "colab_type": "text"
      },
      "source": [
        "## Results and Discussion <a name=\"results\"></a>"
      ]
    },
    {
      "cell_type": "markdown",
      "metadata": {
        "id": "pg2XfGUxQNND",
        "colab_type": "text"
      },
      "source": [
        "Describe Results and Conclusion"
      ]
    },
    {
      "cell_type": "markdown",
      "metadata": {
        "id": "fzpl1WxwQNNF",
        "colab_type": "text"
      },
      "source": [
        "## Conclusion <a name=\"conclusion\"></a>"
      ]
    },
    {
      "cell_type": "markdown",
      "metadata": {
        "id": "xqzgfXbOQNNG",
        "colab_type": "text"
      },
      "source": [
        "Conclusion"
      ]
    },
    {
      "cell_type": "code",
      "metadata": {
        "id": "IfWY3NTZQNNI",
        "colab_type": "code",
        "colab": {}
      },
      "source": [
        ""
      ],
      "execution_count": null,
      "outputs": []
    }
  ]
}