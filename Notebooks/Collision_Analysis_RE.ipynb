{
 "cells": [
  {
   "cell_type": "markdown",
   "metadata": {},
   "source": [
    "# Collision Analysis"
   ]
  },
  {
   "cell_type": "markdown",
   "metadata": {},
   "source": [
    "### DATA EXPLORATION"
   ]
  },
  {
   "cell_type": "markdown",
   "metadata": {},
   "source": [
    " Importing all the required libraries"
   ]
  },
  {
   "cell_type": "code",
   "execution_count": 2,
   "metadata": {},
   "outputs": [],
   "source": [
    "# Importing libraries \n",
    "import pandas as pd \n",
    "import numpy as np\n",
    "import seaborn as sns \n",
    "from sklearn.preprocessing import OneHotEncoder, LabelEncoder\n",
    "from sklearn.model_selection import train_test_split, cross_val_score, GridSearchCV\n",
    "from sklearn.tree import DecisionTreeClassifier, export_graphviz\n",
    "from sklearn.metrics import accuracy_score, roc_auc_score\n",
    "\n",
    "#from mlxtend.evaluate import feature_importance_permutation\n",
    "\n",
    "import matplotlib.pyplot as plt\n",
    "%matplotlib inline\n",
    "\n",
    "import seaborn as sn"
   ]
  },
  {
   "cell_type": "markdown",
   "metadata": {},
   "source": [
    "Read the csv to a data frame"
   ]
  },
  {
   "cell_type": "code",
   "execution_count": 3,
   "metadata": {},
   "outputs": [
    {
     "name": "stderr",
     "output_type": "stream",
     "text": [
      "C:\\Users\\ShubhobrotoDey\\anaconda3\\lib\\site-packages\\IPython\\core\\interactiveshell.py:3063: DtypeWarning: Columns (33) have mixed types.Specify dtype option on import or set low_memory=False.\n",
      "  interactivity=interactivity, compiler=compiler, result=result)\n"
     ]
    }
   ],
   "source": [
    "d1=pd.read_csv(r\"C:\\Users\\ShubhobrotoDey\\Downloads\\IBM COURSERA\\C9_Capstone\\Data-Collisions.csv\")"
   ]
  },
  {
   "cell_type": "markdown",
   "metadata": {},
   "source": [
    "Take a peek into the data and its shape"
   ]
  },
  {
   "cell_type": "code",
   "execution_count": 4,
   "metadata": {},
   "outputs": [
    {
     "name": "stdout",
     "output_type": "stream",
     "text": [
      "<class 'pandas.core.frame.DataFrame'>\n",
      "RangeIndex: 194673 entries, 0 to 194672\n",
      "Data columns (total 38 columns):\n",
      " #   Column          Non-Null Count   Dtype  \n",
      "---  ------          --------------   -----  \n",
      " 0   SEVERITYCODE    194673 non-null  int64  \n",
      " 1   X               189339 non-null  float64\n",
      " 2   Y               189339 non-null  float64\n",
      " 3   OBJECTID        194673 non-null  int64  \n",
      " 4   INCKEY          194673 non-null  int64  \n",
      " 5   COLDETKEY       194673 non-null  int64  \n",
      " 6   REPORTNO        194673 non-null  object \n",
      " 7   STATUS          194673 non-null  object \n",
      " 8   ADDRTYPE        192747 non-null  object \n",
      " 9   INTKEY          65070 non-null   float64\n",
      " 10  LOCATION        191996 non-null  object \n",
      " 11  EXCEPTRSNCODE   84811 non-null   object \n",
      " 12  EXCEPTRSNDESC   5638 non-null    object \n",
      " 13  SEVERITYCODE.1  194673 non-null  int64  \n",
      " 14  SEVERITYDESC    194673 non-null  object \n",
      " 15  COLLISIONTYPE   189769 non-null  object \n",
      " 16  PERSONCOUNT     194673 non-null  int64  \n",
      " 17  PEDCOUNT        194673 non-null  int64  \n",
      " 18  PEDCYLCOUNT     194673 non-null  int64  \n",
      " 19  VEHCOUNT        194673 non-null  int64  \n",
      " 20  INCDATE         194673 non-null  object \n",
      " 21  INCDTTM         194673 non-null  object \n",
      " 22  JUNCTIONTYPE    188344 non-null  object \n",
      " 23  SDOT_COLCODE    194673 non-null  int64  \n",
      " 24  SDOT_COLDESC    194673 non-null  object \n",
      " 25  INATTENTIONIND  29805 non-null   object \n",
      " 26  UNDERINFL       189789 non-null  object \n",
      " 27  WEATHER         189592 non-null  object \n",
      " 28  ROADCOND        189661 non-null  object \n",
      " 29  LIGHTCOND       189503 non-null  object \n",
      " 30  PEDROWNOTGRNT   4667 non-null    object \n",
      " 31  SDOTCOLNUM      114936 non-null  float64\n",
      " 32  SPEEDING        9333 non-null    object \n",
      " 33  ST_COLCODE      194655 non-null  object \n",
      " 34  ST_COLDESC      189769 non-null  object \n",
      " 35  SEGLANEKEY      194673 non-null  int64  \n",
      " 36  CROSSWALKKEY    194673 non-null  int64  \n",
      " 37  HITPARKEDCAR    194673 non-null  object \n",
      "dtypes: float64(4), int64(12), object(22)\n",
      "memory usage: 56.4+ MB\n"
     ]
    }
   ],
   "source": [
    "d1.info()"
   ]
  },
  {
   "cell_type": "code",
   "execution_count": 5,
   "metadata": {},
   "outputs": [
    {
     "data": {
      "text/html": [
       "<div>\n",
       "<style scoped>\n",
       "    .dataframe tbody tr th:only-of-type {\n",
       "        vertical-align: middle;\n",
       "    }\n",
       "\n",
       "    .dataframe tbody tr th {\n",
       "        vertical-align: top;\n",
       "    }\n",
       "\n",
       "    .dataframe thead th {\n",
       "        text-align: right;\n",
       "    }\n",
       "</style>\n",
       "<table border=\"1\" class=\"dataframe\">\n",
       "  <thead>\n",
       "    <tr style=\"text-align: right;\">\n",
       "      <th></th>\n",
       "      <th>SEVERITYCODE</th>\n",
       "      <th>X</th>\n",
       "      <th>Y</th>\n",
       "      <th>OBJECTID</th>\n",
       "      <th>INCKEY</th>\n",
       "      <th>COLDETKEY</th>\n",
       "      <th>REPORTNO</th>\n",
       "      <th>STATUS</th>\n",
       "      <th>ADDRTYPE</th>\n",
       "      <th>INTKEY</th>\n",
       "      <th>...</th>\n",
       "      <th>ROADCOND</th>\n",
       "      <th>LIGHTCOND</th>\n",
       "      <th>PEDROWNOTGRNT</th>\n",
       "      <th>SDOTCOLNUM</th>\n",
       "      <th>SPEEDING</th>\n",
       "      <th>ST_COLCODE</th>\n",
       "      <th>ST_COLDESC</th>\n",
       "      <th>SEGLANEKEY</th>\n",
       "      <th>CROSSWALKKEY</th>\n",
       "      <th>HITPARKEDCAR</th>\n",
       "    </tr>\n",
       "  </thead>\n",
       "  <tbody>\n",
       "    <tr>\n",
       "      <th>0</th>\n",
       "      <td>2</td>\n",
       "      <td>-122.323148</td>\n",
       "      <td>47.703140</td>\n",
       "      <td>1</td>\n",
       "      <td>1307</td>\n",
       "      <td>1307</td>\n",
       "      <td>3502005</td>\n",
       "      <td>Matched</td>\n",
       "      <td>Intersection</td>\n",
       "      <td>37475.0</td>\n",
       "      <td>...</td>\n",
       "      <td>Wet</td>\n",
       "      <td>Daylight</td>\n",
       "      <td>NaN</td>\n",
       "      <td>NaN</td>\n",
       "      <td>NaN</td>\n",
       "      <td>10</td>\n",
       "      <td>Entering at angle</td>\n",
       "      <td>0</td>\n",
       "      <td>0</td>\n",
       "      <td>N</td>\n",
       "    </tr>\n",
       "    <tr>\n",
       "      <th>1</th>\n",
       "      <td>1</td>\n",
       "      <td>-122.347294</td>\n",
       "      <td>47.647172</td>\n",
       "      <td>2</td>\n",
       "      <td>52200</td>\n",
       "      <td>52200</td>\n",
       "      <td>2607959</td>\n",
       "      <td>Matched</td>\n",
       "      <td>Block</td>\n",
       "      <td>NaN</td>\n",
       "      <td>...</td>\n",
       "      <td>Wet</td>\n",
       "      <td>Dark - Street Lights On</td>\n",
       "      <td>NaN</td>\n",
       "      <td>6354039.0</td>\n",
       "      <td>NaN</td>\n",
       "      <td>11</td>\n",
       "      <td>From same direction - both going straight - bo...</td>\n",
       "      <td>0</td>\n",
       "      <td>0</td>\n",
       "      <td>N</td>\n",
       "    </tr>\n",
       "    <tr>\n",
       "      <th>2</th>\n",
       "      <td>1</td>\n",
       "      <td>-122.334540</td>\n",
       "      <td>47.607871</td>\n",
       "      <td>3</td>\n",
       "      <td>26700</td>\n",
       "      <td>26700</td>\n",
       "      <td>1482393</td>\n",
       "      <td>Matched</td>\n",
       "      <td>Block</td>\n",
       "      <td>NaN</td>\n",
       "      <td>...</td>\n",
       "      <td>Dry</td>\n",
       "      <td>Daylight</td>\n",
       "      <td>NaN</td>\n",
       "      <td>4323031.0</td>\n",
       "      <td>NaN</td>\n",
       "      <td>32</td>\n",
       "      <td>One parked--one moving</td>\n",
       "      <td>0</td>\n",
       "      <td>0</td>\n",
       "      <td>N</td>\n",
       "    </tr>\n",
       "  </tbody>\n",
       "</table>\n",
       "<p>3 rows × 38 columns</p>\n",
       "</div>"
      ],
      "text/plain": [
       "   SEVERITYCODE           X          Y  OBJECTID  INCKEY  COLDETKEY REPORTNO  \\\n",
       "0             2 -122.323148  47.703140         1    1307       1307  3502005   \n",
       "1             1 -122.347294  47.647172         2   52200      52200  2607959   \n",
       "2             1 -122.334540  47.607871         3   26700      26700  1482393   \n",
       "\n",
       "    STATUS      ADDRTYPE   INTKEY  ... ROADCOND                LIGHTCOND  \\\n",
       "0  Matched  Intersection  37475.0  ...      Wet                 Daylight   \n",
       "1  Matched         Block      NaN  ...      Wet  Dark - Street Lights On   \n",
       "2  Matched         Block      NaN  ...      Dry                 Daylight   \n",
       "\n",
       "  PEDROWNOTGRNT  SDOTCOLNUM SPEEDING ST_COLCODE  \\\n",
       "0           NaN         NaN      NaN         10   \n",
       "1           NaN   6354039.0      NaN         11   \n",
       "2           NaN   4323031.0      NaN         32   \n",
       "\n",
       "                                          ST_COLDESC  SEGLANEKEY  \\\n",
       "0                                  Entering at angle           0   \n",
       "1  From same direction - both going straight - bo...           0   \n",
       "2                             One parked--one moving           0   \n",
       "\n",
       "   CROSSWALKKEY  HITPARKEDCAR  \n",
       "0             0             N  \n",
       "1             0             N  \n",
       "2             0             N  \n",
       "\n",
       "[3 rows x 38 columns]"
      ]
     },
     "execution_count": 5,
     "metadata": {},
     "output_type": "execute_result"
    }
   ],
   "source": [
    "d1.head(3)"
   ]
  },
  {
   "cell_type": "code",
   "execution_count": 6,
   "metadata": {},
   "outputs": [
    {
     "data": {
      "text/plain": [
       "(194673, 38)"
      ]
     },
     "execution_count": 6,
     "metadata": {},
     "output_type": "execute_result"
    }
   ],
   "source": [
    "d1.shape"
   ]
  },
  {
   "cell_type": "code",
   "execution_count": 7,
   "metadata": {},
   "outputs": [
    {
     "data": {
      "text/plain": [
       "SEVERITYCODE           2\n",
       "X                  23563\n",
       "Y                  23839\n",
       "OBJECTID          194673\n",
       "INCKEY            194673\n",
       "COLDETKEY         194673\n",
       "REPORTNO          194670\n",
       "STATUS                 2\n",
       "ADDRTYPE               3\n",
       "INTKEY              7614\n",
       "LOCATION           24102\n",
       "EXCEPTRSNCODE          2\n",
       "EXCEPTRSNDESC          1\n",
       "SEVERITYCODE.1         2\n",
       "SEVERITYDESC           2\n",
       "COLLISIONTYPE         10\n",
       "PERSONCOUNT           47\n",
       "PEDCOUNT               7\n",
       "PEDCYLCOUNT            3\n",
       "VEHCOUNT              13\n",
       "INCDATE             5985\n",
       "INCDTTM           162058\n",
       "JUNCTIONTYPE           7\n",
       "SDOT_COLCODE          39\n",
       "SDOT_COLDESC          39\n",
       "INATTENTIONIND         1\n",
       "UNDERINFL              4\n",
       "WEATHER               11\n",
       "ROADCOND               9\n",
       "LIGHTCOND              9\n",
       "PEDROWNOTGRNT          1\n",
       "SDOTCOLNUM        114932\n",
       "SPEEDING               1\n",
       "ST_COLCODE           115\n",
       "ST_COLDESC            62\n",
       "SEGLANEKEY          1955\n",
       "CROSSWALKKEY        2198\n",
       "HITPARKEDCAR           2\n",
       "dtype: int64"
      ]
     },
     "execution_count": 7,
     "metadata": {},
     "output_type": "execute_result"
    }
   ],
   "source": [
    "d1.nunique() #Analysing number of unique values per column"
   ]
  },
  {
   "cell_type": "code",
   "execution_count": 8,
   "metadata": {},
   "outputs": [
    {
     "data": {
      "text/plain": [
       "SEVERITYCODE           0\n",
       "X                   5334\n",
       "Y                   5334\n",
       "OBJECTID               0\n",
       "INCKEY                 0\n",
       "COLDETKEY              0\n",
       "REPORTNO               0\n",
       "STATUS                 0\n",
       "ADDRTYPE            1926\n",
       "INTKEY            129603\n",
       "LOCATION            2677\n",
       "EXCEPTRSNCODE     109862\n",
       "EXCEPTRSNDESC     189035\n",
       "SEVERITYCODE.1         0\n",
       "SEVERITYDESC           0\n",
       "COLLISIONTYPE       4904\n",
       "PERSONCOUNT            0\n",
       "PEDCOUNT               0\n",
       "PEDCYLCOUNT            0\n",
       "VEHCOUNT               0\n",
       "INCDATE                0\n",
       "INCDTTM                0\n",
       "JUNCTIONTYPE        6329\n",
       "SDOT_COLCODE           0\n",
       "SDOT_COLDESC           0\n",
       "INATTENTIONIND    164868\n",
       "UNDERINFL           4884\n",
       "WEATHER             5081\n",
       "ROADCOND            5012\n",
       "LIGHTCOND           5170\n",
       "PEDROWNOTGRNT     190006\n",
       "SDOTCOLNUM         79737\n",
       "SPEEDING          185340\n",
       "ST_COLCODE            18\n",
       "ST_COLDESC          4904\n",
       "SEGLANEKEY             0\n",
       "CROSSWALKKEY           0\n",
       "HITPARKEDCAR           0\n",
       "dtype: int64"
      ]
     },
     "execution_count": 8,
     "metadata": {},
     "output_type": "execute_result"
    }
   ],
   "source": [
    "d1.isna().sum() #Finding total number of missing values in the data."
   ]
  },
  {
   "cell_type": "code",
   "execution_count": 9,
   "metadata": {},
   "outputs": [
    {
     "data": {
      "text/plain": [
       "<matplotlib.axes._subplots.AxesSubplot at 0x136d0a55588>"
      ]
     },
     "execution_count": 9,
     "metadata": {},
     "output_type": "execute_result"
    },
    {
     "data": {
      "image/png": "[encoded data removed]",
      "text/plain": [
       "<Figure size 432x288 with 1 Axes>"
      ]
     },
     "metadata": {
      "needs_background": "light"
     },
     "output_type": "display_data"
    }
   ],
   "source": [
    "sns.heatmap(d1.isnull(), cbar=False) #Visualizing the missing values"
   ]
  },
  {
   "cell_type": "markdown",
   "metadata": {},
   "source": [
    "Now that we have underdstood the distribiution of the data, our agenda is to find out the various types od collisions that have occured and what was the most severe type amongst them."
   ]
  },
  {
   "cell_type": "code",
   "execution_count": 10,
   "metadata": {},
   "outputs": [
    {
     "data": {
      "text/plain": [
       "Index(['Parked Car', 'Angles', 'Rear Ended', 'Other', 'Sideswipe', 'Left Turn',\n",
       "       'Pedestrian', 'Cycles', 'Right Turn', 'Head On'],\n",
       "      dtype='object')"
      ]
     },
     "execution_count": 10,
     "metadata": {},
     "output_type": "execute_result"
    }
   ],
   "source": [
    "b=d1['COLLISIONTYPE'].value_counts().index\n",
    "b"
   ]
  },
  {
   "cell_type": "code",
   "execution_count": 11,
   "metadata": {},
   "outputs": [
    {
     "data": {
      "image/png": "[encoded data removed]",
      "text/plain": [
       "<Figure size 720x360 with 1 Axes>"
      ]
     },
     "metadata": {
      "needs_background": "light"
     },
     "output_type": "display_data"
    }
   ],
   "source": [
    "# Bar graph of top 10 type of collisions\n",
    "import seaborn as sns\n",
    "collision_count  = d1['COLLISIONTYPE'].value_counts()\n",
    "collision_count = collision_count[:10,]\n",
    "plt.figure(figsize=(10,5))\n",
    "sns.barplot(collision_count.index, collision_count.values, alpha=0.8)\n",
    "plt.title('Top 10 types of Collisions')\n",
    "plt.ylabel('Number of Occurrences', fontsize=12)\n",
    "plt.xlabel('Collision type', fontsize=12)\n",
    "plt.show()"
   ]
  },
  {
   "cell_type": "markdown",
   "metadata": {},
   "source": [
    "The above graph shows that Parked Car, Angles and Rear Ended collisions are the most frequest ones. Now we must find the severity of each type of collision to understand which has the most impact on life and property."
   ]
  },
  {
   "cell_type": "markdown",
   "metadata": {},
   "source": [
    "## DATA CLEANING"
   ]
  },
  {
   "cell_type": "markdown",
   "metadata": {},
   "source": [
    "Once we are clear with our goal, we must clean the data such that the NaN values do not cause any drastic impact on our analysis."
   ]
  },
  {
   "cell_type": "markdown",
   "metadata": {},
   "source": [
    "If we want to describe the most severe type of collision, we must split our datatset first into target and feature sets. To achieve this, we must undertsand what are the factors that could contribiute to a collision. Based on uderstanding the data, we find some useful columns like Road condition, Light condition, Weather, Under Influence etc.\n",
    "Once these columns are identified, we must make sure that these columns should have the least amount of unknown values."
   ]
  },
  {
   "cell_type": "code",
   "execution_count": 12,
   "metadata": {},
   "outputs": [],
   "source": [
    "# filling all na with the mode value in the columns that could be used a feature, so we can encode later\n",
    "d1[\"UNDERINFL\"] = d1[\"UNDERINFL\"].fillna(d1[\"UNDERINFL\"].mode()[0])\n",
    "d1[\"LIGHTCOND\"] = d1[\"LIGHTCOND\"].fillna(d1[\"LIGHTCOND\"].mode()[0])"
   ]
  },
  {
   "cell_type": "code",
   "execution_count": 13,
   "metadata": {},
   "outputs": [],
   "source": [
    "# dropping the unecessary columns that are not required for this analysis.\n",
    "d1.drop(['SEVERITYCODE','X','Y','OBJECTID','INCKEY','COLDETKEY','REPORTNO','STATUS',\n",
    "         'ADDRTYPE','INTKEY','LOCATION','EXCEPTRSNCODE','EXCEPTRSNDESC','INCDATE',\n",
    "         'INCDTTM','ST_COLCODE','SEGLANEKEY','CROSSWALKKEY','HITPARKEDCAR','PEDROWNOTGRNT','SDOTCOLNUM','ST_COLDESC','PERSONCOUNT','PEDCOUNT','PEDCYLCOUNT','VEHCOUNT'], axis=1, inplace=True)"
   ]
  },
  {
   "cell_type": "code",
   "execution_count": 14,
   "metadata": {},
   "outputs": [
    {
     "data": {
      "text/html": [
       "<div>\n",
       "<style scoped>\n",
       "    .dataframe tbody tr th:only-of-type {\n",
       "        vertical-align: middle;\n",
       "    }\n",
       "\n",
       "    .dataframe tbody tr th {\n",
       "        vertical-align: top;\n",
       "    }\n",
       "\n",
       "    .dataframe thead th {\n",
       "        text-align: right;\n",
       "    }\n",
       "</style>\n",
       "<table border=\"1\" class=\"dataframe\">\n",
       "  <thead>\n",
       "    <tr style=\"text-align: right;\">\n",
       "      <th></th>\n",
       "      <th>SEVERITYCODE.1</th>\n",
       "      <th>SEVERITYDESC</th>\n",
       "      <th>COLLISIONTYPE</th>\n",
       "      <th>JUNCTIONTYPE</th>\n",
       "      <th>SDOT_COLCODE</th>\n",
       "      <th>SDOT_COLDESC</th>\n",
       "      <th>INATTENTIONIND</th>\n",
       "      <th>UNDERINFL</th>\n",
       "      <th>WEATHER</th>\n",
       "      <th>ROADCOND</th>\n",
       "      <th>LIGHTCOND</th>\n",
       "      <th>SPEEDING</th>\n",
       "    </tr>\n",
       "  </thead>\n",
       "  <tbody>\n",
       "    <tr>\n",
       "      <th>0</th>\n",
       "      <td>2</td>\n",
       "      <td>Injury Collision</td>\n",
       "      <td>Angles</td>\n",
       "      <td>At Intersection (intersection related)</td>\n",
       "      <td>11</td>\n",
       "      <td>MOTOR VEHICLE STRUCK MOTOR VEHICLE, FRONT END ...</td>\n",
       "      <td>NaN</td>\n",
       "      <td>N</td>\n",
       "      <td>Overcast</td>\n",
       "      <td>Wet</td>\n",
       "      <td>Daylight</td>\n",
       "      <td>NaN</td>\n",
       "    </tr>\n",
       "    <tr>\n",
       "      <th>1</th>\n",
       "      <td>1</td>\n",
       "      <td>Property Damage Only Collision</td>\n",
       "      <td>Sideswipe</td>\n",
       "      <td>Mid-Block (not related to intersection)</td>\n",
       "      <td>16</td>\n",
       "      <td>MOTOR VEHICLE STRUCK MOTOR VEHICLE, LEFT SIDE ...</td>\n",
       "      <td>NaN</td>\n",
       "      <td>0</td>\n",
       "      <td>Raining</td>\n",
       "      <td>Wet</td>\n",
       "      <td>Dark - Street Lights On</td>\n",
       "      <td>NaN</td>\n",
       "    </tr>\n",
       "    <tr>\n",
       "      <th>2</th>\n",
       "      <td>1</td>\n",
       "      <td>Property Damage Only Collision</td>\n",
       "      <td>Parked Car</td>\n",
       "      <td>Mid-Block (not related to intersection)</td>\n",
       "      <td>14</td>\n",
       "      <td>MOTOR VEHICLE STRUCK MOTOR VEHICLE, REAR END</td>\n",
       "      <td>NaN</td>\n",
       "      <td>0</td>\n",
       "      <td>Overcast</td>\n",
       "      <td>Dry</td>\n",
       "      <td>Daylight</td>\n",
       "      <td>NaN</td>\n",
       "    </tr>\n",
       "    <tr>\n",
       "      <th>3</th>\n",
       "      <td>1</td>\n",
       "      <td>Property Damage Only Collision</td>\n",
       "      <td>Other</td>\n",
       "      <td>Mid-Block (not related to intersection)</td>\n",
       "      <td>11</td>\n",
       "      <td>MOTOR VEHICLE STRUCK MOTOR VEHICLE, FRONT END ...</td>\n",
       "      <td>NaN</td>\n",
       "      <td>N</td>\n",
       "      <td>Clear</td>\n",
       "      <td>Dry</td>\n",
       "      <td>Daylight</td>\n",
       "      <td>NaN</td>\n",
       "    </tr>\n",
       "    <tr>\n",
       "      <th>4</th>\n",
       "      <td>2</td>\n",
       "      <td>Injury Collision</td>\n",
       "      <td>Angles</td>\n",
       "      <td>At Intersection (intersection related)</td>\n",
       "      <td>11</td>\n",
       "      <td>MOTOR VEHICLE STRUCK MOTOR VEHICLE, FRONT END ...</td>\n",
       "      <td>NaN</td>\n",
       "      <td>0</td>\n",
       "      <td>Raining</td>\n",
       "      <td>Wet</td>\n",
       "      <td>Daylight</td>\n",
       "      <td>NaN</td>\n",
       "    </tr>\n",
       "  </tbody>\n",
       "</table>\n",
       "</div>"
      ],
      "text/plain": [
       "   SEVERITYCODE.1                    SEVERITYDESC COLLISIONTYPE  \\\n",
       "0               2                Injury Collision        Angles   \n",
       "1               1  Property Damage Only Collision     Sideswipe   \n",
       "2               1  Property Damage Only Collision    Parked Car   \n",
       "3               1  Property Damage Only Collision         Other   \n",
       "4               2                Injury Collision        Angles   \n",
       "\n",
       "                              JUNCTIONTYPE  SDOT_COLCODE  \\\n",
       "0   At Intersection (intersection related)            11   \n",
       "1  Mid-Block (not related to intersection)            16   \n",
       "2  Mid-Block (not related to intersection)            14   \n",
       "3  Mid-Block (not related to intersection)            11   \n",
       "4   At Intersection (intersection related)            11   \n",
       "\n",
       "                                        SDOT_COLDESC INATTENTIONIND UNDERINFL  \\\n",
       "0  MOTOR VEHICLE STRUCK MOTOR VEHICLE, FRONT END ...            NaN         N   \n",
       "1  MOTOR VEHICLE STRUCK MOTOR VEHICLE, LEFT SIDE ...            NaN         0   \n",
       "2       MOTOR VEHICLE STRUCK MOTOR VEHICLE, REAR END            NaN         0   \n",
       "3  MOTOR VEHICLE STRUCK MOTOR VEHICLE, FRONT END ...            NaN         N   \n",
       "4  MOTOR VEHICLE STRUCK MOTOR VEHICLE, FRONT END ...            NaN         0   \n",
       "\n",
       "    WEATHER ROADCOND                LIGHTCOND SPEEDING  \n",
       "0  Overcast      Wet                 Daylight      NaN  \n",
       "1   Raining      Wet  Dark - Street Lights On      NaN  \n",
       "2  Overcast      Dry                 Daylight      NaN  \n",
       "3     Clear      Dry                 Daylight      NaN  \n",
       "4   Raining      Wet                 Daylight      NaN  "
      ]
     },
     "execution_count": 14,
     "metadata": {},
     "output_type": "execute_result"
    }
   ],
   "source": [
    "d1.head(5)"
   ]
  },
  {
   "cell_type": "code",
   "execution_count": 15,
   "metadata": {},
   "outputs": [
    {
     "name": "stdout",
     "output_type": "stream",
     "text": [
      "<class 'pandas.core.frame.DataFrame'>\n",
      "RangeIndex: 194673 entries, 0 to 194672\n",
      "Data columns (total 12 columns):\n",
      " #   Column          Non-Null Count   Dtype \n",
      "---  ------          --------------   ----- \n",
      " 0   SEVERITYCODE.1  194673 non-null  int64 \n",
      " 1   SEVERITYDESC    194673 non-null  object\n",
      " 2   COLLISIONTYPE   189769 non-null  object\n",
      " 3   JUNCTIONTYPE    188344 non-null  object\n",
      " 4   SDOT_COLCODE    194673 non-null  int64 \n",
      " 5   SDOT_COLDESC    194673 non-null  object\n",
      " 6   INATTENTIONIND  29805 non-null   object\n",
      " 7   UNDERINFL       194673 non-null  object\n",
      " 8   WEATHER         189592 non-null  object\n",
      " 9   ROADCOND        189661 non-null  object\n",
      " 10  LIGHTCOND       194673 non-null  object\n",
      " 11  SPEEDING        9333 non-null    object\n",
      "dtypes: int64(2), object(10)\n",
      "memory usage: 17.8+ MB\n"
     ]
    }
   ],
   "source": [
    "d1.info()"
   ]
  },
  {
   "cell_type": "markdown",
   "metadata": {},
   "source": [
    "Filling up the remaining columns with UNKNOWN string "
   ]
  },
  {
   "cell_type": "code",
   "execution_count": 16,
   "metadata": {},
   "outputs": [],
   "source": [
    "# filling all na with UNKNOWN string, so we can encode later\n",
    "d1.fillna('UNKOWN', inplace=True)"
   ]
  },
  {
   "cell_type": "markdown",
   "metadata": {},
   "source": [
    "Renaming the Severity Code column"
   ]
  },
  {
   "cell_type": "code",
   "execution_count": 17,
   "metadata": {},
   "outputs": [],
   "source": [
    "d1.rename(columns={\"SEVERITYCODE.1\":\"SEVERITYCODE\"},inplace=True)"
   ]
  },
  {
   "cell_type": "markdown",
   "metadata": {},
   "source": [
    "\n",
    "## DATA PREPROCESSING: OneHotEncoding\n",
    "\n",
    "One hot encoding is a process by which categorical \n",
    "variables are converted into a form that could be provided to ML algorithms to do a better job in prediction.\n",
    "Since our target column is a categorical variable, we implent onehot encoding to build a decision tree.\n"
   ]
  },
  {
   "cell_type": "code",
   "execution_count": 18,
   "metadata": {},
   "outputs": [],
   "source": [
    "ohe = OneHotEncoder(handle_unknown='ignore')"
   ]
  },
  {
   "cell_type": "markdown",
   "metadata": {},
   "source": [
    "\n",
    "Building the target datframe. Since we want to analyse the Collision Types, we set the same as our Target Column.\n"
   ]
  },
  {
   "cell_type": "code",
   "execution_count": 19,
   "metadata": {},
   "outputs": [],
   "source": [
    "# Creating a new dataframe for COLLISION_TYPE\n",
    "# Then we will OneHotEncode the data to categories\n",
    "COLLISION_type1 = d1['COLLISIONTYPE']\n",
    "COLLISION_d1 = pd.DataFrame(COLLISION_type1, columns=['COLLISIONTYPE'])\n",
    "COLLISION_d1 = pd.DataFrame(ohe.fit_transform(COLLISION_d1[['COLLISIONTYPE']]).toarray())"
   ]
  },
  {
   "cell_type": "code",
   "execution_count": 20,
   "metadata": {},
   "outputs": [],
   "source": [
    "# Each column will be a COLLISION_TYPE, so we will need to label each column\n",
    "COLLISION_col1 = d1['COLLISIONTYPE'].unique()\n",
    "COLLISION_d1.columns = COLLISION_col1"
   ]
  },
  {
   "cell_type": "code",
   "execution_count": 21,
   "metadata": {},
   "outputs": [
    {
     "data": {
      "text/plain": [
       "Index(['Angles', 'Sideswipe', 'Parked Car', 'Other', 'Cycles', 'Rear Ended',\n",
       "       'Head On', 'UNKOWN', 'Left Turn', 'Pedestrian', 'Right Turn'],\n",
       "      dtype='object')"
      ]
     },
     "execution_count": 21,
     "metadata": {},
     "output_type": "execute_result"
    }
   ],
   "source": [
    "COLLISION_d1.columns"
   ]
  },
  {
   "cell_type": "markdown",
   "metadata": {},
   "source": [
    "\n",
    "Building the Features (label encoded) dataframe. This dataframe should contain all the causal factors that can contribute to the severity of a collision."
   ]
  },
  {
   "cell_type": "code",
   "execution_count": 22,
   "metadata": {},
   "outputs": [
    {
     "data": {
      "text/html": [
       "<div>\n",
       "<style scoped>\n",
       "    .dataframe tbody tr th:only-of-type {\n",
       "        vertical-align: middle;\n",
       "    }\n",
       "\n",
       "    .dataframe tbody tr th {\n",
       "        vertical-align: top;\n",
       "    }\n",
       "\n",
       "    .dataframe thead th {\n",
       "        text-align: right;\n",
       "    }\n",
       "</style>\n",
       "<table border=\"1\" class=\"dataframe\">\n",
       "  <thead>\n",
       "    <tr style=\"text-align: right;\">\n",
       "      <th></th>\n",
       "      <th>WEATHER</th>\n",
       "      <th>LIGHTCOND</th>\n",
       "      <th>JUNCTIONTYPE</th>\n",
       "      <th>UNDERINFL</th>\n",
       "      <th>ROADCOND</th>\n",
       "      <th>INATTENTIONIND</th>\n",
       "      <th>SPEEDING</th>\n",
       "    </tr>\n",
       "  </thead>\n",
       "  <tbody>\n",
       "    <tr>\n",
       "      <th>0</th>\n",
       "      <td>4</td>\n",
       "      <td>5</td>\n",
       "      <td>1</td>\n",
       "      <td>2</td>\n",
       "      <td>9</td>\n",
       "      <td>0</td>\n",
       "      <td>0</td>\n",
       "    </tr>\n",
       "    <tr>\n",
       "      <th>1</th>\n",
       "      <td>6</td>\n",
       "      <td>2</td>\n",
       "      <td>4</td>\n",
       "      <td>0</td>\n",
       "      <td>9</td>\n",
       "      <td>0</td>\n",
       "      <td>0</td>\n",
       "    </tr>\n",
       "    <tr>\n",
       "      <th>2</th>\n",
       "      <td>4</td>\n",
       "      <td>5</td>\n",
       "      <td>4</td>\n",
       "      <td>0</td>\n",
       "      <td>0</td>\n",
       "      <td>0</td>\n",
       "      <td>0</td>\n",
       "    </tr>\n",
       "    <tr>\n",
       "      <th>3</th>\n",
       "      <td>1</td>\n",
       "      <td>5</td>\n",
       "      <td>4</td>\n",
       "      <td>2</td>\n",
       "      <td>0</td>\n",
       "      <td>0</td>\n",
       "      <td>0</td>\n",
       "    </tr>\n",
       "    <tr>\n",
       "      <th>4</th>\n",
       "      <td>6</td>\n",
       "      <td>5</td>\n",
       "      <td>1</td>\n",
       "      <td>0</td>\n",
       "      <td>9</td>\n",
       "      <td>0</td>\n",
       "      <td>0</td>\n",
       "    </tr>\n",
       "    <tr>\n",
       "      <th>...</th>\n",
       "      <td>...</td>\n",
       "      <td>...</td>\n",
       "      <td>...</td>\n",
       "      <td>...</td>\n",
       "      <td>...</td>\n",
       "      <td>...</td>\n",
       "      <td>...</td>\n",
       "    </tr>\n",
       "    <tr>\n",
       "      <th>194668</th>\n",
       "      <td>1</td>\n",
       "      <td>5</td>\n",
       "      <td>4</td>\n",
       "      <td>2</td>\n",
       "      <td>0</td>\n",
       "      <td>0</td>\n",
       "      <td>0</td>\n",
       "    </tr>\n",
       "    <tr>\n",
       "      <th>194669</th>\n",
       "      <td>6</td>\n",
       "      <td>5</td>\n",
       "      <td>4</td>\n",
       "      <td>2</td>\n",
       "      <td>9</td>\n",
       "      <td>1</td>\n",
       "      <td>0</td>\n",
       "    </tr>\n",
       "    <tr>\n",
       "      <th>194670</th>\n",
       "      <td>1</td>\n",
       "      <td>5</td>\n",
       "      <td>1</td>\n",
       "      <td>2</td>\n",
       "      <td>0</td>\n",
       "      <td>0</td>\n",
       "      <td>0</td>\n",
       "    </tr>\n",
       "    <tr>\n",
       "      <th>194671</th>\n",
       "      <td>1</td>\n",
       "      <td>6</td>\n",
       "      <td>1</td>\n",
       "      <td>2</td>\n",
       "      <td>0</td>\n",
       "      <td>0</td>\n",
       "      <td>0</td>\n",
       "    </tr>\n",
       "    <tr>\n",
       "      <th>194672</th>\n",
       "      <td>1</td>\n",
       "      <td>5</td>\n",
       "      <td>4</td>\n",
       "      <td>2</td>\n",
       "      <td>9</td>\n",
       "      <td>0</td>\n",
       "      <td>0</td>\n",
       "    </tr>\n",
       "  </tbody>\n",
       "</table>\n",
       "<p>194673 rows × 7 columns</p>\n",
       "</div>"
      ],
      "text/plain": [
       "        WEATHER  LIGHTCOND  JUNCTIONTYPE  UNDERINFL  ROADCOND  INATTENTIONIND  \\\n",
       "0             4          5             1          2         9               0   \n",
       "1             6          2             4          0         9               0   \n",
       "2             4          5             4          0         0               0   \n",
       "3             1          5             4          2         0               0   \n",
       "4             6          5             1          0         9               0   \n",
       "...         ...        ...           ...        ...       ...             ...   \n",
       "194668        1          5             4          2         0               0   \n",
       "194669        6          5             4          2         9               1   \n",
       "194670        1          5             1          2         0               0   \n",
       "194671        1          6             1          2         0               0   \n",
       "194672        1          5             4          2         9               0   \n",
       "\n",
       "        SPEEDING  \n",
       "0              0  \n",
       "1              0  \n",
       "2              0  \n",
       "3              0  \n",
       "4              0  \n",
       "...          ...  \n",
       "194668         0  \n",
       "194669         0  \n",
       "194670         0  \n",
       "194671         0  \n",
       "194672         0  \n",
       "\n",
       "[194673 rows x 7 columns]"
      ]
     },
     "execution_count": 22,
     "metadata": {},
     "output_type": "execute_result"
    }
   ],
   "source": [
    "# Here we select the features we want to use and LabelEncode them using a for loop\n",
    "# We will also create a new dataframe for them\n",
    "text_col = ['WEATHER', 'LIGHTCOND', 'JUNCTIONTYPE', 'UNDERINFL', 'ROADCOND', 'INATTENTIONIND', 'SPEEDING']\n",
    "en_df1 = pd.DataFrame()\n",
    "for col in text_col:\n",
    "    encoder = LabelEncoder()\n",
    "    en_df1[col] = encoder.fit_transform(d1[col])\n",
    "    \n",
    "en_df1"
   ]
  },
  {
   "cell_type": "markdown",
   "metadata": {},
   "source": [
    "Building the severity dataframe"
   ]
  },
  {
   "cell_type": "code",
   "execution_count": 23,
   "metadata": {},
   "outputs": [
    {
     "data": {
      "text/html": [
       "<div>\n",
       "<style scoped>\n",
       "    .dataframe tbody tr th:only-of-type {\n",
       "        vertical-align: middle;\n",
       "    }\n",
       "\n",
       "    .dataframe tbody tr th {\n",
       "        vertical-align: top;\n",
       "    }\n",
       "\n",
       "    .dataframe thead th {\n",
       "        text-align: right;\n",
       "    }\n",
       "</style>\n",
       "<table border=\"1\" class=\"dataframe\">\n",
       "  <thead>\n",
       "    <tr style=\"text-align: right;\">\n",
       "      <th></th>\n",
       "      <th>SEVERITYCODE</th>\n",
       "      <th>SEVERITYDESC</th>\n",
       "    </tr>\n",
       "  </thead>\n",
       "  <tbody>\n",
       "    <tr>\n",
       "      <th>0</th>\n",
       "      <td>2</td>\n",
       "      <td>Injury Collision</td>\n",
       "    </tr>\n",
       "    <tr>\n",
       "      <th>1</th>\n",
       "      <td>1</td>\n",
       "      <td>Property Damage Only Collision</td>\n",
       "    </tr>\n",
       "    <tr>\n",
       "      <th>2</th>\n",
       "      <td>1</td>\n",
       "      <td>Property Damage Only Collision</td>\n",
       "    </tr>\n",
       "    <tr>\n",
       "      <th>3</th>\n",
       "      <td>1</td>\n",
       "      <td>Property Damage Only Collision</td>\n",
       "    </tr>\n",
       "    <tr>\n",
       "      <th>4</th>\n",
       "      <td>2</td>\n",
       "      <td>Injury Collision</td>\n",
       "    </tr>\n",
       "    <tr>\n",
       "      <th>...</th>\n",
       "      <td>...</td>\n",
       "      <td>...</td>\n",
       "    </tr>\n",
       "    <tr>\n",
       "      <th>194668</th>\n",
       "      <td>2</td>\n",
       "      <td>Injury Collision</td>\n",
       "    </tr>\n",
       "    <tr>\n",
       "      <th>194669</th>\n",
       "      <td>1</td>\n",
       "      <td>Property Damage Only Collision</td>\n",
       "    </tr>\n",
       "    <tr>\n",
       "      <th>194670</th>\n",
       "      <td>2</td>\n",
       "      <td>Injury Collision</td>\n",
       "    </tr>\n",
       "    <tr>\n",
       "      <th>194671</th>\n",
       "      <td>2</td>\n",
       "      <td>Injury Collision</td>\n",
       "    </tr>\n",
       "    <tr>\n",
       "      <th>194672</th>\n",
       "      <td>1</td>\n",
       "      <td>Property Damage Only Collision</td>\n",
       "    </tr>\n",
       "  </tbody>\n",
       "</table>\n",
       "<p>194673 rows × 2 columns</p>\n",
       "</div>"
      ],
      "text/plain": [
       "        SEVERITYCODE                    SEVERITYDESC\n",
       "0                  2                Injury Collision\n",
       "1                  1  Property Damage Only Collision\n",
       "2                  1  Property Damage Only Collision\n",
       "3                  1  Property Damage Only Collision\n",
       "4                  2                Injury Collision\n",
       "...              ...                             ...\n",
       "194668             2                Injury Collision\n",
       "194669             1  Property Damage Only Collision\n",
       "194670             2                Injury Collision\n",
       "194671             2                Injury Collision\n",
       "194672             1  Property Damage Only Collision\n",
       "\n",
       "[194673 rows x 2 columns]"
      ]
     },
     "execution_count": 23,
     "metadata": {},
     "output_type": "execute_result"
    }
   ],
   "source": [
    "sev_en_df = ['SEVERITYCODE','SEVERITYDESC']\n",
    "sev_en_df = pd.DataFrame(d1[sev_en_df])\n",
    "sev_en_df"
   ]
  },
  {
   "cell_type": "markdown",
   "metadata": {},
   "source": [
    "One Hot Encoding the Severity dataframe."
   ]
  },
  {
   "cell_type": "code",
   "execution_count": 24,
   "metadata": {},
   "outputs": [
    {
     "data": {
      "text/html": [
       "<div>\n",
       "<style scoped>\n",
       "    .dataframe tbody tr th:only-of-type {\n",
       "        vertical-align: middle;\n",
       "    }\n",
       "\n",
       "    .dataframe tbody tr th {\n",
       "        vertical-align: top;\n",
       "    }\n",
       "\n",
       "    .dataframe thead th {\n",
       "        text-align: right;\n",
       "    }\n",
       "</style>\n",
       "<table border=\"1\" class=\"dataframe\">\n",
       "  <thead>\n",
       "    <tr style=\"text-align: right;\">\n",
       "      <th></th>\n",
       "      <th>SEVERITYCODE</th>\n",
       "      <th>SEVERITYDESC</th>\n",
       "    </tr>\n",
       "  </thead>\n",
       "  <tbody>\n",
       "    <tr>\n",
       "      <th>0</th>\n",
       "      <td>1</td>\n",
       "      <td>0</td>\n",
       "    </tr>\n",
       "    <tr>\n",
       "      <th>1</th>\n",
       "      <td>0</td>\n",
       "      <td>1</td>\n",
       "    </tr>\n",
       "    <tr>\n",
       "      <th>2</th>\n",
       "      <td>0</td>\n",
       "      <td>1</td>\n",
       "    </tr>\n",
       "    <tr>\n",
       "      <th>3</th>\n",
       "      <td>0</td>\n",
       "      <td>1</td>\n",
       "    </tr>\n",
       "    <tr>\n",
       "      <th>4</th>\n",
       "      <td>1</td>\n",
       "      <td>0</td>\n",
       "    </tr>\n",
       "    <tr>\n",
       "      <th>...</th>\n",
       "      <td>...</td>\n",
       "      <td>...</td>\n",
       "    </tr>\n",
       "    <tr>\n",
       "      <th>194668</th>\n",
       "      <td>1</td>\n",
       "      <td>0</td>\n",
       "    </tr>\n",
       "    <tr>\n",
       "      <th>194669</th>\n",
       "      <td>0</td>\n",
       "      <td>1</td>\n",
       "    </tr>\n",
       "    <tr>\n",
       "      <th>194670</th>\n",
       "      <td>1</td>\n",
       "      <td>0</td>\n",
       "    </tr>\n",
       "    <tr>\n",
       "      <th>194671</th>\n",
       "      <td>1</td>\n",
       "      <td>0</td>\n",
       "    </tr>\n",
       "    <tr>\n",
       "      <th>194672</th>\n",
       "      <td>0</td>\n",
       "      <td>1</td>\n",
       "    </tr>\n",
       "  </tbody>\n",
       "</table>\n",
       "<p>194673 rows × 2 columns</p>\n",
       "</div>"
      ],
      "text/plain": [
       "        SEVERITYCODE  SEVERITYDESC\n",
       "0                  1             0\n",
       "1                  0             1\n",
       "2                  0             1\n",
       "3                  0             1\n",
       "4                  1             0\n",
       "...              ...           ...\n",
       "194668             1             0\n",
       "194669             0             1\n",
       "194670             1             0\n",
       "194671             1             0\n",
       "194672             0             1\n",
       "\n",
       "[194673 rows x 2 columns]"
      ]
     },
     "execution_count": 24,
     "metadata": {},
     "output_type": "execute_result"
    }
   ],
   "source": [
    "sev_df1 = pd.DataFrame()\n",
    "for col in sev_en_df:\n",
    "    encoder = LabelEncoder()\n",
    "    sev_df1[col] = encoder.fit_transform(d1[col])\n",
    "    \n",
    "sev_df1"
   ]
  },
  {
   "cell_type": "markdown",
   "metadata": {},
   "source": [
    " Merging the label encoded feature set with the target set"
   ]
  },
  {
   "cell_type": "code",
   "execution_count": 25,
   "metadata": {},
   "outputs": [],
   "source": [
    "# Merge the FIRST_CRASH_TYPE and the LabelEncoded dataframe together\n",
    "df_01 = pd.merge(COLLISION_d1, en_df1, left_index=True, right_index=True)"
   ]
  },
  {
   "cell_type": "code",
   "execution_count": 26,
   "metadata": {},
   "outputs": [
    {
     "data": {
      "text/plain": [
       "Index(['Angles', 'Sideswipe', 'Parked Car', 'Other', 'Cycles', 'Rear Ended',\n",
       "       'Head On', 'UNKOWN', 'Left Turn', 'Pedestrian', 'Right Turn', 'WEATHER',\n",
       "       'LIGHTCOND', 'JUNCTIONTYPE', 'UNDERINFL', 'ROADCOND', 'INATTENTIONIND',\n",
       "       'SPEEDING'],\n",
       "      dtype='object')"
      ]
     },
     "execution_count": 26,
     "metadata": {},
     "output_type": "execute_result"
    }
   ],
   "source": [
    "df_01.columns"
   ]
  },
  {
   "cell_type": "markdown",
   "metadata": {},
   "source": [
    "Here we are trying to understand which type of collision has more positive correlation with the severity of the crash.\n",
    "In other words, what is the most severe type of collision."
   ]
  },
  {
   "cell_type": "code",
   "execution_count": 27,
   "metadata": {},
   "outputs": [
    {
     "name": "stdout",
     "output_type": "stream",
     "text": [
      "0.3041475504360142\n"
     ]
    }
   ],
   "source": [
    "col1=sev_df1['SEVERITYDESC']\n",
    "col2=COLLISION_d1['Rear Ended']\n",
    "corr=col1.corr(col2)\n",
    "#corr.style.background_gradient(cmap='coolwarm')\n",
    "print(corr)"
   ]
  },
  {
   "cell_type": "code",
   "execution_count": 28,
   "metadata": {},
   "outputs": [
    {
     "name": "stdout",
     "output_type": "stream",
     "text": [
      "-0.029539833846440273\n"
     ]
    }
   ],
   "source": [
    "col1=sev_df1['SEVERITYDESC']\n",
    "col2=COLLISION_d1['Parked Car']\n",
    "corr=col1.corr(col2)\n",
    "#corr.style.background_gradient(cmap='coolwarm')\n",
    "print(corr)"
   ]
  },
  {
   "cell_type": "code",
   "execution_count": 29,
   "metadata": {},
   "outputs": [
    {
     "name": "stdout",
     "output_type": "stream",
     "text": [
      "-0.09560707447733263\n"
     ]
    }
   ],
   "source": [
    "col1=sev_df1['SEVERITYDESC']\n",
    "col2=COLLISION_d1['Angles']\n",
    "corr=col1.corr(col2)\n",
    "#corr.style.background_gradient(cmap='coolwarm')\n",
    "print(corr)"
   ]
  },
  {
   "cell_type": "markdown",
   "metadata": {},
   "source": [
    "We see that Rear Ended Collisions have a positive correlation with the Severity, while the others exhibit a negative value. \n",
    "Thus moving forward, we will try to describe the causal factors of a Rear Ended Collision and build a classification model that can predict such kind of collisions."
   ]
  },
  {
   "cell_type": "markdown",
   "metadata": {},
   "source": [
    "Define Features and Target"
   ]
  },
  {
   "cell_type": "code",
   "execution_count": 30,
   "metadata": {},
   "outputs": [],
   "source": [
    "# Defining our Features and Target\n",
    "# For X, we want to remove all of the other CRASH types and keep the features.\n",
    "y = df_01['Rear Ended']\n",
    "X = df_01.drop(columns=['Angles', 'Sideswipe', 'Parked Car', 'Other', 'Cycles', 'Rear Ended',\n",
    "       'Head On', 'UNKOWN', 'Left Turn', 'Pedestrian', 'Right Turn'], axis=1)"
   ]
  },
  {
   "cell_type": "code",
   "execution_count": 31,
   "metadata": {},
   "outputs": [
    {
     "data": {
      "text/plain": [
       "Index(['WEATHER', 'LIGHTCOND', 'JUNCTIONTYPE', 'UNDERINFL', 'ROADCOND',\n",
       "       'INATTENTIONIND', 'SPEEDING'],\n",
       "      dtype='object')"
      ]
     },
     "execution_count": 31,
     "metadata": {},
     "output_type": "execute_result"
    }
   ],
   "source": [
    "X.columns"
   ]
  },
  {
   "cell_type": "markdown",
   "metadata": {},
   "source": [
    "## Model Selection and Evaluation : Decision Tree Approach"
   ]
  },
  {
   "cell_type": "code",
   "execution_count": 32,
   "metadata": {},
   "outputs": [],
   "source": [
    "# Train and Test on a basic model (test size to 20%)\n",
    "dt_model = DecisionTreeClassifier(criterion=\"entropy\", random_state=1,max_depth=4)\n",
    "X_train, X_test, y_train, y_test = train_test_split(X, y, test_size=0.20, random_state=42, stratify=y)"
   ]
  },
  {
   "cell_type": "code",
   "execution_count": 33,
   "metadata": {},
   "outputs": [],
   "source": [
    "dt=dt_model.fit(X_train, y_train)"
   ]
  },
  {
   "cell_type": "code",
   "execution_count": 34,
   "metadata": {},
   "outputs": [],
   "source": [
    "y_train_pred = dt_model.predict(X_train)\n",
    "y_test_pred = dt_model.predict(X_test)"
   ]
  },
  {
   "cell_type": "code",
   "execution_count": 35,
   "metadata": {},
   "outputs": [
    {
     "name": "stdout",
     "output_type": "stream",
     "text": [
      "Accuracy Score Train: 0.8086722572525652\n",
      "Accuracy Score Test: 0.8098369076666239\n",
      "ROC_AUC Test: 0.629644421001453\n"
     ]
    }
   ],
   "source": [
    "print(f'Accuracy Score Train: {accuracy_score(y_train, y_train_pred)}')\n",
    "print(f'Accuracy Score Test: {accuracy_score(y_test, y_test_pred)}')\n",
    "print(f'ROC_AUC Test: {roc_auc_score(y_test, y_test_pred)}')"
   ]
  },
  {
   "cell_type": "markdown",
   "metadata": {},
   "source": [
    "AUC stands for \"Area under the ROC Curve.\" i.e, AUC measures the entire two-dimensional area underneath the entire ROC curve. AUC provides an aggregate measure of performance across all possible classification thresholds.\n",
    "\n",
    "\n",
    "Accuracy Score Train: 0.8086722572525652\n",
    "\n",
    "Accuracy Score Test: 0.8098369076666239\n",
    "\n",
    "ROC_AUC Test: 0.629644421001453"
   ]
  },
  {
   "cell_type": "code",
   "execution_count": 40,
   "metadata": {},
   "outputs": [
    {
     "name": "stdout",
     "output_type": "stream",
     "text": [
      "              precision    recall  f1-score   support\n",
      "\n",
      "         0.0       0.80      0.99      0.89    117348\n",
      "         1.0       0.86      0.27      0.41     38390\n",
      "\n",
      "    accuracy                           0.81    155738\n",
      "   macro avg       0.83      0.63      0.65    155738\n",
      "weighted avg       0.82      0.81      0.77    155738\n",
      "\n"
     ]
    },
    {
     "data": {
      "text/plain": [
       "<sklearn.metrics._plot.confusion_matrix.ConfusionMatrixDisplay at 0x136d41a8dc8>"
      ]
     },
     "execution_count": 40,
     "metadata": {},
     "output_type": "execute_result"
    },
    {
     "data": {
      "image/png": "[encoded data removed]",
      "text/plain": [
       "<Figure size 432x288 with 2 Axes>"
      ]
     },
     "metadata": {
      "needs_background": "light"
     },
     "output_type": "display_data"
    }
   ],
   "source": [
    "from sklearn.metrics import classification_report, confusion_matrix\n",
    "threshold = 0.1\n",
    "y_test_pred = y_train_pred >= threshold\n",
    "print(classification_report(y_train, y_test_pred))\n",
    "pd.DataFrame(confusion_matrix(y_train, y_test_pred), \n",
    "             columns=['Predicted Negative', 'Predicted Positive'], \n",
    "             index=['Actual Negative', 'Actual Positive'])\n",
    "plot_confusion_matrix(dt,X_test,y_test)"
   ]
  },
  {
   "cell_type": "code",
   "execution_count": 37,
   "metadata": {},
   "outputs": [
    {
     "name": "stdout",
     "output_type": "stream",
     "text": [
      "Area under the Receiver Operating Characteristic curve: 0.626481926800046\n"
     ]
    },
    {
     "data": {
      "text/plain": [
       "<matplotlib.collections.PathCollection at 0x136dd77a088>"
      ]
     },
     "execution_count": 37,
     "metadata": {},
     "output_type": "execute_result"
    },
    {
     "data": {
      "image/png": "[encoded data removed]",
      "text/plain": [
       "<Figure size 432x288 with 1 Axes>"
      ]
     },
     "metadata": {
      "needs_background": "light"
     },
     "output_type": "display_data"
    }
   ],
   "source": [
    "from sklearn.metrics import roc_auc_score, roc_curve\n",
    "fpr, tpr, thresholds = roc_curve(y_train, y_test_pred)\n",
    "plt.plot(fpr, tpr)\n",
    "plt.title('ROC curve')\n",
    "plt.xlabel('False Positive Rate')\n",
    "plt.ylabel('True Positive Rate')\n",
    "print('Area under the Receiver Operating Characteristic curve:', \n",
    "      roc_auc_score(y_train, y_test_pred))\n",
    "    \n",
    "# When threshold = 0.1\n",
    "false_positives = 28135\n",
    "true_positives = 10255\n",
    "actual_negative=115686\n",
    "actual_positive=1662\n",
    "false_positive_rate = false_positives/actual_negative\n",
    "true_positive_rate = true_positives/actual_positive\n",
    "plt.scatter(false_positive_rate, true_positive_rate)\n"
   ]
  },
  {
   "cell_type": "markdown",
   "metadata": {},
   "source": [
    "## Model Selection and Evaluation : Logistic Regression"
   ]
  },
  {
   "cell_type": "code",
   "execution_count": 39,
   "metadata": {},
   "outputs": [
    {
     "name": "stdout",
     "output_type": "stream",
     "text": [
      "0.7837421343264415\n",
      "              precision    recall  f1-score   support\n",
      "\n",
      "         0.0       0.80      0.95      0.87     29252\n",
      "         1.0       0.66      0.27      0.39      9683\n",
      "\n",
      "    accuracy                           0.78     38935\n",
      "   macro avg       0.73      0.61      0.63     38935\n",
      "weighted avg       0.76      0.78      0.75     38935\n",
      "\n"
     ]
    },
    {
     "data": {
      "image/png": "[encoded data removed]",
      "text/plain": [
       "<Figure size 432x288 with 2 Axes>"
      ]
     },
     "metadata": {
      "needs_background": "light"
     },
     "output_type": "display_data"
    }
   ],
   "source": [
    "from sklearn.linear_model import LogisticRegression\n",
    "from sklearn.metrics import plot_confusion_matrix\n",
    "from sklearn.model_selection import train_test_split\n",
    "from sklearn.metrics import classification_report\n",
    "\n",
    "\n",
    "LR = LogisticRegression(max_iter=100000)\n",
    "\n",
    "X_train1, X_test1, y_train1, y_test1 = train_test_split(X,y,test_size=0.20)\n",
    "\n",
    "LR.fit(X_train1,y_train1)\n",
    "score = LR.score(X_test1, y_test1)\n",
    "print(score)\n",
    "\n",
    "\n",
    "plot_confusion_matrix(LR,X_test1,y_test1)\n",
    "\n",
    "y_pred = LR.predict(X_test1) \n",
    "print(classification_report(y_test1, y_pred))"
   ]
  },
  {
   "cell_type": "code",
   "execution_count": 41,
   "metadata": {},
   "outputs": [],
   "source": [
    "y_train_pred1 = LR.predict(X_train1)\n",
    "y_test_pred1 = LR.predict(X_test1)"
   ]
  },
  {
   "cell_type": "code",
   "execution_count": 42,
   "metadata": {},
   "outputs": [
    {
     "name": "stdout",
     "output_type": "stream",
     "text": [
      "              precision    recall  f1-score   support\n",
      "\n",
      "         0.0       0.80      0.95      0.87    117434\n",
      "         1.0       0.65      0.28      0.39     38304\n",
      "\n",
      "    accuracy                           0.79    155738\n",
      "   macro avg       0.73      0.62      0.63    155738\n",
      "weighted avg       0.76      0.79      0.75    155738\n",
      "\n"
     ]
    },
    {
     "data": {
      "text/html": [
       "<div>\n",
       "<style scoped>\n",
       "    .dataframe tbody tr th:only-of-type {\n",
       "        vertical-align: middle;\n",
       "    }\n",
       "\n",
       "    .dataframe tbody tr th {\n",
       "        vertical-align: top;\n",
       "    }\n",
       "\n",
       "    .dataframe thead th {\n",
       "        text-align: right;\n",
       "    }\n",
       "</style>\n",
       "<table border=\"1\" class=\"dataframe\">\n",
       "  <thead>\n",
       "    <tr style=\"text-align: right;\">\n",
       "      <th></th>\n",
       "      <th>Predicted Negative</th>\n",
       "      <th>Predicted Positive</th>\n",
       "    </tr>\n",
       "  </thead>\n",
       "  <tbody>\n",
       "    <tr>\n",
       "      <th>Actual Negative</th>\n",
       "      <td>111623</td>\n",
       "      <td>5811</td>\n",
       "    </tr>\n",
       "    <tr>\n",
       "      <th>Actual Positive</th>\n",
       "      <td>27531</td>\n",
       "      <td>10773</td>\n",
       "    </tr>\n",
       "  </tbody>\n",
       "</table>\n",
       "</div>"
      ],
      "text/plain": [
       "                 Predicted Negative  Predicted Positive\n",
       "Actual Negative              111623                5811\n",
       "Actual Positive               27531               10773"
      ]
     },
     "execution_count": 42,
     "metadata": {},
     "output_type": "execute_result"
    }
   ],
   "source": [
    "from sklearn.metrics import classification_report, confusion_matrix\n",
    "threshold = 0.1\n",
    "y_test_pred1 = y_train_pred1 >= threshold\n",
    "print(classification_report(y_train1, y_test_pred1))\n",
    "pd.DataFrame(confusion_matrix(y_train1, y_test_pred1), \n",
    "             columns=['Predicted Negative', 'Predicted Positive'], \n",
    "             index=['Actual Negative', 'Actual Positive'])"
   ]
  },
  {
   "cell_type": "code",
   "execution_count": 52,
   "metadata": {},
   "outputs": [
    {
     "name": "stdout",
     "output_type": "stream",
     "text": [
      "Area under the Receiver Operating Characteristic curve: 0.616224703367608\n"
     ]
    },
    {
     "data": {
      "text/plain": [
       "<matplotlib.collections.PathCollection at 0x1b21a909088>"
      ]
     },
     "execution_count": 52,
     "metadata": {},
     "output_type": "execute_result"
    },
    {
     "data": {
      "image/png": "[encoded data removed]",
      "text/plain": [
       "<Figure size 432x288 with 1 Axes>"
      ]
     },
     "metadata": {
      "needs_background": "light"
     },
     "output_type": "display_data"
    }
   ],
   "source": [
    "from sklearn.metrics import roc_auc_score, roc_curve\n",
    "fpr, tpr, thresholds = roc_curve(y_train, y_test_pred)\n",
    "plt.plot(fpr, tpr)\n",
    "plt.title('ROC curve')\n",
    "plt.xlabel('False Positive Rate')\n",
    "plt.ylabel('True Positive Rate')\n",
    "print('Area under the Receiver Operating Characteristic curve:', \n",
    "      roc_auc_score(y_train1, y_test_pred1))\n",
    "    \n",
    "# When threshold = 0.1\n",
    "false_positives = 27637\n",
    "true_positives = 10807\n",
    "actual_negative=111529\n",
    "actual_positive=5765\n",
    "false_positive_rate = false_positives/actual_negative\n",
    "true_positive_rate = true_positives/actual_positive\n",
    "plt.scatter(false_positive_rate, true_positive_rate)\n"
   ]
  },
  {
   "cell_type": "markdown",
   "metadata": {},
   "source": [
    "The ROC_AUC is more for the Decision Tree Model as compared to the LR model, which means the DT model is a better classifier to identify 'Rear Ended' crashes as compared to the LR model.\n",
    "Now we will see what are the factors that contribiute most to a rear-ended collision"
   ]
  },
  {
   "cell_type": "markdown",
   "metadata": {},
   "source": [
    "### Feature Analysis"
   ]
  },
  {
   "cell_type": "code",
   "execution_count": 43,
   "metadata": {},
   "outputs": [
    {
     "data": {
      "text/plain": [
       "array([0.06589552, 0.18883926, 0.73985725, 0.00193009, 0.00090225,\n",
       "       0.00094191, 0.00163371])"
      ]
     },
     "execution_count": 43,
     "metadata": {},
     "output_type": "execute_result"
    }
   ],
   "source": [
    "# Lets look at which feature is the most important\n",
    "dt_model.feature_importances_"
   ]
  },
  {
   "cell_type": "code",
   "execution_count": 44,
   "metadata": {},
   "outputs": [
    {
     "data": {
      "text/html": [
       "<div>\n",
       "<style scoped>\n",
       "    .dataframe tbody tr th:only-of-type {\n",
       "        vertical-align: middle;\n",
       "    }\n",
       "\n",
       "    .dataframe tbody tr th {\n",
       "        vertical-align: top;\n",
       "    }\n",
       "\n",
       "    .dataframe thead th {\n",
       "        text-align: right;\n",
       "    }\n",
       "</style>\n",
       "<table border=\"1\" class=\"dataframe\">\n",
       "  <thead>\n",
       "    <tr style=\"text-align: right;\">\n",
       "      <th></th>\n",
       "      <th>WEATHER</th>\n",
       "      <th>LIGHTCOND</th>\n",
       "      <th>JUNCTIONTYPE</th>\n",
       "      <th>UNDERINFL</th>\n",
       "      <th>ROADCOND</th>\n",
       "      <th>INATTENTIONIND</th>\n",
       "      <th>SPEEDING</th>\n",
       "    </tr>\n",
       "  </thead>\n",
       "  <tbody>\n",
       "    <tr>\n",
       "      <th>0</th>\n",
       "      <td>4</td>\n",
       "      <td>5</td>\n",
       "      <td>1</td>\n",
       "      <td>2</td>\n",
       "      <td>9</td>\n",
       "      <td>0</td>\n",
       "      <td>0</td>\n",
       "    </tr>\n",
       "    <tr>\n",
       "      <th>1</th>\n",
       "      <td>6</td>\n",
       "      <td>2</td>\n",
       "      <td>4</td>\n",
       "      <td>0</td>\n",
       "      <td>9</td>\n",
       "      <td>0</td>\n",
       "      <td>0</td>\n",
       "    </tr>\n",
       "    <tr>\n",
       "      <th>2</th>\n",
       "      <td>4</td>\n",
       "      <td>5</td>\n",
       "      <td>4</td>\n",
       "      <td>0</td>\n",
       "      <td>0</td>\n",
       "      <td>0</td>\n",
       "      <td>0</td>\n",
       "    </tr>\n",
       "    <tr>\n",
       "      <th>3</th>\n",
       "      <td>1</td>\n",
       "      <td>5</td>\n",
       "      <td>4</td>\n",
       "      <td>2</td>\n",
       "      <td>0</td>\n",
       "      <td>0</td>\n",
       "      <td>0</td>\n",
       "    </tr>\n",
       "    <tr>\n",
       "      <th>4</th>\n",
       "      <td>6</td>\n",
       "      <td>5</td>\n",
       "      <td>1</td>\n",
       "      <td>0</td>\n",
       "      <td>9</td>\n",
       "      <td>0</td>\n",
       "      <td>0</td>\n",
       "    </tr>\n",
       "    <tr>\n",
       "      <th>...</th>\n",
       "      <td>...</td>\n",
       "      <td>...</td>\n",
       "      <td>...</td>\n",
       "      <td>...</td>\n",
       "      <td>...</td>\n",
       "      <td>...</td>\n",
       "      <td>...</td>\n",
       "    </tr>\n",
       "    <tr>\n",
       "      <th>194668</th>\n",
       "      <td>1</td>\n",
       "      <td>5</td>\n",
       "      <td>4</td>\n",
       "      <td>2</td>\n",
       "      <td>0</td>\n",
       "      <td>0</td>\n",
       "      <td>0</td>\n",
       "    </tr>\n",
       "    <tr>\n",
       "      <th>194669</th>\n",
       "      <td>6</td>\n",
       "      <td>5</td>\n",
       "      <td>4</td>\n",
       "      <td>2</td>\n",
       "      <td>9</td>\n",
       "      <td>1</td>\n",
       "      <td>0</td>\n",
       "    </tr>\n",
       "    <tr>\n",
       "      <th>194670</th>\n",
       "      <td>1</td>\n",
       "      <td>5</td>\n",
       "      <td>1</td>\n",
       "      <td>2</td>\n",
       "      <td>0</td>\n",
       "      <td>0</td>\n",
       "      <td>0</td>\n",
       "    </tr>\n",
       "    <tr>\n",
       "      <th>194671</th>\n",
       "      <td>1</td>\n",
       "      <td>6</td>\n",
       "      <td>1</td>\n",
       "      <td>2</td>\n",
       "      <td>0</td>\n",
       "      <td>0</td>\n",
       "      <td>0</td>\n",
       "    </tr>\n",
       "    <tr>\n",
       "      <th>194672</th>\n",
       "      <td>1</td>\n",
       "      <td>5</td>\n",
       "      <td>4</td>\n",
       "      <td>2</td>\n",
       "      <td>9</td>\n",
       "      <td>0</td>\n",
       "      <td>0</td>\n",
       "    </tr>\n",
       "  </tbody>\n",
       "</table>\n",
       "<p>194673 rows × 7 columns</p>\n",
       "</div>"
      ],
      "text/plain": [
       "        WEATHER  LIGHTCOND  JUNCTIONTYPE  UNDERINFL  ROADCOND  INATTENTIONIND  \\\n",
       "0             4          5             1          2         9               0   \n",
       "1             6          2             4          0         9               0   \n",
       "2             4          5             4          0         0               0   \n",
       "3             1          5             4          2         0               0   \n",
       "4             6          5             1          0         9               0   \n",
       "...         ...        ...           ...        ...       ...             ...   \n",
       "194668        1          5             4          2         0               0   \n",
       "194669        6          5             4          2         9               1   \n",
       "194670        1          5             1          2         0               0   \n",
       "194671        1          6             1          2         0               0   \n",
       "194672        1          5             4          2         9               0   \n",
       "\n",
       "        SPEEDING  \n",
       "0              0  \n",
       "1              0  \n",
       "2              0  \n",
       "3              0  \n",
       "4              0  \n",
       "...          ...  \n",
       "194668         0  \n",
       "194669         0  \n",
       "194670         0  \n",
       "194671         0  \n",
       "194672         0  \n",
       "\n",
       "[194673 rows x 7 columns]"
      ]
     },
     "execution_count": 44,
     "metadata": {},
     "output_type": "execute_result"
    }
   ],
   "source": [
    "# LIGHTING_CONDITION, JUNCTION TYPE\n",
    "# seems to be the most important\n",
    "X"
   ]
  },
  {
   "cell_type": "code",
   "execution_count": 45,
   "metadata": {},
   "outputs": [
    {
     "name": "stdout",
     "output_type": "stream",
     "text": [
      "Feature ranking:\n",
      "1. feature 2 (0.739857)\n",
      "2. feature 1 (0.188839)\n",
      "3. feature 0 (0.065896)\n",
      "4. feature 3 (0.001930)\n",
      "5. feature 6 (0.001634)\n",
      "6. feature 5 (0.000942)\n",
      "7. feature 4 (0.000902)\n"
     ]
    },
    {
     "data": {
      "image/png": "[encoded data removed]",
      "text/plain": [
       "<Figure size 432x288 with 1 Axes>"
      ]
     },
     "metadata": {
      "needs_background": "light"
     },
     "output_type": "display_data"
    }
   ],
   "source": [
    "# Here we graph out which feature is the most imporant.\n",
    "\n",
    "importances = dt_model.feature_importances_\n",
    "indices = np.argsort(importances)[::-1]\n",
    "\n",
    "# Print the feature ranking\n",
    "print(\"Feature ranking:\")\n",
    "\n",
    "for f in range(X.shape[1]):\n",
    "    print(\"%d. feature %d (%f)\" % (f + 1, indices[f], importances[indices[f]]))\n",
    "\n",
    "# Plot the feature importances of the forest\n",
    "plt.figure()\n",
    "plt.title(\"DecisionTree Feature importances\")\n",
    "plt.bar(range(X.shape[1]), importances[indices],\n",
    "       color=\"r\", align=\"center\")\n",
    "plt.xticks(range(X.shape[1]), indices)\n",
    "plt.xlim([-1, X.shape[1]])\n",
    "plt.show()"
   ]
  },
  {
   "cell_type": "markdown",
   "metadata": {},
   "source": [
    "We have determined the causal factors for rear end collisions. Nowe we try to visualise the decision tree, as how each of the factors contribute to a rear end collision."
   ]
  },
  {
   "cell_type": "markdown",
   "metadata": {},
   "source": [
    "### Building the Decision Tree"
   ]
  },
  {
   "cell_type": "code",
   "execution_count": 56,
   "metadata": {},
   "outputs": [
    {
     "name": "stdout",
     "output_type": "stream",
     "text": [
      "Collecting package metadata (current_repodata.json): ...working... done\n",
      "Solving environment: ...working... done\n",
      "\n",
      "# All requested packages already installed.\n",
      "\n",
      "Collecting package metadata (current_repodata.json): ...working... done\n",
      "Solving environment: ...working... done\n",
      "\n",
      "# All requested packages already installed.\n",
      "\n"
     ]
    }
   ],
   "source": [
    "!conda install -c conda-forge pydotplus -y\n",
    "!conda install -c conda-forge python-graphviz -y"
   ]
  },
  {
   "cell_type": "code",
   "execution_count": 57,
   "metadata": {},
   "outputs": [],
   "source": [
    "import os\n",
    "os.environ[\"PATH\"] += os.pathsep + r'C:\\Users\\ShubhobrotoDey\\anaconda3\\Library\\bin\\graphviz'"
   ]
  },
  {
   "cell_type": "code",
   "execution_count": 58,
   "metadata": {},
   "outputs": [],
   "source": [
    "import graphviz\n",
    "\n",
    "\n",
    "# This plot tree helper function can plot the DecisionTreeClassifier \n",
    "# We can check what feature our model is splitting on and what are the requirements\n",
    "def plot_tree(dt_model, used_cols, out_file='mytree.png'):\n",
    "    export_graphviz(dt_model, out_file=out_file, \n",
    "                    filled=True, feature_names=used_cols, \n",
    "                    leaves_parallel=True, node_ids=True)\n",
    "    with open(out_file) as f:\n",
    "        dot_graph = f.read()\n",
    "    return graphviz.Source(dot_graph)\n",
    "\n"
   ]
  },
  {
   "cell_type": "code",
   "execution_count": 59,
   "metadata": {},
   "outputs": [
    {
     "data": {
      "image/svg+xml": [
       "<?xml version=\"1.0\" encoding=\"UTF-8\" standalone=\"no\"?>\r\n",
       "<!DOCTYPE svg PUBLIC \"-//W3C//DTD SVG 1.1//EN\"\r\n",
       " \"http://www.w3.org/Graphics/SVG/1.1/DTD/svg11.dtd\">\r\n",
       "<!-- Generated by graphviz version 2.38.0 (20140413.2041)\r\n",
       " -->\r\n",
       "<!-- Title: Tree Pages: 1 -->\r\n",
       "<svg width=\"4067pt\" height=\"679pt\"\r\n",
       " viewBox=\"0.00 0.00 4067.00 678.50\" xmlns=\"http://www.w3.org/2000/svg\" xmlns:xlink=\"http://www.w3.org/1999/xlink\">\r\n",
       "<g id=\"graph0\" class=\"graph\" transform=\"scale(1 1) rotate(0) translate(4 674.5)\">\r\n",
       "<title>Tree</title>\r\n",
       "<polygon fill=\"white\" stroke=\"none\" points=\"-4,4 -4,-674.5 4063,-674.5 4063,4 -4,4\"/>\r\n",
       "<!-- 0 -->\r\n",
       "<g id=\"node1\" class=\"node\"><title>0</title>\r\n",
       "<polygon fill=\"#eeaa7a\" stroke=\"black\" points=\"2310,-670.5 2149,-670.5 2149,-587.5 2310,-587.5 2310,-670.5\"/>\r\n",
       "<text text-anchor=\"middle\" x=\"2229.5\" y=\"-655.3\" font-family=\"Times New Roman,serif\" font-size=\"14.00\">node #0</text>\r\n",
       "<text text-anchor=\"middle\" x=\"2229.5\" y=\"-640.3\" font-family=\"Times New Roman,serif\" font-size=\"14.00\">JUNCTIONTYPE &lt;= 3.5</text>\r\n",
       "<text text-anchor=\"middle\" x=\"2229.5\" y=\"-625.3\" font-family=\"Times New Roman,serif\" font-size=\"14.00\">gini = 0.371</text>\r\n",
       "<text text-anchor=\"middle\" x=\"2229.5\" y=\"-610.3\" font-family=\"Times New Roman,serif\" font-size=\"14.00\">samples = 155738</text>\r\n",
       "<text text-anchor=\"middle\" x=\"2229.5\" y=\"-595.3\" font-family=\"Times New Roman,serif\" font-size=\"14.00\">value = [117348, 38390]</text>\r\n",
       "</g>\r\n",
       "<!-- 1 -->\r\n",
       "<g id=\"node2\" class=\"node\"><title>1</title>\r\n",
       "<polygon fill=\"#e68844\" stroke=\"black\" points=\"1724,-551.5 1563,-551.5 1563,-468.5 1724,-468.5 1724,-551.5\"/>\r\n",
       "<text text-anchor=\"middle\" x=\"1643.5\" y=\"-536.3\" font-family=\"Times New Roman,serif\" font-size=\"14.00\">node #1</text>\r\n",
       "<text text-anchor=\"middle\" x=\"1643.5\" y=\"-521.3\" font-family=\"Times New Roman,serif\" font-size=\"14.00\">JUNCTIONTYPE &lt;= 1.5</text>\r\n",
       "<text text-anchor=\"middle\" x=\"1643.5\" y=\"-506.3\" font-family=\"Times New Roman,serif\" font-size=\"14.00\">gini = 0.099</text>\r\n",
       "<text text-anchor=\"middle\" x=\"1643.5\" y=\"-491.3\" font-family=\"Times New Roman,serif\" font-size=\"14.00\">samples = 78557</text>\r\n",
       "<text text-anchor=\"middle\" x=\"1643.5\" y=\"-476.3\" font-family=\"Times New Roman,serif\" font-size=\"14.00\">value = [74447, 4110]</text>\r\n",
       "</g>\r\n",
       "<!-- 0&#45;&gt;1 -->\r\n",
       "<g id=\"edge1\" class=\"edge\"><title>0&#45;&gt;1</title>\r\n",
       "<path fill=\"none\" stroke=\"black\" d=\"M2148.94,-611.916C2040.38,-590.24 1847.67,-551.764 1734.16,-529.1\"/>\r\n",
       "<polygon fill=\"black\" stroke=\"black\" points=\"1734.59,-525.618 1724.1,-527.092 1733.22,-532.482 1734.59,-525.618\"/>\r\n",
       "<text text-anchor=\"middle\" x=\"1737.97\" y=\"-544.189\" font-family=\"Times New Roman,serif\" font-size=\"14.00\">True</text>\r\n",
       "</g>\r\n",
       "<!-- 32 -->\r\n",
       "<g id=\"node33\" class=\"node\"><title>32</title>\r\n",
       "<polygon fill=\"#fae6d7\" stroke=\"black\" points=\"2773,-551.5 2628,-551.5 2628,-468.5 2773,-468.5 2773,-551.5\"/>\r\n",
       "<text text-anchor=\"middle\" x=\"2700.5\" y=\"-536.3\" font-family=\"Times New Roman,serif\" font-size=\"14.00\">node #32</text>\r\n",
       "<text text-anchor=\"middle\" x=\"2700.5\" y=\"-521.3\" font-family=\"Times New Roman,serif\" font-size=\"14.00\">LIGHTCOND &lt;= 7.5</text>\r\n",
       "<text text-anchor=\"middle\" x=\"2700.5\" y=\"-506.3\" font-family=\"Times New Roman,serif\" font-size=\"14.00\">gini = 0.494</text>\r\n",
       "<text text-anchor=\"middle\" x=\"2700.5\" y=\"-491.3\" font-family=\"Times New Roman,serif\" font-size=\"14.00\">samples = 77181</text>\r\n",
       "<text text-anchor=\"middle\" x=\"2700.5\" y=\"-476.3\" font-family=\"Times New Roman,serif\" font-size=\"14.00\">value = [42901, 34280]</text>\r\n",
       "</g>\r\n",
       "<!-- 0&#45;&gt;32 -->\r\n",
       "<g id=\"edge32\" class=\"edge\"><title>0&#45;&gt;32</title>\r\n",
       "<path fill=\"none\" stroke=\"black\" d=\"M2310.2,-607.953C2396.14,-586.606 2531.44,-552.995 2618.04,-531.483\"/>\r\n",
       "<polygon fill=\"black\" stroke=\"black\" points=\"2618.97,-534.858 2627.83,-529.051 2617.29,-528.065 2618.97,-534.858\"/>\r\n",
       "<text text-anchor=\"middle\" x=\"2614.94\" y=\"-546.769\" font-family=\"Times New Roman,serif\" font-size=\"14.00\">False</text>\r\n",
       "</g>\r\n",
       "<!-- 2 -->\r\n",
       "<g id=\"node3\" class=\"node\"><title>2</title>\r\n",
       "<polygon fill=\"#e5833d\" stroke=\"black\" points=\"868.5,-432.5 728.5,-432.5 728.5,-349.5 868.5,-349.5 868.5,-432.5\"/>\r\n",
       "<text text-anchor=\"middle\" x=\"798.5\" y=\"-417.3\" font-family=\"Times New Roman,serif\" font-size=\"14.00\">node #2</text>\r\n",
       "<text text-anchor=\"middle\" x=\"798.5\" y=\"-402.3\" font-family=\"Times New Roman,serif\" font-size=\"14.00\">LIGHTCOND &lt;= 7.5</text>\r\n",
       "<text text-anchor=\"middle\" x=\"798.5\" y=\"-387.3\" font-family=\"Times New Roman,serif\" font-size=\"14.00\">gini = 0.037</text>\r\n",
       "<text text-anchor=\"middle\" x=\"798.5\" y=\"-372.3\" font-family=\"Times New Roman,serif\" font-size=\"14.00\">samples = 51868</text>\r\n",
       "<text text-anchor=\"middle\" x=\"798.5\" y=\"-357.3\" font-family=\"Times New Roman,serif\" font-size=\"14.00\">value = [50892, 976]</text>\r\n",
       "</g>\r\n",
       "<!-- 1&#45;&gt;2 -->\r\n",
       "<g id=\"edge2\" class=\"edge\"><title>1&#45;&gt;2</title>\r\n",
       "<path fill=\"none\" stroke=\"black\" d=\"M1562.86,-497.835C1401.4,-475.478 1040.1,-425.453 878.865,-403.127\"/>\r\n",
       "<polygon fill=\"black\" stroke=\"black\" points=\"878.923,-399.602 868.538,-401.698 877.963,-406.536 878.923,-399.602\"/>\r\n",
       "</g>\r\n",
       "<!-- 17 -->\r\n",
       "<g id=\"node18\" class=\"node\"><title>17</title>\r\n",
       "<polygon fill=\"#e89253\" stroke=\"black\" points=\"1713.5,-432.5 1573.5,-432.5 1573.5,-349.5 1713.5,-349.5 1713.5,-432.5\"/>\r\n",
       "<text text-anchor=\"middle\" x=\"1643.5\" y=\"-417.3\" font-family=\"Times New Roman,serif\" font-size=\"14.00\">node #17</text>\r\n",
       "<text text-anchor=\"middle\" x=\"1643.5\" y=\"-402.3\" font-family=\"Times New Roman,serif\" font-size=\"14.00\">LIGHTCOND &lt;= 7.5</text>\r\n",
       "<text text-anchor=\"middle\" x=\"1643.5\" y=\"-387.3\" font-family=\"Times New Roman,serif\" font-size=\"14.00\">gini = 0.207</text>\r\n",
       "<text text-anchor=\"middle\" x=\"1643.5\" y=\"-372.3\" font-family=\"Times New Roman,serif\" font-size=\"14.00\">samples = 26689</text>\r\n",
       "<text text-anchor=\"middle\" x=\"1643.5\" y=\"-357.3\" font-family=\"Times New Roman,serif\" font-size=\"14.00\">value = [23555, 3134]</text>\r\n",
       "</g>\r\n",
       "<!-- 1&#45;&gt;17 -->\r\n",
       "<g id=\"edge17\" class=\"edge\"><title>1&#45;&gt;17</title>\r\n",
       "<path fill=\"none\" stroke=\"black\" d=\"M1643.5,-468.407C1643.5,-460.149 1643.5,-451.364 1643.5,-442.802\"/>\r\n",
       "<polygon fill=\"black\" stroke=\"black\" points=\"1647,-442.521 1643.5,-432.521 1640,-442.521 1647,-442.521\"/>\r\n",
       "</g>\r\n",
       "<!-- 3 -->\r\n",
       "<g id=\"node4\" class=\"node\"><title>3</title>\r\n",
       "<polygon fill=\"#e5833c\" stroke=\"black\" points=\"494,-313.5 333,-313.5 333,-230.5 494,-230.5 494,-313.5\"/>\r\n",
       "<text text-anchor=\"middle\" x=\"413.5\" y=\"-298.3\" font-family=\"Times New Roman,serif\" font-size=\"14.00\">node #3</text>\r\n",
       "<text text-anchor=\"middle\" x=\"413.5\" y=\"-283.3\" font-family=\"Times New Roman,serif\" font-size=\"14.00\">JUNCTIONTYPE &lt;= 0.5</text>\r\n",
       "<text text-anchor=\"middle\" x=\"413.5\" y=\"-268.3\" font-family=\"Times New Roman,serif\" font-size=\"14.00\">gini = 0.028</text>\r\n",
       "<text text-anchor=\"middle\" x=\"413.5\" y=\"-253.3\" font-family=\"Times New Roman,serif\" font-size=\"14.00\">samples = 50934</text>\r\n",
       "<text text-anchor=\"middle\" x=\"413.5\" y=\"-238.3\" font-family=\"Times New Roman,serif\" font-size=\"14.00\">value = [50206, 728]</text>\r\n",
       "</g>\r\n",
       "<!-- 2&#45;&gt;3 -->\r\n",
       "<g id=\"edge3\" class=\"edge\"><title>2&#45;&gt;3</title>\r\n",
       "<path fill=\"none\" stroke=\"black\" d=\"M728.333,-368.676C665.386,-349.547 572.64,-321.362 504.105,-300.534\"/>\r\n",
       "<polygon fill=\"black\" stroke=\"black\" points=\"504.761,-297.076 494.175,-297.517 502.725,-303.773 504.761,-297.076\"/>\r\n",
       "</g>\r\n",
       "<!-- 10 -->\r\n",
       "<g id=\"node11\" class=\"node\"><title>10</title>\r\n",
       "<polygon fill=\"#eeaf81\" stroke=\"black\" points=\"879,-313.5 718,-313.5 718,-230.5 879,-230.5 879,-313.5\"/>\r\n",
       "<text text-anchor=\"middle\" x=\"798.5\" y=\"-298.3\" font-family=\"Times New Roman,serif\" font-size=\"14.00\">node #10</text>\r\n",
       "<text text-anchor=\"middle\" x=\"798.5\" y=\"-283.3\" font-family=\"Times New Roman,serif\" font-size=\"14.00\">JUNCTIONTYPE &lt;= 0.5</text>\r\n",
       "<text text-anchor=\"middle\" x=\"798.5\" y=\"-268.3\" font-family=\"Times New Roman,serif\" font-size=\"14.00\">gini = 0.39</text>\r\n",
       "<text text-anchor=\"middle\" x=\"798.5\" y=\"-253.3\" font-family=\"Times New Roman,serif\" font-size=\"14.00\">samples = 934</text>\r\n",
       "<text text-anchor=\"middle\" x=\"798.5\" y=\"-238.3\" font-family=\"Times New Roman,serif\" font-size=\"14.00\">value = [686, 248]</text>\r\n",
       "</g>\r\n",
       "<!-- 2&#45;&gt;10 -->\r\n",
       "<g id=\"edge10\" class=\"edge\"><title>2&#45;&gt;10</title>\r\n",
       "<path fill=\"none\" stroke=\"black\" d=\"M798.5,-349.407C798.5,-341.149 798.5,-332.364 798.5,-323.802\"/>\r\n",
       "<polygon fill=\"black\" stroke=\"black\" points=\"802,-323.521 798.5,-313.521 795,-323.521 802,-323.521\"/>\r\n",
       "</g>\r\n",
       "<!-- 4 -->\r\n",
       "<g id=\"node5\" class=\"node\"><title>4</title>\r\n",
       "<polygon fill=\"#e89051\" stroke=\"black\" points=\"258.5,-194.5 118.5,-194.5 118.5,-111.5 258.5,-111.5 258.5,-194.5\"/>\r\n",
       "<text text-anchor=\"middle\" x=\"188.5\" y=\"-179.3\" font-family=\"Times New Roman,serif\" font-size=\"14.00\">node #4</text>\r\n",
       "<text text-anchor=\"middle\" x=\"188.5\" y=\"-164.3\" font-family=\"Times New Roman,serif\" font-size=\"14.00\">LIGHTCOND &lt;= 3.0</text>\r\n",
       "<text text-anchor=\"middle\" x=\"188.5\" y=\"-149.3\" font-family=\"Times New Roman,serif\" font-size=\"14.00\">gini = 0.192</text>\r\n",
       "<text text-anchor=\"middle\" x=\"188.5\" y=\"-134.3\" font-family=\"Times New Roman,serif\" font-size=\"14.00\">samples = 1476</text>\r\n",
       "<text text-anchor=\"middle\" x=\"188.5\" y=\"-119.3\" font-family=\"Times New Roman,serif\" font-size=\"14.00\">value = [1317, 159]</text>\r\n",
       "</g>\r\n",
       "<!-- 3&#45;&gt;4 -->\r\n",
       "<g id=\"edge4\" class=\"edge\"><title>3&#45;&gt;4</title>\r\n",
       "<path fill=\"none\" stroke=\"black\" d=\"M335.437,-230.407C313.461,-218.98 289.544,-206.543 267.513,-195.087\"/>\r\n",
       "<polygon fill=\"black\" stroke=\"black\" points=\"269.011,-191.921 258.524,-190.413 265.782,-198.131 269.011,-191.921\"/>\r\n",
       "</g>\r\n",
       "<!-- 7 -->\r\n",
       "<g id=\"node8\" class=\"node\"><title>7</title>\r\n",
       "<polygon fill=\"#e5823b\" stroke=\"black\" points=\"483.5,-194.5 343.5,-194.5 343.5,-111.5 483.5,-111.5 483.5,-194.5\"/>\r\n",
       "<text text-anchor=\"middle\" x=\"413.5\" y=\"-179.3\" font-family=\"Times New Roman,serif\" font-size=\"14.00\">node #7</text>\r\n",
       "<text text-anchor=\"middle\" x=\"413.5\" y=\"-164.3\" font-family=\"Times New Roman,serif\" font-size=\"14.00\">LIGHTCOND &lt;= 2.5</text>\r\n",
       "<text text-anchor=\"middle\" x=\"413.5\" y=\"-149.3\" font-family=\"Times New Roman,serif\" font-size=\"14.00\">gini = 0.023</text>\r\n",
       "<text text-anchor=\"middle\" x=\"413.5\" y=\"-134.3\" font-family=\"Times New Roman,serif\" font-size=\"14.00\">samples = 49458</text>\r\n",
       "<text text-anchor=\"middle\" x=\"413.5\" y=\"-119.3\" font-family=\"Times New Roman,serif\" font-size=\"14.00\">value = [48889, 569]</text>\r\n",
       "</g>\r\n",
       "<!-- 3&#45;&gt;7 -->\r\n",
       "<g id=\"edge7\" class=\"edge\"><title>3&#45;&gt;7</title>\r\n",
       "<path fill=\"none\" stroke=\"black\" d=\"M413.5,-230.407C413.5,-222.149 413.5,-213.364 413.5,-204.802\"/>\r\n",
       "<polygon fill=\"black\" stroke=\"black\" points=\"417,-204.521 413.5,-194.521 410,-204.521 417,-204.521\"/>\r\n",
       "</g>\r\n",
       "<!-- 5 -->\r\n",
       "<g id=\"node6\" class=\"node\"><title>5</title>\r\n",
       "<polygon fill=\"#ea985d\" stroke=\"black\" points=\"111,-68 0,-68 0,-0 111,-0 111,-68\"/>\r\n",
       "<text text-anchor=\"middle\" x=\"55.5\" y=\"-52.8\" font-family=\"Times New Roman,serif\" font-size=\"14.00\">node #5</text>\r\n",
       "<text text-anchor=\"middle\" x=\"55.5\" y=\"-37.8\" font-family=\"Times New Roman,serif\" font-size=\"14.00\">gini = 0.262</text>\r\n",
       "<text text-anchor=\"middle\" x=\"55.5\" y=\"-22.8\" font-family=\"Times New Roman,serif\" font-size=\"14.00\">samples = 380</text>\r\n",
       "<text text-anchor=\"middle\" x=\"55.5\" y=\"-7.8\" font-family=\"Times New Roman,serif\" font-size=\"14.00\">value = [321, 59]</text>\r\n",
       "</g>\r\n",
       "<!-- 4&#45;&gt;5 -->\r\n",
       "<g id=\"edge5\" class=\"edge\"><title>4&#45;&gt;5</title>\r\n",
       "<path fill=\"none\" stroke=\"black\" d=\"M142.356,-111.407C128.935,-99.6005 114.289,-86.7166 100.913,-74.9495\"/>\r\n",
       "<polygon fill=\"black\" stroke=\"black\" points=\"103.023,-72.1441 93.2026,-68.1669 98.3991,-77.3999 103.023,-72.1441\"/>\r\n",
       "</g>\r\n",
       "<!-- 6 -->\r\n",
       "<g id=\"node7\" class=\"node\"><title>6</title>\r\n",
       "<polygon fill=\"#e88e4d\" stroke=\"black\" points=\"247.5,-68 129.5,-68 129.5,-0 247.5,-0 247.5,-68\"/>\r\n",
       "<text text-anchor=\"middle\" x=\"188.5\" y=\"-52.8\" font-family=\"Times New Roman,serif\" font-size=\"14.00\">node #6</text>\r\n",
       "<text text-anchor=\"middle\" x=\"188.5\" y=\"-37.8\" font-family=\"Times New Roman,serif\" font-size=\"14.00\">gini = 0.166</text>\r\n",
       "<text text-anchor=\"middle\" x=\"188.5\" y=\"-22.8\" font-family=\"Times New Roman,serif\" font-size=\"14.00\">samples = 1096</text>\r\n",
       "<text text-anchor=\"middle\" x=\"188.5\" y=\"-7.8\" font-family=\"Times New Roman,serif\" font-size=\"14.00\">value = [996, 100]</text>\r\n",
       "</g>\r\n",
       "<!-- 4&#45;&gt;6 -->\r\n",
       "<g id=\"edge6\" class=\"edge\"><title>4&#45;&gt;6</title>\r\n",
       "<path fill=\"none\" stroke=\"black\" d=\"M188.5,-111.407C188.5,-100.704 188.5,-89.1154 188.5,-78.2762\"/>\r\n",
       "<polygon fill=\"black\" stroke=\"black\" points=\"192,-78.1669 188.5,-68.1669 185,-78.167 192,-78.1669\"/>\r\n",
       "</g>\r\n",
       "<!-- 8 -->\r\n",
       "<g id=\"node9\" class=\"node\"><title>8</title>\r\n",
       "<polygon fill=\"#e5833c\" stroke=\"black\" points=\"397,-68 266,-68 266,-0 397,-0 397,-68\"/>\r\n",
       "<text text-anchor=\"middle\" x=\"331.5\" y=\"-52.8\" font-family=\"Times New Roman,serif\" font-size=\"14.00\">node #8</text>\r\n",
       "<text text-anchor=\"middle\" x=\"331.5\" y=\"-37.8\" font-family=\"Times New Roman,serif\" font-size=\"14.00\">gini = 0.032</text>\r\n",
       "<text text-anchor=\"middle\" x=\"331.5\" y=\"-22.8\" font-family=\"Times New Roman,serif\" font-size=\"14.00\">samples = 13113</text>\r\n",
       "<text text-anchor=\"middle\" x=\"331.5\" y=\"-7.8\" font-family=\"Times New Roman,serif\" font-size=\"14.00\">value = [12899, 214]</text>\r\n",
       "</g>\r\n",
       "<!-- 7&#45;&gt;8 -->\r\n",
       "<g id=\"edge8\" class=\"edge\"><title>7&#45;&gt;8</title>\r\n",
       "<path fill=\"none\" stroke=\"black\" d=\"M385.051,-111.407C377.162,-100.152 368.588,-87.9183 360.66,-76.6062\"/>\r\n",
       "<polygon fill=\"black\" stroke=\"black\" points=\"363.351,-74.3472 354.745,-68.1669 357.618,-78.3648 363.351,-74.3472\"/>\r\n",
       "</g>\r\n",
       "<!-- 9 -->\r\n",
       "<g id=\"node10\" class=\"node\"><title>9</title>\r\n",
       "<polygon fill=\"#e5823b\" stroke=\"black\" points=\"546,-68 415,-68 415,-0 546,-0 546,-68\"/>\r\n",
       "<text text-anchor=\"middle\" x=\"480.5\" y=\"-52.8\" font-family=\"Times New Roman,serif\" font-size=\"14.00\">node #9</text>\r\n",
       "<text text-anchor=\"middle\" x=\"480.5\" y=\"-37.8\" font-family=\"Times New Roman,serif\" font-size=\"14.00\">gini = 0.019</text>\r\n",
       "<text text-anchor=\"middle\" x=\"480.5\" y=\"-22.8\" font-family=\"Times New Roman,serif\" font-size=\"14.00\">samples = 36345</text>\r\n",
       "<text text-anchor=\"middle\" x=\"480.5\" y=\"-7.8\" font-family=\"Times New Roman,serif\" font-size=\"14.00\">value = [35990, 355]</text>\r\n",
       "</g>\r\n",
       "<!-- 7&#45;&gt;9 -->\r\n",
       "<g id=\"edge9\" class=\"edge\"><title>7&#45;&gt;9</title>\r\n",
       "<path fill=\"none\" stroke=\"black\" d=\"M436.745,-111.407C443.127,-100.263 450.059,-88.1581 456.484,-76.9392\"/>\r\n",
       "<polygon fill=\"black\" stroke=\"black\" points=\"459.575,-78.5841 461.507,-68.1669 453.5,-75.1055 459.575,-78.5841\"/>\r\n",
       "</g>\r\n",
       "<!-- 11 -->\r\n",
       "<g id=\"node12\" class=\"node\"><title>11</title>\r\n",
       "<polygon fill=\"#8bc5f0\" stroke=\"black\" points=\"799.5,-194.5 623.5,-194.5 623.5,-111.5 799.5,-111.5 799.5,-194.5\"/>\r\n",
       "<text text-anchor=\"middle\" x=\"711.5\" y=\"-179.3\" font-family=\"Times New Roman,serif\" font-size=\"14.00\">node #11</text>\r\n",
       "<text text-anchor=\"middle\" x=\"711.5\" y=\"-164.3\" font-family=\"Times New Roman,serif\" font-size=\"14.00\">INATTENTIONIND &lt;= 0.5</text>\r\n",
       "<text text-anchor=\"middle\" x=\"711.5\" y=\"-149.3\" font-family=\"Times New Roman,serif\" font-size=\"14.00\">gini = 0.414</text>\r\n",
       "<text text-anchor=\"middle\" x=\"711.5\" y=\"-134.3\" font-family=\"Times New Roman,serif\" font-size=\"14.00\">samples = 171</text>\r\n",
       "<text text-anchor=\"middle\" x=\"711.5\" y=\"-119.3\" font-family=\"Times New Roman,serif\" font-size=\"14.00\">value = [50, 121]</text>\r\n",
       "</g>\r\n",
       "<!-- 10&#45;&gt;11 -->\r\n",
       "<g id=\"edge11\" class=\"edge\"><title>10&#45;&gt;11</title>\r\n",
       "<path fill=\"none\" stroke=\"black\" d=\"M768.316,-230.407C761.635,-221.423 754.491,-211.815 747.601,-202.55\"/>\r\n",
       "<polygon fill=\"black\" stroke=\"black\" points=\"750.407,-200.457 741.631,-194.521 744.789,-204.634 750.407,-200.457\"/>\r\n",
       "</g>\r\n",
       "<!-- 14 -->\r\n",
       "<g id=\"node15\" class=\"node\"><title>14</title>\r\n",
       "<polygon fill=\"#ea9a61\" stroke=\"black\" points=\"953.5,-194.5 817.5,-194.5 817.5,-111.5 953.5,-111.5 953.5,-194.5\"/>\r\n",
       "<text text-anchor=\"middle\" x=\"885.5\" y=\"-179.3\" font-family=\"Times New Roman,serif\" font-size=\"14.00\">node #14</text>\r\n",
       "<text text-anchor=\"middle\" x=\"885.5\" y=\"-164.3\" font-family=\"Times New Roman,serif\" font-size=\"14.00\">UNDERINFL &lt;= 1.5</text>\r\n",
       "<text text-anchor=\"middle\" x=\"885.5\" y=\"-149.3\" font-family=\"Times New Roman,serif\" font-size=\"14.00\">gini = 0.277</text>\r\n",
       "<text text-anchor=\"middle\" x=\"885.5\" y=\"-134.3\" font-family=\"Times New Roman,serif\" font-size=\"14.00\">samples = 763</text>\r\n",
       "<text text-anchor=\"middle\" x=\"885.5\" y=\"-119.3\" font-family=\"Times New Roman,serif\" font-size=\"14.00\">value = [636, 127]</text>\r\n",
       "</g>\r\n",
       "<!-- 10&#45;&gt;14 -->\r\n",
       "<g id=\"edge14\" class=\"edge\"><title>10&#45;&gt;14</title>\r\n",
       "<path fill=\"none\" stroke=\"black\" d=\"M828.684,-230.407C835.365,-221.423 842.509,-211.815 849.399,-202.55\"/>\r\n",
       "<polygon fill=\"black\" stroke=\"black\" points=\"852.211,-204.634 855.369,-194.521 846.593,-200.457 852.211,-204.634\"/>\r\n",
       "</g>\r\n",
       "<!-- 12 -->\r\n",
       "<g id=\"node13\" class=\"node\"><title>12</title>\r\n",
       "<polygon fill=\"#86c3ef\" stroke=\"black\" points=\"675,-68 564,-68 564,-0 675,-0 675,-68\"/>\r\n",
       "<text text-anchor=\"middle\" x=\"619.5\" y=\"-52.8\" font-family=\"Times New Roman,serif\" font-size=\"14.00\">node #12</text>\r\n",
       "<text text-anchor=\"middle\" x=\"619.5\" y=\"-37.8\" font-family=\"Times New Roman,serif\" font-size=\"14.00\">gini = 0.403</text>\r\n",
       "<text text-anchor=\"middle\" x=\"619.5\" y=\"-22.8\" font-family=\"Times New Roman,serif\" font-size=\"14.00\">samples = 168</text>\r\n",
       "<text text-anchor=\"middle\" x=\"619.5\" y=\"-7.8\" font-family=\"Times New Roman,serif\" font-size=\"14.00\">value = [47, 121]</text>\r\n",
       "</g>\r\n",
       "<!-- 11&#45;&gt;12 -->\r\n",
       "<g id=\"edge12\" class=\"edge\"><title>11&#45;&gt;12</title>\r\n",
       "<path fill=\"none\" stroke=\"black\" d=\"M679.581,-111.407C670.644,-100.042 660.922,-87.6783 651.955,-76.2738\"/>\r\n",
       "<polygon fill=\"black\" stroke=\"black\" points=\"654.513,-73.8644 645.58,-68.1669 649.01,-78.1912 654.513,-73.8644\"/>\r\n",
       "</g>\r\n",
       "<!-- 13 -->\r\n",
       "<g id=\"node14\" class=\"node\"><title>13</title>\r\n",
       "<polygon fill=\"#e58139\" stroke=\"black\" points=\"784,-68 693,-68 693,-0 784,-0 784,-68\"/>\r\n",
       "<text text-anchor=\"middle\" x=\"738.5\" y=\"-52.8\" font-family=\"Times New Roman,serif\" font-size=\"14.00\">node #13</text>\r\n",
       "<text text-anchor=\"middle\" x=\"738.5\" y=\"-37.8\" font-family=\"Times New Roman,serif\" font-size=\"14.00\">gini = 0.0</text>\r\n",
       "<text text-anchor=\"middle\" x=\"738.5\" y=\"-22.8\" font-family=\"Times New Roman,serif\" font-size=\"14.00\">samples = 3</text>\r\n",
       "<text text-anchor=\"middle\" x=\"738.5\" y=\"-7.8\" font-family=\"Times New Roman,serif\" font-size=\"14.00\">value = [3, 0]</text>\r\n",
       "</g>\r\n",
       "<!-- 11&#45;&gt;13 -->\r\n",
       "<g id=\"edge13\" class=\"edge\"><title>11&#45;&gt;13</title>\r\n",
       "<path fill=\"none\" stroke=\"black\" d=\"M720.868,-111.407C723.363,-100.594 726.067,-88.8763 728.59,-77.9412\"/>\r\n",
       "<polygon fill=\"black\" stroke=\"black\" points=\"732.008,-78.6979 730.846,-68.1669 725.187,-77.1238 732.008,-78.6979\"/>\r\n",
       "</g>\r\n",
       "<!-- 15 -->\r\n",
       "<g id=\"node16\" class=\"node\"><title>15</title>\r\n",
       "<polygon fill=\"#e78b49\" stroke=\"black\" points=\"913,-68 802,-68 802,-0 913,-0 913,-68\"/>\r\n",
       "<text text-anchor=\"middle\" x=\"857.5\" y=\"-52.8\" font-family=\"Times New Roman,serif\" font-size=\"14.00\">node #15</text>\r\n",
       "<text text-anchor=\"middle\" x=\"857.5\" y=\"-37.8\" font-family=\"Times New Roman,serif\" font-size=\"14.00\">gini = 0.137</text>\r\n",
       "<text text-anchor=\"middle\" x=\"857.5\" y=\"-22.8\" font-family=\"Times New Roman,serif\" font-size=\"14.00\">samples = 271</text>\r\n",
       "<text text-anchor=\"middle\" x=\"857.5\" y=\"-7.8\" font-family=\"Times New Roman,serif\" font-size=\"14.00\">value = [251, 20]</text>\r\n",
       "</g>\r\n",
       "<!-- 14&#45;&gt;15 -->\r\n",
       "<g id=\"edge15\" class=\"edge\"><title>14&#45;&gt;15</title>\r\n",
       "<path fill=\"none\" stroke=\"black\" d=\"M875.786,-111.407C873.198,-100.594 870.393,-88.8763 867.777,-77.9412\"/>\r\n",
       "<polygon fill=\"black\" stroke=\"black\" points=\"871.169,-77.0777 865.437,-68.1669 864.361,-78.707 871.169,-77.0777\"/>\r\n",
       "</g>\r\n",
       "<!-- 16 -->\r\n",
       "<g id=\"node17\" class=\"node\"><title>16</title>\r\n",
       "<polygon fill=\"#eca470\" stroke=\"black\" points=\"1049.5,-68 931.5,-68 931.5,-0 1049.5,-0 1049.5,-68\"/>\r\n",
       "<text text-anchor=\"middle\" x=\"990.5\" y=\"-52.8\" font-family=\"Times New Roman,serif\" font-size=\"14.00\">node #16</text>\r\n",
       "<text text-anchor=\"middle\" x=\"990.5\" y=\"-37.8\" font-family=\"Times New Roman,serif\" font-size=\"14.00\">gini = 0.34</text>\r\n",
       "<text text-anchor=\"middle\" x=\"990.5\" y=\"-22.8\" font-family=\"Times New Roman,serif\" font-size=\"14.00\">samples = 492</text>\r\n",
       "<text text-anchor=\"middle\" x=\"990.5\" y=\"-7.8\" font-family=\"Times New Roman,serif\" font-size=\"14.00\">value = [385, 107]</text>\r\n",
       "</g>\r\n",
       "<!-- 14&#45;&gt;16 -->\r\n",
       "<g id=\"edge16\" class=\"edge\"><title>14&#45;&gt;16</title>\r\n",
       "<path fill=\"none\" stroke=\"black\" d=\"M921.929,-111.407C932.327,-99.8212 943.656,-87.1978 954.055,-75.6105\"/>\r\n",
       "<polygon fill=\"black\" stroke=\"black\" points=\"956.661,-77.9471 960.735,-68.1669 951.451,-73.2717 956.661,-77.9471\"/>\r\n",
       "</g>\r\n",
       "<!-- 18 -->\r\n",
       "<g id=\"node19\" class=\"node\"><title>18</title>\r\n",
       "<polygon fill=\"#e89152\" stroke=\"black\" points=\"1568,-313.5 1407,-313.5 1407,-230.5 1568,-230.5 1568,-313.5\"/>\r\n",
       "<text text-anchor=\"middle\" x=\"1487.5\" y=\"-298.3\" font-family=\"Times New Roman,serif\" font-size=\"14.00\">node #18</text>\r\n",
       "<text text-anchor=\"middle\" x=\"1487.5\" y=\"-283.3\" font-family=\"Times New Roman,serif\" font-size=\"14.00\">JUNCTIONTYPE &lt;= 2.5</text>\r\n",
       "<text text-anchor=\"middle\" x=\"1487.5\" y=\"-268.3\" font-family=\"Times New Roman,serif\" font-size=\"14.00\">gini = 0.197</text>\r\n",
       "<text text-anchor=\"middle\" x=\"1487.5\" y=\"-253.3\" font-family=\"Times New Roman,serif\" font-size=\"14.00\">samples = 25955</text>\r\n",
       "<text text-anchor=\"middle\" x=\"1487.5\" y=\"-238.3\" font-family=\"Times New Roman,serif\" font-size=\"14.00\">value = [23084, 2871]</text>\r\n",
       "</g>\r\n",
       "<!-- 17&#45;&gt;18 -->\r\n",
       "<g id=\"edge18\" class=\"edge\"><title>17&#45;&gt;18</title>\r\n",
       "<path fill=\"none\" stroke=\"black\" d=\"M1589.38,-349.407C1576.55,-339.788 1562.77,-329.453 1549.62,-319.59\"/>\r\n",
       "<polygon fill=\"black\" stroke=\"black\" points=\"1551.63,-316.721 1541.53,-313.521 1547.43,-322.321 1551.63,-316.721\"/>\r\n",
       "</g>\r\n",
       "<!-- 25 -->\r\n",
       "<g id=\"node26\" class=\"node\"><title>25</title>\r\n",
       "<polygon fill=\"#f4c7a8\" stroke=\"black\" points=\"1817,-313.5 1656,-313.5 1656,-230.5 1817,-230.5 1817,-313.5\"/>\r\n",
       "<text text-anchor=\"middle\" x=\"1736.5\" y=\"-298.3\" font-family=\"Times New Roman,serif\" font-size=\"14.00\">node #25</text>\r\n",
       "<text text-anchor=\"middle\" x=\"1736.5\" y=\"-283.3\" font-family=\"Times New Roman,serif\" font-size=\"14.00\">JUNCTIONTYPE &lt;= 2.5</text>\r\n",
       "<text text-anchor=\"middle\" x=\"1736.5\" y=\"-268.3\" font-family=\"Times New Roman,serif\" font-size=\"14.00\">gini = 0.46</text>\r\n",
       "<text text-anchor=\"middle\" x=\"1736.5\" y=\"-253.3\" font-family=\"Times New Roman,serif\" font-size=\"14.00\">samples = 734</text>\r\n",
       "<text text-anchor=\"middle\" x=\"1736.5\" y=\"-238.3\" font-family=\"Times New Roman,serif\" font-size=\"14.00\">value = [471, 263]</text>\r\n",
       "</g>\r\n",
       "<!-- 17&#45;&gt;25 -->\r\n",
       "<g id=\"edge25\" class=\"edge\"><title>17&#45;&gt;25</title>\r\n",
       "<path fill=\"none\" stroke=\"black\" d=\"M1675.77,-349.407C1682.91,-340.423 1690.54,-330.815 1697.91,-321.55\"/>\r\n",
       "<polygon fill=\"black\" stroke=\"black\" points=\"1700.81,-323.527 1704.29,-313.521 1695.33,-319.171 1700.81,-323.527\"/>\r\n",
       "</g>\r\n",
       "<!-- 19 -->\r\n",
       "<g id=\"node20\" class=\"node\"><title>19</title>\r\n",
       "<polygon fill=\"#ea995f\" stroke=\"black\" points=\"1336,-194.5 1203,-194.5 1203,-111.5 1336,-111.5 1336,-194.5\"/>\r\n",
       "<text text-anchor=\"middle\" x=\"1269.5\" y=\"-179.3\" font-family=\"Times New Roman,serif\" font-size=\"14.00\">node #19</text>\r\n",
       "<text text-anchor=\"middle\" x=\"1269.5\" y=\"-164.3\" font-family=\"Times New Roman,serif\" font-size=\"14.00\">WEATHER &lt;= 10.5</text>\r\n",
       "<text text-anchor=\"middle\" x=\"1269.5\" y=\"-149.3\" font-family=\"Times New Roman,serif\" font-size=\"14.00\">gini = 0.271</text>\r\n",
       "<text text-anchor=\"middle\" x=\"1269.5\" y=\"-134.3\" font-family=\"Times New Roman,serif\" font-size=\"14.00\">samples = 8229</text>\r\n",
       "<text text-anchor=\"middle\" x=\"1269.5\" y=\"-119.3\" font-family=\"Times New Roman,serif\" font-size=\"14.00\">value = [6896, 1333]</text>\r\n",
       "</g>\r\n",
       "<!-- 18&#45;&gt;19 -->\r\n",
       "<g id=\"edge19\" class=\"edge\"><title>18&#45;&gt;19</title>\r\n",
       "<path fill=\"none\" stroke=\"black\" d=\"M1411.87,-230.407C1390.25,-218.806 1366.69,-206.164 1345.08,-194.564\"/>\r\n",
       "<polygon fill=\"black\" stroke=\"black\" points=\"1346.73,-191.479 1336.27,-189.834 1343.42,-197.647 1346.73,-191.479\"/>\r\n",
       "</g>\r\n",
       "<!-- 22 -->\r\n",
       "<g id=\"node23\" class=\"node\"><title>22</title>\r\n",
       "<polygon fill=\"#e78d4c\" stroke=\"black\" points=\"1556.5,-194.5 1418.5,-194.5 1418.5,-111.5 1556.5,-111.5 1556.5,-194.5\"/>\r\n",
       "<text text-anchor=\"middle\" x=\"1487.5\" y=\"-179.3\" font-family=\"Times New Roman,serif\" font-size=\"14.00\">node #22</text>\r\n",
       "<text text-anchor=\"middle\" x=\"1487.5\" y=\"-164.3\" font-family=\"Times New Roman,serif\" font-size=\"14.00\">UNDERINFL &lt;= 1.5</text>\r\n",
       "<text text-anchor=\"middle\" x=\"1487.5\" y=\"-149.3\" font-family=\"Times New Roman,serif\" font-size=\"14.00\">gini = 0.158</text>\r\n",
       "<text text-anchor=\"middle\" x=\"1487.5\" y=\"-134.3\" font-family=\"Times New Roman,serif\" font-size=\"14.00\">samples = 17726</text>\r\n",
       "<text text-anchor=\"middle\" x=\"1487.5\" y=\"-119.3\" font-family=\"Times New Roman,serif\" font-size=\"14.00\">value = [16188, 1538]</text>\r\n",
       "</g>\r\n",
       "<!-- 18&#45;&gt;22 -->\r\n",
       "<g id=\"edge22\" class=\"edge\"><title>18&#45;&gt;22</title>\r\n",
       "<path fill=\"none\" stroke=\"black\" d=\"M1487.5,-230.407C1487.5,-222.149 1487.5,-213.364 1487.5,-204.802\"/>\r\n",
       "<polygon fill=\"black\" stroke=\"black\" points=\"1491,-204.521 1487.5,-194.521 1484,-204.521 1491,-204.521\"/>\r\n",
       "</g>\r\n",
       "<!-- 20 -->\r\n",
       "<g id=\"node21\" class=\"node\"><title>20</title>\r\n",
       "<polygon fill=\"#ea985e\" stroke=\"black\" points=\"1199,-68 1068,-68 1068,-0 1199,-0 1199,-68\"/>\r\n",
       "<text text-anchor=\"middle\" x=\"1133.5\" y=\"-52.8\" font-family=\"Times New Roman,serif\" font-size=\"14.00\">node #20</text>\r\n",
       "<text text-anchor=\"middle\" x=\"1133.5\" y=\"-37.8\" font-family=\"Times New Roman,serif\" font-size=\"14.00\">gini = 0.263</text>\r\n",
       "<text text-anchor=\"middle\" x=\"1133.5\" y=\"-22.8\" font-family=\"Times New Roman,serif\" font-size=\"14.00\">samples = 8075</text>\r\n",
       "<text text-anchor=\"middle\" x=\"1133.5\" y=\"-7.8\" font-family=\"Times New Roman,serif\" font-size=\"14.00\">value = [6817, 1258]</text>\r\n",
       "</g>\r\n",
       "<!-- 19&#45;&gt;20 -->\r\n",
       "<g id=\"edge20\" class=\"edge\"><title>19&#45;&gt;20</title>\r\n",
       "<path fill=\"none\" stroke=\"black\" d=\"M1222.32,-111.407C1208.59,-99.6005 1193.61,-86.7166 1179.94,-74.9495\"/>\r\n",
       "<polygon fill=\"black\" stroke=\"black\" points=\"1181.92,-72.0354 1172.05,-68.1669 1177.35,-77.3419 1181.92,-72.0354\"/>\r\n",
       "</g>\r\n",
       "<!-- 21 -->\r\n",
       "<g id=\"node22\" class=\"node\"><title>21</title>\r\n",
       "<polygon fill=\"#fef9f5\" stroke=\"black\" points=\"1321.5,-68 1217.5,-68 1217.5,-0 1321.5,-0 1321.5,-68\"/>\r\n",
       "<text text-anchor=\"middle\" x=\"1269.5\" y=\"-52.8\" font-family=\"Times New Roman,serif\" font-size=\"14.00\">node #21</text>\r\n",
       "<text text-anchor=\"middle\" x=\"1269.5\" y=\"-37.8\" font-family=\"Times New Roman,serif\" font-size=\"14.00\">gini = 0.5</text>\r\n",
       "<text text-anchor=\"middle\" x=\"1269.5\" y=\"-22.8\" font-family=\"Times New Roman,serif\" font-size=\"14.00\">samples = 154</text>\r\n",
       "<text text-anchor=\"middle\" x=\"1269.5\" y=\"-7.8\" font-family=\"Times New Roman,serif\" font-size=\"14.00\">value = [79, 75]</text>\r\n",
       "</g>\r\n",
       "<!-- 19&#45;&gt;21 -->\r\n",
       "<g id=\"edge21\" class=\"edge\"><title>19&#45;&gt;21</title>\r\n",
       "<path fill=\"none\" stroke=\"black\" d=\"M1269.5,-111.407C1269.5,-100.704 1269.5,-89.1154 1269.5,-78.2762\"/>\r\n",
       "<polygon fill=\"black\" stroke=\"black\" points=\"1273,-78.1669 1269.5,-68.1669 1266,-78.167 1273,-78.1669\"/>\r\n",
       "</g>\r\n",
       "<!-- 23 -->\r\n",
       "<g id=\"node24\" class=\"node\"><title>23</title>\r\n",
       "<polygon fill=\"#e89050\" stroke=\"black\" points=\"1471,-68 1340,-68 1340,-0 1471,-0 1471,-68\"/>\r\n",
       "<text text-anchor=\"middle\" x=\"1405.5\" y=\"-52.8\" font-family=\"Times New Roman,serif\" font-size=\"14.00\">node #23</text>\r\n",
       "<text text-anchor=\"middle\" x=\"1405.5\" y=\"-37.8\" font-family=\"Times New Roman,serif\" font-size=\"14.00\">gini = 0.185</text>\r\n",
       "<text text-anchor=\"middle\" x=\"1405.5\" y=\"-22.8\" font-family=\"Times New Roman,serif\" font-size=\"14.00\">samples = 10306</text>\r\n",
       "<text text-anchor=\"middle\" x=\"1405.5\" y=\"-7.8\" font-family=\"Times New Roman,serif\" font-size=\"14.00\">value = [9240, 1066]</text>\r\n",
       "</g>\r\n",
       "<!-- 22&#45;&gt;23 -->\r\n",
       "<g id=\"edge23\" class=\"edge\"><title>22&#45;&gt;23</title>\r\n",
       "<path fill=\"none\" stroke=\"black\" d=\"M1459.05,-111.407C1451.16,-100.152 1442.59,-87.9183 1434.66,-76.6062\"/>\r\n",
       "<polygon fill=\"black\" stroke=\"black\" points=\"1437.35,-74.3472 1428.75,-68.1669 1431.62,-78.3648 1437.35,-74.3472\"/>\r\n",
       "</g>\r\n",
       "<!-- 24 -->\r\n",
       "<g id=\"node25\" class=\"node\"><title>24</title>\r\n",
       "<polygon fill=\"#e78a46\" stroke=\"black\" points=\"1614,-68 1489,-68 1489,-0 1614,-0 1614,-68\"/>\r\n",
       "<text text-anchor=\"middle\" x=\"1551.5\" y=\"-52.8\" font-family=\"Times New Roman,serif\" font-size=\"14.00\">node #24</text>\r\n",
       "<text text-anchor=\"middle\" x=\"1551.5\" y=\"-37.8\" font-family=\"Times New Roman,serif\" font-size=\"14.00\">gini = 0.119</text>\r\n",
       "<text text-anchor=\"middle\" x=\"1551.5\" y=\"-22.8\" font-family=\"Times New Roman,serif\" font-size=\"14.00\">samples = 7420</text>\r\n",
       "<text text-anchor=\"middle\" x=\"1551.5\" y=\"-7.8\" font-family=\"Times New Roman,serif\" font-size=\"14.00\">value = [6948, 472]</text>\r\n",
       "</g>\r\n",
       "<!-- 22&#45;&gt;24 -->\r\n",
       "<g id=\"edge24\" class=\"edge\"><title>22&#45;&gt;24</title>\r\n",
       "<path fill=\"none\" stroke=\"black\" d=\"M1509.7,-111.407C1515.74,-100.373 1522.29,-88.3977 1528.38,-77.2727\"/>\r\n",
       "<polygon fill=\"black\" stroke=\"black\" points=\"1531.63,-78.6198 1533.36,-68.1669 1525.49,-75.2605 1531.63,-78.6198\"/>\r\n",
       "</g>\r\n",
       "<!-- 26 -->\r\n",
       "<g id=\"node27\" class=\"node\"><title>26</title>\r\n",
       "<polygon fill=\"#b9ddf6\" stroke=\"black\" points=\"1804.5,-194.5 1668.5,-194.5 1668.5,-111.5 1804.5,-111.5 1804.5,-194.5\"/>\r\n",
       "<text text-anchor=\"middle\" x=\"1736.5\" y=\"-179.3\" font-family=\"Times New Roman,serif\" font-size=\"14.00\">node #26</text>\r\n",
       "<text text-anchor=\"middle\" x=\"1736.5\" y=\"-164.3\" font-family=\"Times New Roman,serif\" font-size=\"14.00\">UNDERINFL &lt;= 0.5</text>\r\n",
       "<text text-anchor=\"middle\" x=\"1736.5\" y=\"-149.3\" font-family=\"Times New Roman,serif\" font-size=\"14.00\">gini = 0.477</text>\r\n",
       "<text text-anchor=\"middle\" x=\"1736.5\" y=\"-134.3\" font-family=\"Times New Roman,serif\" font-size=\"14.00\">samples = 244</text>\r\n",
       "<text text-anchor=\"middle\" x=\"1736.5\" y=\"-119.3\" font-family=\"Times New Roman,serif\" font-size=\"14.00\">value = [96, 148]</text>\r\n",
       "</g>\r\n",
       "<!-- 25&#45;&gt;26 -->\r\n",
       "<g id=\"edge26\" class=\"edge\"><title>25&#45;&gt;26</title>\r\n",
       "<path fill=\"none\" stroke=\"black\" d=\"M1736.5,-230.407C1736.5,-222.149 1736.5,-213.364 1736.5,-204.802\"/>\r\n",
       "<polygon fill=\"black\" stroke=\"black\" points=\"1740,-204.521 1736.5,-194.521 1733,-204.521 1740,-204.521\"/>\r\n",
       "</g>\r\n",
       "<!-- 29 -->\r\n",
       "<g id=\"node30\" class=\"node\"><title>29</title>\r\n",
       "<polygon fill=\"#eda876\" stroke=\"black\" points=\"2007.5,-194.5 1871.5,-194.5 1871.5,-111.5 2007.5,-111.5 2007.5,-194.5\"/>\r\n",
       "<text text-anchor=\"middle\" x=\"1939.5\" y=\"-179.3\" font-family=\"Times New Roman,serif\" font-size=\"14.00\">node #29</text>\r\n",
       "<text text-anchor=\"middle\" x=\"1939.5\" y=\"-164.3\" font-family=\"Times New Roman,serif\" font-size=\"14.00\">UNDERINFL &lt;= 1.5</text>\r\n",
       "<text text-anchor=\"middle\" x=\"1939.5\" y=\"-149.3\" font-family=\"Times New Roman,serif\" font-size=\"14.00\">gini = 0.359</text>\r\n",
       "<text text-anchor=\"middle\" x=\"1939.5\" y=\"-134.3\" font-family=\"Times New Roman,serif\" font-size=\"14.00\">samples = 490</text>\r\n",
       "<text text-anchor=\"middle\" x=\"1939.5\" y=\"-119.3\" font-family=\"Times New Roman,serif\" font-size=\"14.00\">value = [375, 115]</text>\r\n",
       "</g>\r\n",
       "<!-- 25&#45;&gt;29 -->\r\n",
       "<g id=\"edge29\" class=\"edge\"><title>25&#45;&gt;29</title>\r\n",
       "<path fill=\"none\" stroke=\"black\" d=\"M1806.93,-230.407C1824.84,-220.085 1844.18,-208.938 1862.4,-198.435\"/>\r\n",
       "<polygon fill=\"black\" stroke=\"black\" points=\"1864.33,-201.363 1871.25,-193.337 1860.84,-195.298 1864.33,-201.363\"/>\r\n",
       "</g>\r\n",
       "<!-- 27 -->\r\n",
       "<g id=\"node28\" class=\"node\"><title>27</title>\r\n",
       "<polygon fill=\"#a9d4f4\" stroke=\"black\" points=\"1743,-68 1632,-68 1632,-0 1743,-0 1743,-68\"/>\r\n",
       "<text text-anchor=\"middle\" x=\"1687.5\" y=\"-52.8\" font-family=\"Times New Roman,serif\" font-size=\"14.00\">node #27</text>\r\n",
       "<text text-anchor=\"middle\" x=\"1687.5\" y=\"-37.8\" font-family=\"Times New Roman,serif\" font-size=\"14.00\">gini = 0.461</text>\r\n",
       "<text text-anchor=\"middle\" x=\"1687.5\" y=\"-22.8\" font-family=\"Times New Roman,serif\" font-size=\"14.00\">samples = 169</text>\r\n",
       "<text text-anchor=\"middle\" x=\"1687.5\" y=\"-7.8\" font-family=\"Times New Roman,serif\" font-size=\"14.00\">value = [61, 108]</text>\r\n",
       "</g>\r\n",
       "<!-- 26&#45;&gt;27 -->\r\n",
       "<g id=\"edge27\" class=\"edge\"><title>26&#45;&gt;27</title>\r\n",
       "<path fill=\"none\" stroke=\"black\" d=\"M1719.5,-111.407C1714.92,-100.483 1709.96,-88.6371 1705.34,-77.6067\"/>\r\n",
       "<polygon fill=\"black\" stroke=\"black\" points=\"1708.48,-76.0387 1701.39,-68.1669 1702.03,-78.7428 1708.48,-76.0387\"/>\r\n",
       "</g>\r\n",
       "<!-- 28 -->\r\n",
       "<g id=\"node29\" class=\"node\"><title>28</title>\r\n",
       "<polygon fill=\"#e6f3fc\" stroke=\"black\" points=\"1865.5,-68 1761.5,-68 1761.5,-0 1865.5,-0 1865.5,-68\"/>\r\n",
       "<text text-anchor=\"middle\" x=\"1813.5\" y=\"-52.8\" font-family=\"Times New Roman,serif\" font-size=\"14.00\">node #28</text>\r\n",
       "<text text-anchor=\"middle\" x=\"1813.5\" y=\"-37.8\" font-family=\"Times New Roman,serif\" font-size=\"14.00\">gini = 0.498</text>\r\n",
       "<text text-anchor=\"middle\" x=\"1813.5\" y=\"-22.8\" font-family=\"Times New Roman,serif\" font-size=\"14.00\">samples = 75</text>\r\n",
       "<text text-anchor=\"middle\" x=\"1813.5\" y=\"-7.8\" font-family=\"Times New Roman,serif\" font-size=\"14.00\">value = [35, 40]</text>\r\n",
       "</g>\r\n",
       "<!-- 26&#45;&gt;28 -->\r\n",
       "<g id=\"edge28\" class=\"edge\"><title>26&#45;&gt;28</title>\r\n",
       "<path fill=\"none\" stroke=\"black\" d=\"M1763.21,-111.407C1770.62,-100.152 1778.67,-87.9183 1786.12,-76.6062\"/>\r\n",
       "<polygon fill=\"black\" stroke=\"black\" points=\"1789.1,-78.4444 1791.67,-68.1669 1783.25,-74.5961 1789.1,-78.4444\"/>\r\n",
       "</g>\r\n",
       "<!-- 30 -->\r\n",
       "<g id=\"node31\" class=\"node\"><title>30</title>\r\n",
       "<polygon fill=\"#f1be98\" stroke=\"black\" points=\"1995,-68 1884,-68 1884,-0 1995,-0 1995,-68\"/>\r\n",
       "<text text-anchor=\"middle\" x=\"1939.5\" y=\"-52.8\" font-family=\"Times New Roman,serif\" font-size=\"14.00\">node #30</text>\r\n",
       "<text text-anchor=\"middle\" x=\"1939.5\" y=\"-37.8\" font-family=\"Times New Roman,serif\" font-size=\"14.00\">gini = 0.438</text>\r\n",
       "<text text-anchor=\"middle\" x=\"1939.5\" y=\"-22.8\" font-family=\"Times New Roman,serif\" font-size=\"14.00\">samples = 262</text>\r\n",
       "<text text-anchor=\"middle\" x=\"1939.5\" y=\"-7.8\" font-family=\"Times New Roman,serif\" font-size=\"14.00\">value = [177, 85]</text>\r\n",
       "</g>\r\n",
       "<!-- 29&#45;&gt;30 -->\r\n",
       "<g id=\"edge30\" class=\"edge\"><title>29&#45;&gt;30</title>\r\n",
       "<path fill=\"none\" stroke=\"black\" d=\"M1939.5,-111.407C1939.5,-100.704 1939.5,-89.1154 1939.5,-78.2762\"/>\r\n",
       "<polygon fill=\"black\" stroke=\"black\" points=\"1943,-78.1669 1939.5,-68.1669 1936,-78.167 1943,-78.1669\"/>\r\n",
       "</g>\r\n",
       "<!-- 31 -->\r\n",
       "<g id=\"node32\" class=\"node\"><title>31</title>\r\n",
       "<polygon fill=\"#e99457\" stroke=\"black\" points=\"2124,-68 2013,-68 2013,-0 2124,-0 2124,-68\"/>\r\n",
       "<text text-anchor=\"middle\" x=\"2068.5\" y=\"-52.8\" font-family=\"Times New Roman,serif\" font-size=\"14.00\">node #31</text>\r\n",
       "<text text-anchor=\"middle\" x=\"2068.5\" y=\"-37.8\" font-family=\"Times New Roman,serif\" font-size=\"14.00\">gini = 0.229</text>\r\n",
       "<text text-anchor=\"middle\" x=\"2068.5\" y=\"-22.8\" font-family=\"Times New Roman,serif\" font-size=\"14.00\">samples = 228</text>\r\n",
       "<text text-anchor=\"middle\" x=\"2068.5\" y=\"-7.8\" font-family=\"Times New Roman,serif\" font-size=\"14.00\">value = [198, 30]</text>\r\n",
       "</g>\r\n",
       "<!-- 29&#45;&gt;31 -->\r\n",
       "<g id=\"edge31\" class=\"edge\"><title>29&#45;&gt;31</title>\r\n",
       "<path fill=\"none\" stroke=\"black\" d=\"M1984.26,-111.407C1997.27,-99.6005 2011.48,-86.7166 2024.45,-74.9495\"/>\r\n",
       "<polygon fill=\"black\" stroke=\"black\" points=\"2026.88,-77.4776 2031.93,-68.1669 2022.17,-72.2926 2026.88,-77.4776\"/>\r\n",
       "</g>\r\n",
       "<!-- 33 -->\r\n",
       "<g id=\"node34\" class=\"node\"><title>33</title>\r\n",
       "<polygon fill=\"#f5d0b5\" stroke=\"black\" points=\"2773,-432.5 2628,-432.5 2628,-349.5 2773,-349.5 2773,-432.5\"/>\r\n",
       "<text text-anchor=\"middle\" x=\"2700.5\" y=\"-417.3\" font-family=\"Times New Roman,serif\" font-size=\"14.00\">node #33</text>\r\n",
       "<text text-anchor=\"middle\" x=\"2700.5\" y=\"-402.3\" font-family=\"Times New Roman,serif\" font-size=\"14.00\">WEATHER &lt;= 10.5</text>\r\n",
       "<text text-anchor=\"middle\" x=\"2700.5\" y=\"-387.3\" font-family=\"Times New Roman,serif\" font-size=\"14.00\">gini = 0.473</text>\r\n",
       "<text text-anchor=\"middle\" x=\"2700.5\" y=\"-372.3\" font-family=\"Times New Roman,serif\" font-size=\"14.00\">samples = 68095</text>\r\n",
       "<text text-anchor=\"middle\" x=\"2700.5\" y=\"-357.3\" font-family=\"Times New Roman,serif\" font-size=\"14.00\">value = [41897, 26198]</text>\r\n",
       "</g>\r\n",
       "<!-- 32&#45;&gt;33 -->\r\n",
       "<g id=\"edge33\" class=\"edge\"><title>32&#45;&gt;33</title>\r\n",
       "<path fill=\"none\" stroke=\"black\" d=\"M2700.5,-468.407C2700.5,-460.149 2700.5,-451.364 2700.5,-442.802\"/>\r\n",
       "<polygon fill=\"black\" stroke=\"black\" points=\"2704,-442.521 2700.5,-432.521 2697,-442.521 2704,-442.521\"/>\r\n",
       "</g>\r\n",
       "<!-- 48 -->\r\n",
       "<g id=\"node49\" class=\"node\"><title>48</title>\r\n",
       "<polygon fill=\"#52a9e8\" stroke=\"black\" points=\"3544,-432.5 3413,-432.5 3413,-349.5 3544,-349.5 3544,-432.5\"/>\r\n",
       "<text text-anchor=\"middle\" x=\"3478.5\" y=\"-417.3\" font-family=\"Times New Roman,serif\" font-size=\"14.00\">node #48</text>\r\n",
       "<text text-anchor=\"middle\" x=\"3478.5\" y=\"-402.3\" font-family=\"Times New Roman,serif\" font-size=\"14.00\">SPEEDING &lt;= 0.5</text>\r\n",
       "<text text-anchor=\"middle\" x=\"3478.5\" y=\"-387.3\" font-family=\"Times New Roman,serif\" font-size=\"14.00\">gini = 0.197</text>\r\n",
       "<text text-anchor=\"middle\" x=\"3478.5\" y=\"-372.3\" font-family=\"Times New Roman,serif\" font-size=\"14.00\">samples = 9086</text>\r\n",
       "<text text-anchor=\"middle\" x=\"3478.5\" y=\"-357.3\" font-family=\"Times New Roman,serif\" font-size=\"14.00\">value = [1004, 8082]</text>\r\n",
       "</g>\r\n",
       "<!-- 32&#45;&gt;48 -->\r\n",
       "<g id=\"edge48\" class=\"edge\"><title>32&#45;&gt;48</title>\r\n",
       "<path fill=\"none\" stroke=\"black\" d=\"M2773.34,-498.046C2920.77,-475.875 3253.17,-425.886 3402.89,-403.371\"/>\r\n",
       "<polygon fill=\"black\" stroke=\"black\" points=\"3403.55,-406.812 3412.91,-401.863 3402.5,-399.889 3403.55,-406.812\"/>\r\n",
       "</g>\r\n",
       "<!-- 34 -->\r\n",
       "<g id=\"node35\" class=\"node\"><title>34</title>\r\n",
       "<polygon fill=\"#f4cbad\" stroke=\"black\" points=\"2651,-313.5 2506,-313.5 2506,-230.5 2651,-230.5 2651,-313.5\"/>\r\n",
       "<text text-anchor=\"middle\" x=\"2578.5\" y=\"-298.3\" font-family=\"Times New Roman,serif\" font-size=\"14.00\">node #34</text>\r\n",
       "<text text-anchor=\"middle\" x=\"2578.5\" y=\"-283.3\" font-family=\"Times New Roman,serif\" font-size=\"14.00\">WEATHER &lt;= 9.5</text>\r\n",
       "<text text-anchor=\"middle\" x=\"2578.5\" y=\"-268.3\" font-family=\"Times New Roman,serif\" font-size=\"14.00\">gini = 0.466</text>\r\n",
       "<text text-anchor=\"middle\" x=\"2578.5\" y=\"-253.3\" font-family=\"Times New Roman,serif\" font-size=\"14.00\">samples = 65637</text>\r\n",
       "<text text-anchor=\"middle\" x=\"2578.5\" y=\"-238.3\" font-family=\"Times New Roman,serif\" font-size=\"14.00\">value = [41356, 24281]</text>\r\n",
       "</g>\r\n",
       "<!-- 33&#45;&gt;34 -->\r\n",
       "<g id=\"edge34\" class=\"edge\"><title>33&#45;&gt;34</title>\r\n",
       "<path fill=\"none\" stroke=\"black\" d=\"M2658.17,-349.407C2648.52,-340.151 2638.18,-330.232 2628.25,-320.709\"/>\r\n",
       "<polygon fill=\"black\" stroke=\"black\" points=\"2630.39,-317.916 2620.75,-313.521 2625.55,-322.969 2630.39,-317.916\"/>\r\n",
       "</g>\r\n",
       "<!-- 41 -->\r\n",
       "<g id=\"node42\" class=\"node\"><title>41</title>\r\n",
       "<polygon fill=\"#71b9ec\" stroke=\"black\" points=\"2889,-313.5 2752,-313.5 2752,-230.5 2889,-230.5 2889,-313.5\"/>\r\n",
       "<text text-anchor=\"middle\" x=\"2820.5\" y=\"-298.3\" font-family=\"Times New Roman,serif\" font-size=\"14.00\">node #41</text>\r\n",
       "<text text-anchor=\"middle\" x=\"2820.5\" y=\"-283.3\" font-family=\"Times New Roman,serif\" font-size=\"14.00\">ROADCOND &lt;= 8.5</text>\r\n",
       "<text text-anchor=\"middle\" x=\"2820.5\" y=\"-268.3\" font-family=\"Times New Roman,serif\" font-size=\"14.00\">gini = 0.343</text>\r\n",
       "<text text-anchor=\"middle\" x=\"2820.5\" y=\"-253.3\" font-family=\"Times New Roman,serif\" font-size=\"14.00\">samples = 2458</text>\r\n",
       "<text text-anchor=\"middle\" x=\"2820.5\" y=\"-238.3\" font-family=\"Times New Roman,serif\" font-size=\"14.00\">value = [541, 1917]</text>\r\n",
       "</g>\r\n",
       "<!-- 33&#45;&gt;41 -->\r\n",
       "<g id=\"edge41\" class=\"edge\"><title>33&#45;&gt;41</title>\r\n",
       "<path fill=\"none\" stroke=\"black\" d=\"M2742.13,-349.407C2751.63,-340.151 2761.8,-330.232 2771.57,-320.709\"/>\r\n",
       "<polygon fill=\"black\" stroke=\"black\" points=\"2774.22,-323.008 2778.94,-313.521 2769.34,-317.996 2774.22,-323.008\"/>\r\n",
       "</g>\r\n",
       "<!-- 35 -->\r\n",
       "<g id=\"node36\" class=\"node\"><title>35</title>\r\n",
       "<polygon fill=\"#f5cfb4\" stroke=\"black\" points=\"2440,-194.5 2295,-194.5 2295,-111.5 2440,-111.5 2440,-194.5\"/>\r\n",
       "<text text-anchor=\"middle\" x=\"2367.5\" y=\"-179.3\" font-family=\"Times New Roman,serif\" font-size=\"14.00\">node #35</text>\r\n",
       "<text text-anchor=\"middle\" x=\"2367.5\" y=\"-164.3\" font-family=\"Times New Roman,serif\" font-size=\"14.00\">SPEEDING &lt;= 0.5</text>\r\n",
       "<text text-anchor=\"middle\" x=\"2367.5\" y=\"-149.3\" font-family=\"Times New Roman,serif\" font-size=\"14.00\">gini = 0.473</text>\r\n",
       "<text text-anchor=\"middle\" x=\"2367.5\" y=\"-134.3\" font-family=\"Times New Roman,serif\" font-size=\"14.00\">samples = 63244</text>\r\n",
       "<text text-anchor=\"middle\" x=\"2367.5\" y=\"-119.3\" font-family=\"Times New Roman,serif\" font-size=\"14.00\">value = [39003, 24241]</text>\r\n",
       "</g>\r\n",
       "<!-- 34&#45;&gt;35 -->\r\n",
       "<g id=\"edge35\" class=\"edge\"><title>34&#45;&gt;35</title>\r\n",
       "<path fill=\"none\" stroke=\"black\" d=\"M2505.89,-230.735C2487.57,-220.578 2467.78,-209.605 2449.05,-199.222\"/>\r\n",
       "<polygon fill=\"black\" stroke=\"black\" points=\"2450.69,-196.127 2440.25,-194.339 2447.3,-202.249 2450.69,-196.127\"/>\r\n",
       "</g>\r\n",
       "<!-- 38 -->\r\n",
       "<g id=\"node39\" class=\"node\"><title>38</title>\r\n",
       "<polygon fill=\"#e5833c\" stroke=\"black\" points=\"2647,-194.5 2510,-194.5 2510,-111.5 2647,-111.5 2647,-194.5\"/>\r\n",
       "<text text-anchor=\"middle\" x=\"2578.5\" y=\"-179.3\" font-family=\"Times New Roman,serif\" font-size=\"14.00\">node #38</text>\r\n",
       "<text text-anchor=\"middle\" x=\"2578.5\" y=\"-164.3\" font-family=\"Times New Roman,serif\" font-size=\"14.00\">ROADCOND &lt;= 5.5</text>\r\n",
       "<text text-anchor=\"middle\" x=\"2578.5\" y=\"-149.3\" font-family=\"Times New Roman,serif\" font-size=\"14.00\">gini = 0.033</text>\r\n",
       "<text text-anchor=\"middle\" x=\"2578.5\" y=\"-134.3\" font-family=\"Times New Roman,serif\" font-size=\"14.00\">samples = 2393</text>\r\n",
       "<text text-anchor=\"middle\" x=\"2578.5\" y=\"-119.3\" font-family=\"Times New Roman,serif\" font-size=\"14.00\">value = [2353, 40]</text>\r\n",
       "</g>\r\n",
       "<!-- 34&#45;&gt;38 -->\r\n",
       "<g id=\"edge38\" class=\"edge\"><title>34&#45;&gt;38</title>\r\n",
       "<path fill=\"none\" stroke=\"black\" d=\"M2578.5,-230.407C2578.5,-222.149 2578.5,-213.364 2578.5,-204.802\"/>\r\n",
       "<polygon fill=\"black\" stroke=\"black\" points=\"2582,-204.521 2578.5,-194.521 2575,-204.521 2582,-204.521\"/>\r\n",
       "</g>\r\n",
       "<!-- 36 -->\r\n",
       "<g id=\"node37\" class=\"node\"><title>36</title>\r\n",
       "<polygon fill=\"#f6d4bc\" stroke=\"black\" points=\"2287,-68 2142,-68 2142,-0 2287,-0 2287,-68\"/>\r\n",
       "<text text-anchor=\"middle\" x=\"2214.5\" y=\"-52.8\" font-family=\"Times New Roman,serif\" font-size=\"14.00\">node #36</text>\r\n",
       "<text text-anchor=\"middle\" x=\"2214.5\" y=\"-37.8\" font-family=\"Times New Roman,serif\" font-size=\"14.00\">gini = 0.479</text>\r\n",
       "<text text-anchor=\"middle\" x=\"2214.5\" y=\"-22.8\" font-family=\"Times New Roman,serif\" font-size=\"14.00\">samples = 58992</text>\r\n",
       "<text text-anchor=\"middle\" x=\"2214.5\" y=\"-7.8\" font-family=\"Times New Roman,serif\" font-size=\"14.00\">value = [35504, 23488]</text>\r\n",
       "</g>\r\n",
       "<!-- 35&#45;&gt;36 -->\r\n",
       "<g id=\"edge36\" class=\"edge\"><title>35&#45;&gt;36</title>\r\n",
       "<path fill=\"none\" stroke=\"black\" d=\"M2314.42,-111.407C2298.69,-99.3798 2281.5,-86.2345 2265.88,-74.2909\"/>\r\n",
       "<polygon fill=\"black\" stroke=\"black\" points=\"2267.94,-71.4612 2257.87,-68.1669 2263.69,-77.0217 2267.94,-71.4612\"/>\r\n",
       "</g>\r\n",
       "<!-- 37 -->\r\n",
       "<g id=\"node38\" class=\"node\"><title>37</title>\r\n",
       "<polygon fill=\"#eb9c64\" stroke=\"black\" points=\"2430,-68 2305,-68 2305,-0 2430,-0 2430,-68\"/>\r\n",
       "<text text-anchor=\"middle\" x=\"2367.5\" y=\"-52.8\" font-family=\"Times New Roman,serif\" font-size=\"14.00\">node #37</text>\r\n",
       "<text text-anchor=\"middle\" x=\"2367.5\" y=\"-37.8\" font-family=\"Times New Roman,serif\" font-size=\"14.00\">gini = 0.291</text>\r\n",
       "<text text-anchor=\"middle\" x=\"2367.5\" y=\"-22.8\" font-family=\"Times New Roman,serif\" font-size=\"14.00\">samples = 4252</text>\r\n",
       "<text text-anchor=\"middle\" x=\"2367.5\" y=\"-7.8\" font-family=\"Times New Roman,serif\" font-size=\"14.00\">value = [3499, 753]</text>\r\n",
       "</g>\r\n",
       "<!-- 35&#45;&gt;37 -->\r\n",
       "<g id=\"edge37\" class=\"edge\"><title>35&#45;&gt;37</title>\r\n",
       "<path fill=\"none\" stroke=\"black\" d=\"M2367.5,-111.407C2367.5,-100.704 2367.5,-89.1154 2367.5,-78.2762\"/>\r\n",
       "<polygon fill=\"black\" stroke=\"black\" points=\"2371,-78.1669 2367.5,-68.1669 2364,-78.167 2371,-78.1669\"/>\r\n",
       "</g>\r\n",
       "<!-- 39 -->\r\n",
       "<g id=\"node40\" class=\"node\"><title>39</title>\r\n",
       "<polygon fill=\"#f6d1b7\" stroke=\"black\" points=\"2552.5,-68 2448.5,-68 2448.5,-0 2552.5,-0 2552.5,-68\"/>\r\n",
       "<text text-anchor=\"middle\" x=\"2500.5\" y=\"-52.8\" font-family=\"Times New Roman,serif\" font-size=\"14.00\">node #39</text>\r\n",
       "<text text-anchor=\"middle\" x=\"2500.5\" y=\"-37.8\" font-family=\"Times New Roman,serif\" font-size=\"14.00\">gini = 0.475</text>\r\n",
       "<text text-anchor=\"middle\" x=\"2500.5\" y=\"-22.8\" font-family=\"Times New Roman,serif\" font-size=\"14.00\">samples = 36</text>\r\n",
       "<text text-anchor=\"middle\" x=\"2500.5\" y=\"-7.8\" font-family=\"Times New Roman,serif\" font-size=\"14.00\">value = [22, 14]</text>\r\n",
       "</g>\r\n",
       "<!-- 38&#45;&gt;39 -->\r\n",
       "<g id=\"edge39\" class=\"edge\"><title>38&#45;&gt;39</title>\r\n",
       "<path fill=\"none\" stroke=\"black\" d=\"M2551.44,-111.407C2543.93,-100.152 2535.78,-87.9183 2528.24,-76.6062\"/>\r\n",
       "<polygon fill=\"black\" stroke=\"black\" points=\"2531.07,-74.546 2522.61,-68.1669 2525.25,-78.4289 2531.07,-74.546\"/>\r\n",
       "</g>\r\n",
       "<!-- 40 -->\r\n",
       "<g id=\"node41\" class=\"node\"><title>40</title>\r\n",
       "<polygon fill=\"#e5823b\" stroke=\"black\" points=\"2688.5,-68 2570.5,-68 2570.5,-0 2688.5,-0 2688.5,-68\"/>\r\n",
       "<text text-anchor=\"middle\" x=\"2629.5\" y=\"-52.8\" font-family=\"Times New Roman,serif\" font-size=\"14.00\">node #40</text>\r\n",
       "<text text-anchor=\"middle\" x=\"2629.5\" y=\"-37.8\" font-family=\"Times New Roman,serif\" font-size=\"14.00\">gini = 0.022</text>\r\n",
       "<text text-anchor=\"middle\" x=\"2629.5\" y=\"-22.8\" font-family=\"Times New Roman,serif\" font-size=\"14.00\">samples = 2357</text>\r\n",
       "<text text-anchor=\"middle\" x=\"2629.5\" y=\"-7.8\" font-family=\"Times New Roman,serif\" font-size=\"14.00\">value = [2331, 26]</text>\r\n",
       "</g>\r\n",
       "<!-- 38&#45;&gt;40 -->\r\n",
       "<g id=\"edge40\" class=\"edge\"><title>38&#45;&gt;40</title>\r\n",
       "<path fill=\"none\" stroke=\"black\" d=\"M2596.19,-111.407C2600.96,-100.483 2606.12,-88.6371 2610.93,-77.6067\"/>\r\n",
       "<polygon fill=\"black\" stroke=\"black\" points=\"2614.26,-78.7325 2615.04,-68.1669 2607.84,-75.9353 2614.26,-78.7325\"/>\r\n",
       "</g>\r\n",
       "<!-- 42 -->\r\n",
       "<g id=\"node43\" class=\"node\"><title>42</title>\r\n",
       "<polygon fill=\"#6cb6ec\" stroke=\"black\" points=\"2889,-194.5 2752,-194.5 2752,-111.5 2889,-111.5 2889,-194.5\"/>\r\n",
       "<text text-anchor=\"middle\" x=\"2820.5\" y=\"-179.3\" font-family=\"Times New Roman,serif\" font-size=\"14.00\">node #42</text>\r\n",
       "<text text-anchor=\"middle\" x=\"2820.5\" y=\"-164.3\" font-family=\"Times New Roman,serif\" font-size=\"14.00\">ROADCOND &lt;= 3.5</text>\r\n",
       "<text text-anchor=\"middle\" x=\"2820.5\" y=\"-149.3\" font-family=\"Times New Roman,serif\" font-size=\"14.00\">gini = 0.326</text>\r\n",
       "<text text-anchor=\"middle\" x=\"2820.5\" y=\"-134.3\" font-family=\"Times New Roman,serif\" font-size=\"14.00\">samples = 2321</text>\r\n",
       "<text text-anchor=\"middle\" x=\"2820.5\" y=\"-119.3\" font-family=\"Times New Roman,serif\" font-size=\"14.00\">value = [475, 1846]</text>\r\n",
       "</g>\r\n",
       "<!-- 41&#45;&gt;42 -->\r\n",
       "<g id=\"edge42\" class=\"edge\"><title>41&#45;&gt;42</title>\r\n",
       "<path fill=\"none\" stroke=\"black\" d=\"M2820.5,-230.407C2820.5,-222.149 2820.5,-213.364 2820.5,-204.802\"/>\r\n",
       "<polygon fill=\"black\" stroke=\"black\" points=\"2824,-204.521 2820.5,-194.521 2817,-204.521 2824,-204.521\"/>\r\n",
       "</g>\r\n",
       "<!-- 45 -->\r\n",
       "<g id=\"node46\" class=\"node\"><title>45</title>\r\n",
       "<polygon fill=\"#f1f8fd\" stroke=\"black\" points=\"3101.5,-194.5 2961.5,-194.5 2961.5,-111.5 3101.5,-111.5 3101.5,-194.5\"/>\r\n",
       "<text text-anchor=\"middle\" x=\"3031.5\" y=\"-179.3\" font-family=\"Times New Roman,serif\" font-size=\"14.00\">node #45</text>\r\n",
       "<text text-anchor=\"middle\" x=\"3031.5\" y=\"-164.3\" font-family=\"Times New Roman,serif\" font-size=\"14.00\">LIGHTCOND &lt;= 1.5</text>\r\n",
       "<text text-anchor=\"middle\" x=\"3031.5\" y=\"-149.3\" font-family=\"Times New Roman,serif\" font-size=\"14.00\">gini = 0.499</text>\r\n",
       "<text text-anchor=\"middle\" x=\"3031.5\" y=\"-134.3\" font-family=\"Times New Roman,serif\" font-size=\"14.00\">samples = 137</text>\r\n",
       "<text text-anchor=\"middle\" x=\"3031.5\" y=\"-119.3\" font-family=\"Times New Roman,serif\" font-size=\"14.00\">value = [66, 71]</text>\r\n",
       "</g>\r\n",
       "<!-- 41&#45;&gt;45 -->\r\n",
       "<g id=\"edge45\" class=\"edge\"><title>41&#45;&gt;45</title>\r\n",
       "<path fill=\"none\" stroke=\"black\" d=\"M2889.01,-233.013C2909.22,-221.804 2931.51,-209.443 2952.34,-197.894\"/>\r\n",
       "<polygon fill=\"black\" stroke=\"black\" points=\"2954.12,-200.91 2961.17,-193 2950.72,-194.788 2954.12,-200.91\"/>\r\n",
       "</g>\r\n",
       "<!-- 43 -->\r\n",
       "<g id=\"node44\" class=\"node\"><title>43</title>\r\n",
       "<polygon fill=\"#b7dbf6\" stroke=\"black\" points=\"2824.5,-68 2706.5,-68 2706.5,-0 2824.5,-0 2824.5,-68\"/>\r\n",
       "<text text-anchor=\"middle\" x=\"2765.5\" y=\"-52.8\" font-family=\"Times New Roman,serif\" font-size=\"14.00\">node #43</text>\r\n",
       "<text text-anchor=\"middle\" x=\"2765.5\" y=\"-37.8\" font-family=\"Times New Roman,serif\" font-size=\"14.00\">gini = 0.475</text>\r\n",
       "<text text-anchor=\"middle\" x=\"2765.5\" y=\"-22.8\" font-family=\"Times New Roman,serif\" font-size=\"14.00\">samples = 262</text>\r\n",
       "<text text-anchor=\"middle\" x=\"2765.5\" y=\"-7.8\" font-family=\"Times New Roman,serif\" font-size=\"14.00\">value = [102, 160]</text>\r\n",
       "</g>\r\n",
       "<!-- 42&#45;&gt;43 -->\r\n",
       "<g id=\"edge43\" class=\"edge\"><title>42&#45;&gt;43</title>\r\n",
       "<path fill=\"none\" stroke=\"black\" d=\"M2801.42,-111.407C2796.23,-100.373 2790.6,-88.3977 2785.37,-77.2727\"/>\r\n",
       "<polygon fill=\"black\" stroke=\"black\" points=\"2788.51,-75.7279 2781.09,-68.1669 2782.18,-78.7059 2788.51,-75.7279\"/>\r\n",
       "</g>\r\n",
       "<!-- 44 -->\r\n",
       "<g id=\"node45\" class=\"node\"><title>44</title>\r\n",
       "<polygon fill=\"#65b3eb\" stroke=\"black\" points=\"2968,-68 2843,-68 2843,-0 2968,-0 2968,-68\"/>\r\n",
       "<text text-anchor=\"middle\" x=\"2905.5\" y=\"-52.8\" font-family=\"Times New Roman,serif\" font-size=\"14.00\">node #44</text>\r\n",
       "<text text-anchor=\"middle\" x=\"2905.5\" y=\"-37.8\" font-family=\"Times New Roman,serif\" font-size=\"14.00\">gini = 0.297</text>\r\n",
       "<text text-anchor=\"middle\" x=\"2905.5\" y=\"-22.8\" font-family=\"Times New Roman,serif\" font-size=\"14.00\">samples = 2059</text>\r\n",
       "<text text-anchor=\"middle\" x=\"2905.5\" y=\"-7.8\" font-family=\"Times New Roman,serif\" font-size=\"14.00\">value = [373, 1686]</text>\r\n",
       "</g>\r\n",
       "<!-- 42&#45;&gt;44 -->\r\n",
       "<g id=\"edge44\" class=\"edge\"><title>42&#45;&gt;44</title>\r\n",
       "<path fill=\"none\" stroke=\"black\" d=\"M2849.99,-111.407C2858.25,-100.042 2867.23,-87.6783 2875.51,-76.2738\"/>\r\n",
       "<polygon fill=\"black\" stroke=\"black\" points=\"2878.36,-78.3145 2881.4,-68.1669 2872.7,-74.2001 2878.36,-78.3145\"/>\r\n",
       "</g>\r\n",
       "<!-- 46 -->\r\n",
       "<g id=\"node47\" class=\"node\"><title>46</title>\r\n",
       "<polygon fill=\"#399de5\" stroke=\"black\" points=\"3077,-68 2986,-68 2986,-0 3077,-0 3077,-68\"/>\r\n",
       "<text text-anchor=\"middle\" x=\"3031.5\" y=\"-52.8\" font-family=\"Times New Roman,serif\" font-size=\"14.00\">node #46</text>\r\n",
       "<text text-anchor=\"middle\" x=\"3031.5\" y=\"-37.8\" font-family=\"Times New Roman,serif\" font-size=\"14.00\">gini = 0.0</text>\r\n",
       "<text text-anchor=\"middle\" x=\"3031.5\" y=\"-22.8\" font-family=\"Times New Roman,serif\" font-size=\"14.00\">samples = 8</text>\r\n",
       "<text text-anchor=\"middle\" x=\"3031.5\" y=\"-7.8\" font-family=\"Times New Roman,serif\" font-size=\"14.00\">value = [0, 8]</text>\r\n",
       "</g>\r\n",
       "<!-- 45&#45;&gt;46 -->\r\n",
       "<g id=\"edge46\" class=\"edge\"><title>45&#45;&gt;46</title>\r\n",
       "<path fill=\"none\" stroke=\"black\" d=\"M3031.5,-111.407C3031.5,-100.704 3031.5,-89.1154 3031.5,-78.2762\"/>\r\n",
       "<polygon fill=\"black\" stroke=\"black\" points=\"3035,-78.1669 3031.5,-68.1669 3028,-78.167 3035,-78.1669\"/>\r\n",
       "</g>\r\n",
       "<!-- 47 -->\r\n",
       "<g id=\"node48\" class=\"node\"><title>47</title>\r\n",
       "<polygon fill=\"#fef9f6\" stroke=\"black\" points=\"3199.5,-68 3095.5,-68 3095.5,-0 3199.5,-0 3199.5,-68\"/>\r\n",
       "<text text-anchor=\"middle\" x=\"3147.5\" y=\"-52.8\" font-family=\"Times New Roman,serif\" font-size=\"14.00\">node #47</text>\r\n",
       "<text text-anchor=\"middle\" x=\"3147.5\" y=\"-37.8\" font-family=\"Times New Roman,serif\" font-size=\"14.00\">gini = 0.5</text>\r\n",
       "<text text-anchor=\"middle\" x=\"3147.5\" y=\"-22.8\" font-family=\"Times New Roman,serif\" font-size=\"14.00\">samples = 129</text>\r\n",
       "<text text-anchor=\"middle\" x=\"3147.5\" y=\"-7.8\" font-family=\"Times New Roman,serif\" font-size=\"14.00\">value = [66, 63]</text>\r\n",
       "</g>\r\n",
       "<!-- 45&#45;&gt;47 -->\r\n",
       "<g id=\"edge47\" class=\"edge\"><title>45&#45;&gt;47</title>\r\n",
       "<path fill=\"none\" stroke=\"black\" d=\"M3071.75,-111.407C3083.34,-99.7109 3095.99,-86.9573 3107.56,-75.2797\"/>\r\n",
       "<polygon fill=\"black\" stroke=\"black\" points=\"3110.06,-77.7326 3114.62,-68.1669 3105.09,-72.8041 3110.06,-77.7326\"/>\r\n",
       "</g>\r\n",
       "<!-- 49 -->\r\n",
       "<g id=\"node50\" class=\"node\"><title>49</title>\r\n",
       "<polygon fill=\"#51a9e8\" stroke=\"black\" points=\"3566.5,-313.5 3390.5,-313.5 3390.5,-230.5 3566.5,-230.5 3566.5,-313.5\"/>\r\n",
       "<text text-anchor=\"middle\" x=\"3478.5\" y=\"-298.3\" font-family=\"Times New Roman,serif\" font-size=\"14.00\">node #49</text>\r\n",
       "<text text-anchor=\"middle\" x=\"3478.5\" y=\"-283.3\" font-family=\"Times New Roman,serif\" font-size=\"14.00\">INATTENTIONIND &lt;= 0.5</text>\r\n",
       "<text text-anchor=\"middle\" x=\"3478.5\" y=\"-268.3\" font-family=\"Times New Roman,serif\" font-size=\"14.00\">gini = 0.192</text>\r\n",
       "<text text-anchor=\"middle\" x=\"3478.5\" y=\"-253.3\" font-family=\"Times New Roman,serif\" font-size=\"14.00\">samples = 9037</text>\r\n",
       "<text text-anchor=\"middle\" x=\"3478.5\" y=\"-238.3\" font-family=\"Times New Roman,serif\" font-size=\"14.00\">value = [971, 8066]</text>\r\n",
       "</g>\r\n",
       "<!-- 48&#45;&gt;49 -->\r\n",
       "<g id=\"edge49\" class=\"edge\"><title>48&#45;&gt;49</title>\r\n",
       "<path fill=\"none\" stroke=\"black\" d=\"M3478.5,-349.407C3478.5,-341.149 3478.5,-332.364 3478.5,-323.802\"/>\r\n",
       "<polygon fill=\"black\" stroke=\"black\" points=\"3482,-323.521 3478.5,-313.521 3475,-323.521 3482,-323.521\"/>\r\n",
       "</g>\r\n",
       "<!-- 56 -->\r\n",
       "<g id=\"node57\" class=\"node\"><title>56</title>\r\n",
       "<polygon fill=\"#f2be99\" stroke=\"black\" points=\"3924,-313.5 3763,-313.5 3763,-230.5 3924,-230.5 3924,-313.5\"/>\r\n",
       "<text text-anchor=\"middle\" x=\"3843.5\" y=\"-298.3\" font-family=\"Times New Roman,serif\" font-size=\"14.00\">node #56</text>\r\n",
       "<text text-anchor=\"middle\" x=\"3843.5\" y=\"-283.3\" font-family=\"Times New Roman,serif\" font-size=\"14.00\">JUNCTIONTYPE &lt;= 5.0</text>\r\n",
       "<text text-anchor=\"middle\" x=\"3843.5\" y=\"-268.3\" font-family=\"Times New Roman,serif\" font-size=\"14.00\">gini = 0.44</text>\r\n",
       "<text text-anchor=\"middle\" x=\"3843.5\" y=\"-253.3\" font-family=\"Times New Roman,serif\" font-size=\"14.00\">samples = 49</text>\r\n",
       "<text text-anchor=\"middle\" x=\"3843.5\" y=\"-238.3\" font-family=\"Times New Roman,serif\" font-size=\"14.00\">value = [33, 16]</text>\r\n",
       "</g>\r\n",
       "<!-- 48&#45;&gt;56 -->\r\n",
       "<g id=\"edge56\" class=\"edge\"><title>48&#45;&gt;56</title>\r\n",
       "<path fill=\"none\" stroke=\"black\" d=\"M3544.18,-368.948C3602.45,-350.268 3688.14,-322.8 3752.92,-302.035\"/>\r\n",
       "<polygon fill=\"black\" stroke=\"black\" points=\"3754.27,-305.278 3762.72,-298.893 3752.13,-298.612 3754.27,-305.278\"/>\r\n",
       "</g>\r\n",
       "<!-- 50 -->\r\n",
       "<g id=\"node51\" class=\"node\"><title>50</title>\r\n",
       "<polygon fill=\"#4fa8e8\" stroke=\"black\" points=\"3470,-194.5 3333,-194.5 3333,-111.5 3470,-111.5 3470,-194.5\"/>\r\n",
       "<text text-anchor=\"middle\" x=\"3401.5\" y=\"-179.3\" font-family=\"Times New Roman,serif\" font-size=\"14.00\">node #50</text>\r\n",
       "<text text-anchor=\"middle\" x=\"3401.5\" y=\"-164.3\" font-family=\"Times New Roman,serif\" font-size=\"14.00\">ROADCOND &lt;= 8.5</text>\r\n",
       "<text text-anchor=\"middle\" x=\"3401.5\" y=\"-149.3\" font-family=\"Times New Roman,serif\" font-size=\"14.00\">gini = 0.183</text>\r\n",
       "<text text-anchor=\"middle\" x=\"3401.5\" y=\"-134.3\" font-family=\"Times New Roman,serif\" font-size=\"14.00\">samples = 8633</text>\r\n",
       "<text text-anchor=\"middle\" x=\"3401.5\" y=\"-119.3\" font-family=\"Times New Roman,serif\" font-size=\"14.00\">value = [879, 7754]</text>\r\n",
       "</g>\r\n",
       "<!-- 49&#45;&gt;50 -->\r\n",
       "<g id=\"edge50\" class=\"edge\"><title>49&#45;&gt;50</title>\r\n",
       "<path fill=\"none\" stroke=\"black\" d=\"M3451.79,-230.407C3445.99,-221.605 3439.8,-212.203 3433.82,-203.112\"/>\r\n",
       "<polygon fill=\"black\" stroke=\"black\" points=\"3436.59,-200.95 3428.17,-194.521 3430.74,-204.798 3436.59,-200.95\"/>\r\n",
       "</g>\r\n",
       "<!-- 53 -->\r\n",
       "<g id=\"node54\" class=\"node\"><title>53</title>\r\n",
       "<polygon fill=\"#73baed\" stroke=\"black\" points=\"3625,-194.5 3488,-194.5 3488,-111.5 3625,-111.5 3625,-194.5\"/>\r\n",
       "<text text-anchor=\"middle\" x=\"3556.5\" y=\"-179.3\" font-family=\"Times New Roman,serif\" font-size=\"14.00\">node #53</text>\r\n",
       "<text text-anchor=\"middle\" x=\"3556.5\" y=\"-164.3\" font-family=\"Times New Roman,serif\" font-size=\"14.00\">ROADCOND &lt;= 7.5</text>\r\n",
       "<text text-anchor=\"middle\" x=\"3556.5\" y=\"-149.3\" font-family=\"Times New Roman,serif\" font-size=\"14.00\">gini = 0.352</text>\r\n",
       "<text text-anchor=\"middle\" x=\"3556.5\" y=\"-134.3\" font-family=\"Times New Roman,serif\" font-size=\"14.00\">samples = 404</text>\r\n",
       "<text text-anchor=\"middle\" x=\"3556.5\" y=\"-119.3\" font-family=\"Times New Roman,serif\" font-size=\"14.00\">value = [92, 312]</text>\r\n",
       "</g>\r\n",
       "<!-- 49&#45;&gt;53 -->\r\n",
       "<g id=\"edge53\" class=\"edge\"><title>49&#45;&gt;53</title>\r\n",
       "<path fill=\"none\" stroke=\"black\" d=\"M3505.56,-230.407C3511.43,-221.605 3517.7,-212.203 3523.76,-203.112\"/>\r\n",
       "<polygon fill=\"black\" stroke=\"black\" points=\"3526.85,-204.783 3529.49,-194.521 3521.03,-200.9 3526.85,-204.783\"/>\r\n",
       "</g>\r\n",
       "<!-- 51 -->\r\n",
       "<g id=\"node52\" class=\"node\"><title>51</title>\r\n",
       "<polygon fill=\"#4ea8e8\" stroke=\"black\" points=\"3343,-68 3218,-68 3218,-0 3343,-0 3343,-68\"/>\r\n",
       "<text text-anchor=\"middle\" x=\"3280.5\" y=\"-52.8\" font-family=\"Times New Roman,serif\" font-size=\"14.00\">node #51</text>\r\n",
       "<text text-anchor=\"middle\" x=\"3280.5\" y=\"-37.8\" font-family=\"Times New Roman,serif\" font-size=\"14.00\">gini = 0.177</text>\r\n",
       "<text text-anchor=\"middle\" x=\"3280.5\" y=\"-22.8\" font-family=\"Times New Roman,serif\" font-size=\"14.00\">samples = 8348</text>\r\n",
       "<text text-anchor=\"middle\" x=\"3280.5\" y=\"-7.8\" font-family=\"Times New Roman,serif\" font-size=\"14.00\">value = [817, 7531]</text>\r\n",
       "</g>\r\n",
       "<!-- 50&#45;&gt;51 -->\r\n",
       "<g id=\"edge51\" class=\"edge\"><title>50&#45;&gt;51</title>\r\n",
       "<path fill=\"none\" stroke=\"black\" d=\"M3359.52,-111.407C3347.42,-99.7109 3334.23,-86.9573 3322.16,-75.2797\"/>\r\n",
       "<polygon fill=\"black\" stroke=\"black\" points=\"3324.42,-72.6021 3314.8,-68.1669 3319.56,-77.6343 3324.42,-72.6021\"/>\r\n",
       "</g>\r\n",
       "<!-- 52 -->\r\n",
       "<g id=\"node53\" class=\"node\"><title>52</title>\r\n",
       "<polygon fill=\"#70b8ec\" stroke=\"black\" points=\"3472,-68 3361,-68 3361,-0 3472,-0 3472,-68\"/>\r\n",
       "<text text-anchor=\"middle\" x=\"3416.5\" y=\"-52.8\" font-family=\"Times New Roman,serif\" font-size=\"14.00\">node #52</text>\r\n",
       "<text text-anchor=\"middle\" x=\"3416.5\" y=\"-37.8\" font-family=\"Times New Roman,serif\" font-size=\"14.00\">gini = 0.34</text>\r\n",
       "<text text-anchor=\"middle\" x=\"3416.5\" y=\"-22.8\" font-family=\"Times New Roman,serif\" font-size=\"14.00\">samples = 285</text>\r\n",
       "<text text-anchor=\"middle\" x=\"3416.5\" y=\"-7.8\" font-family=\"Times New Roman,serif\" font-size=\"14.00\">value = [62, 223]</text>\r\n",
       "</g>\r\n",
       "<!-- 50&#45;&gt;52 -->\r\n",
       "<g id=\"edge52\" class=\"edge\"><title>50&#45;&gt;52</title>\r\n",
       "<path fill=\"none\" stroke=\"black\" d=\"M3406.7,-111.407C3408.08,-100.704 3409.56,-89.1154 3410.95,-78.2762\"/>\r\n",
       "<polygon fill=\"black\" stroke=\"black\" points=\"3414.45,-78.5309 3412.25,-68.1669 3407.5,-77.6406 3414.45,-78.5309\"/>\r\n",
       "</g>\r\n",
       "<!-- 54 -->\r\n",
       "<g id=\"node55\" class=\"node\"><title>54</title>\r\n",
       "<polygon fill=\"#93caf1\" stroke=\"black\" points=\"3594.5,-68 3490.5,-68 3490.5,-0 3594.5,-0 3594.5,-68\"/>\r\n",
       "<text text-anchor=\"middle\" x=\"3542.5\" y=\"-52.8\" font-family=\"Times New Roman,serif\" font-size=\"14.00\">node #54</text>\r\n",
       "<text text-anchor=\"middle\" x=\"3542.5\" y=\"-37.8\" font-family=\"Times New Roman,serif\" font-size=\"14.00\">gini = 0.43</text>\r\n",
       "<text text-anchor=\"middle\" x=\"3542.5\" y=\"-22.8\" font-family=\"Times New Roman,serif\" font-size=\"14.00\">samples = 96</text>\r\n",
       "<text text-anchor=\"middle\" x=\"3542.5\" y=\"-7.8\" font-family=\"Times New Roman,serif\" font-size=\"14.00\">value = [30, 66]</text>\r\n",
       "</g>\r\n",
       "<!-- 53&#45;&gt;54 -->\r\n",
       "<g id=\"edge54\" class=\"edge\"><title>53&#45;&gt;54</title>\r\n",
       "<path fill=\"none\" stroke=\"black\" d=\"M3551.64,-111.407C3550.36,-100.704 3548.98,-89.1154 3547.68,-78.2762\"/>\r\n",
       "<polygon fill=\"black\" stroke=\"black\" points=\"3551.13,-77.6802 3546.47,-68.1669 3544.18,-78.512 3551.13,-77.6802\"/>\r\n",
       "</g>\r\n",
       "<!-- 55 -->\r\n",
       "<g id=\"node56\" class=\"node\"><title>55</title>\r\n",
       "<polygon fill=\"#6bb6ec\" stroke=\"black\" points=\"3724,-68 3613,-68 3613,-0 3724,-0 3724,-68\"/>\r\n",
       "<text text-anchor=\"middle\" x=\"3668.5\" y=\"-52.8\" font-family=\"Times New Roman,serif\" font-size=\"14.00\">node #55</text>\r\n",
       "<text text-anchor=\"middle\" x=\"3668.5\" y=\"-37.8\" font-family=\"Times New Roman,serif\" font-size=\"14.00\">gini = 0.322</text>\r\n",
       "<text text-anchor=\"middle\" x=\"3668.5\" y=\"-22.8\" font-family=\"Times New Roman,serif\" font-size=\"14.00\">samples = 308</text>\r\n",
       "<text text-anchor=\"middle\" x=\"3668.5\" y=\"-7.8\" font-family=\"Times New Roman,serif\" font-size=\"14.00\">value = [62, 246]</text>\r\n",
       "</g>\r\n",
       "<!-- 53&#45;&gt;55 -->\r\n",
       "<g id=\"edge55\" class=\"edge\"><title>53&#45;&gt;55</title>\r\n",
       "<path fill=\"none\" stroke=\"black\" d=\"M3595.36,-111.407C3606.45,-99.8212 3618.53,-87.1978 3629.62,-75.6105\"/>\r\n",
       "<polygon fill=\"black\" stroke=\"black\" points=\"3632.36,-77.811 3636.75,-68.1669 3627.31,-72.9704 3632.36,-77.811\"/>\r\n",
       "</g>\r\n",
       "<!-- 57 -->\r\n",
       "<g id=\"node58\" class=\"node\"><title>57</title>\r\n",
       "<polygon fill=\"#f4c9aa\" stroke=\"black\" points=\"3911.5,-194.5 3775.5,-194.5 3775.5,-111.5 3911.5,-111.5 3911.5,-194.5\"/>\r\n",
       "<text text-anchor=\"middle\" x=\"3843.5\" y=\"-179.3\" font-family=\"Times New Roman,serif\" font-size=\"14.00\">node #57</text>\r\n",
       "<text text-anchor=\"middle\" x=\"3843.5\" y=\"-164.3\" font-family=\"Times New Roman,serif\" font-size=\"14.00\">UNDERINFL &lt;= 1.5</text>\r\n",
       "<text text-anchor=\"middle\" x=\"3843.5\" y=\"-149.3\" font-family=\"Times New Roman,serif\" font-size=\"14.00\">gini = 0.463</text>\r\n",
       "<text text-anchor=\"middle\" x=\"3843.5\" y=\"-134.3\" font-family=\"Times New Roman,serif\" font-size=\"14.00\">samples = 44</text>\r\n",
       "<text text-anchor=\"middle\" x=\"3843.5\" y=\"-119.3\" font-family=\"Times New Roman,serif\" font-size=\"14.00\">value = [28, 16]</text>\r\n",
       "</g>\r\n",
       "<!-- 56&#45;&gt;57 -->\r\n",
       "<g id=\"edge57\" class=\"edge\"><title>56&#45;&gt;57</title>\r\n",
       "<path fill=\"none\" stroke=\"black\" d=\"M3843.5,-230.407C3843.5,-222.149 3843.5,-213.364 3843.5,-204.802\"/>\r\n",
       "<polygon fill=\"black\" stroke=\"black\" points=\"3847,-204.521 3843.5,-194.521 3840,-204.521 3847,-204.521\"/>\r\n",
       "</g>\r\n",
       "<!-- 60 -->\r\n",
       "<g id=\"node61\" class=\"node\"><title>60</title>\r\n",
       "<polygon fill=\"#e58139\" stroke=\"black\" points=\"4059,-68 3968,-68 3968,-0 4059,-0 4059,-68\"/>\r\n",
       "<text text-anchor=\"middle\" x=\"4013.5\" y=\"-52.8\" font-family=\"Times New Roman,serif\" font-size=\"14.00\">node #60</text>\r\n",
       "<text text-anchor=\"middle\" x=\"4013.5\" y=\"-37.8\" font-family=\"Times New Roman,serif\" font-size=\"14.00\">gini = 0.0</text>\r\n",
       "<text text-anchor=\"middle\" x=\"4013.5\" y=\"-22.8\" font-family=\"Times New Roman,serif\" font-size=\"14.00\">samples = 5</text>\r\n",
       "<text text-anchor=\"middle\" x=\"4013.5\" y=\"-7.8\" font-family=\"Times New Roman,serif\" font-size=\"14.00\">value = [5, 0]</text>\r\n",
       "</g>\r\n",
       "<!-- 56&#45;&gt;60 -->\r\n",
       "<g id=\"edge60\" class=\"edge\"><title>56&#45;&gt;60</title>\r\n",
       "<path fill=\"none\" stroke=\"black\" d=\"M3884.71,-230.063C3903.01,-211.874 3920.5,-194.5 3920.5,-194.5 3920.5,-194.5 3961.53,-124.13 3989.09,-76.8725\"/>\r\n",
       "<polygon fill=\"black\" stroke=\"black\" points=\"3992.22,-78.4503 3994.23,-68.0485 3986.17,-74.9243 3992.22,-78.4503\"/>\r\n",
       "</g>\r\n",
       "<!-- 58 -->\r\n",
       "<g id=\"node59\" class=\"node\"><title>58</title>\r\n",
       "<polygon fill=\"#e6f3fc\" stroke=\"black\" points=\"3833,-68 3742,-68 3742,-0 3833,-0 3833,-68\"/>\r\n",
       "<text text-anchor=\"middle\" x=\"3787.5\" y=\"-52.8\" font-family=\"Times New Roman,serif\" font-size=\"14.00\">node #58</text>\r\n",
       "<text text-anchor=\"middle\" x=\"3787.5\" y=\"-37.8\" font-family=\"Times New Roman,serif\" font-size=\"14.00\">gini = 0.498</text>\r\n",
       "<text text-anchor=\"middle\" x=\"3787.5\" y=\"-22.8\" font-family=\"Times New Roman,serif\" font-size=\"14.00\">samples = 15</text>\r\n",
       "<text text-anchor=\"middle\" x=\"3787.5\" y=\"-7.8\" font-family=\"Times New Roman,serif\" font-size=\"14.00\">value = [7, 8]</text>\r\n",
       "</g>\r\n",
       "<!-- 57&#45;&gt;58 -->\r\n",
       "<g id=\"edge58\" class=\"edge\"><title>57&#45;&gt;58</title>\r\n",
       "<path fill=\"none\" stroke=\"black\" d=\"M3824.07,-111.407C3818.79,-100.373 3813.06,-88.3977 3807.73,-77.2727\"/>\r\n",
       "<polygon fill=\"black\" stroke=\"black\" points=\"3810.85,-75.6759 3803.37,-68.1669 3804.54,-78.6981 3810.85,-75.6759\"/>\r\n",
       "</g>\r\n",
       "<!-- 59 -->\r\n",
       "<g id=\"node60\" class=\"node\"><title>59</title>\r\n",
       "<polygon fill=\"#efb184\" stroke=\"black\" points=\"3949.5,-68 3851.5,-68 3851.5,-0 3949.5,-0 3949.5,-68\"/>\r\n",
       "<text text-anchor=\"middle\" x=\"3900.5\" y=\"-52.8\" font-family=\"Times New Roman,serif\" font-size=\"14.00\">node #59</text>\r\n",
       "<text text-anchor=\"middle\" x=\"3900.5\" y=\"-37.8\" font-family=\"Times New Roman,serif\" font-size=\"14.00\">gini = 0.4</text>\r\n",
       "<text text-anchor=\"middle\" x=\"3900.5\" y=\"-22.8\" font-family=\"Times New Roman,serif\" font-size=\"14.00\">samples = 29</text>\r\n",
       "<text text-anchor=\"middle\" x=\"3900.5\" y=\"-7.8\" font-family=\"Times New Roman,serif\" font-size=\"14.00\">value = [21, 8]</text>\r\n",
       "</g>\r\n",
       "<!-- 57&#45;&gt;59 -->\r\n",
       "<g id=\"edge59\" class=\"edge\"><title>57&#45;&gt;59</title>\r\n",
       "<path fill=\"none\" stroke=\"black\" d=\"M3863.28,-111.407C3868.65,-100.373 3874.49,-88.3977 3879.91,-77.2727\"/>\r\n",
       "<polygon fill=\"black\" stroke=\"black\" points=\"3883.11,-78.6898 3884.34,-68.1669 3876.82,-75.6239 3883.11,-78.6898\"/>\r\n",
       "</g>\r\n",
       "</g>\r\n",
       "</svg>\r\n"
      ],
      "text/plain": [
       "<graphviz.files.Source at 0x1b2c3abef88>"
      ]
     },
     "execution_count": 59,
     "metadata": {},
     "output_type": "execute_result"
    }
   ],
   "source": [
    "# Since we have a lot of data, lets only set max_depth=5\n",
    "# This will speed up the process to graph\n",
    "dt_model2 = DecisionTreeClassifier(random_state=1, max_depth=5)\n",
    "dt_model2.fit(X_train, y_train)\n",
    "plot_tree(dt_model2, X.columns.tolist())"
   ]
  },
  {
   "cell_type": "code",
   "execution_count": 60,
   "metadata": {},
   "outputs": [
    {
     "data": {
      "text/plain": [
       "Mid-Block (not related to intersection)              89800\n",
       "At Intersection (intersection related)               62810\n",
       "Mid-Block (but intersection related)                 22790\n",
       "Driveway Junction                                    10671\n",
       "UNKOWN                                                6329\n",
       "At Intersection (but not related to intersection)     2098\n",
       "Ramp Junction                                          166\n",
       "Unknown                                                  9\n",
       "Name: JUNCTIONTYPE, dtype: int64"
      ]
     },
     "execution_count": 60,
     "metadata": {},
     "output_type": "execute_result"
    }
   ],
   "source": [
    "# Feature 2\n",
    "d1['JUNCTIONTYPE'].value_counts()"
   ]
  },
  {
   "cell_type": "code",
   "execution_count": 61,
   "metadata": {},
   "outputs": [
    {
     "data": {
      "text/html": [
       "<div>\n",
       "<style scoped>\n",
       "    .dataframe tbody tr th:only-of-type {\n",
       "        vertical-align: middle;\n",
       "    }\n",
       "\n",
       "    .dataframe tbody tr th {\n",
       "        vertical-align: top;\n",
       "    }\n",
       "\n",
       "    .dataframe thead th {\n",
       "        text-align: right;\n",
       "    }\n",
       "</style>\n",
       "<table border=\"1\" class=\"dataframe\">\n",
       "  <thead>\n",
       "    <tr style=\"text-align: right;\">\n",
       "      <th></th>\n",
       "      <th>SEVERITYCODE</th>\n",
       "      <th>SEVERITYDESC</th>\n",
       "      <th>COLLISIONTYPE</th>\n",
       "      <th>JUNCTIONTYPE</th>\n",
       "      <th>SDOT_COLCODE</th>\n",
       "      <th>SDOT_COLDESC</th>\n",
       "      <th>INATTENTIONIND</th>\n",
       "      <th>UNDERINFL</th>\n",
       "      <th>WEATHER</th>\n",
       "      <th>ROADCOND</th>\n",
       "      <th>LIGHTCOND</th>\n",
       "      <th>SPEEDING</th>\n",
       "    </tr>\n",
       "  </thead>\n",
       "  <tbody>\n",
       "    <tr>\n",
       "      <th>0</th>\n",
       "      <td>2</td>\n",
       "      <td>Injury Collision</td>\n",
       "      <td>Angles</td>\n",
       "      <td>At Intersection (intersection related)</td>\n",
       "      <td>11</td>\n",
       "      <td>MOTOR VEHICLE STRUCK MOTOR VEHICLE, FRONT END ...</td>\n",
       "      <td>UNKOWN</td>\n",
       "      <td>N</td>\n",
       "      <td>Overcast</td>\n",
       "      <td>Wet</td>\n",
       "      <td>Daylight</td>\n",
       "      <td>UNKOWN</td>\n",
       "    </tr>\n",
       "    <tr>\n",
       "      <th>1</th>\n",
       "      <td>1</td>\n",
       "      <td>Property Damage Only Collision</td>\n",
       "      <td>Sideswipe</td>\n",
       "      <td>Mid-Block (not related to intersection)</td>\n",
       "      <td>16</td>\n",
       "      <td>MOTOR VEHICLE STRUCK MOTOR VEHICLE, LEFT SIDE ...</td>\n",
       "      <td>UNKOWN</td>\n",
       "      <td>0</td>\n",
       "      <td>Raining</td>\n",
       "      <td>Wet</td>\n",
       "      <td>Dark - Street Lights On</td>\n",
       "      <td>UNKOWN</td>\n",
       "    </tr>\n",
       "    <tr>\n",
       "      <th>2</th>\n",
       "      <td>1</td>\n",
       "      <td>Property Damage Only Collision</td>\n",
       "      <td>Parked Car</td>\n",
       "      <td>Mid-Block (not related to intersection)</td>\n",
       "      <td>14</td>\n",
       "      <td>MOTOR VEHICLE STRUCK MOTOR VEHICLE, REAR END</td>\n",
       "      <td>UNKOWN</td>\n",
       "      <td>0</td>\n",
       "      <td>Overcast</td>\n",
       "      <td>Dry</td>\n",
       "      <td>Daylight</td>\n",
       "      <td>UNKOWN</td>\n",
       "    </tr>\n",
       "  </tbody>\n",
       "</table>\n",
       "</div>"
      ],
      "text/plain": [
       "   SEVERITYCODE                    SEVERITYDESC COLLISIONTYPE  \\\n",
       "0             2                Injury Collision        Angles   \n",
       "1             1  Property Damage Only Collision     Sideswipe   \n",
       "2             1  Property Damage Only Collision    Parked Car   \n",
       "\n",
       "                              JUNCTIONTYPE  SDOT_COLCODE  \\\n",
       "0   At Intersection (intersection related)            11   \n",
       "1  Mid-Block (not related to intersection)            16   \n",
       "2  Mid-Block (not related to intersection)            14   \n",
       "\n",
       "                                        SDOT_COLDESC INATTENTIONIND UNDERINFL  \\\n",
       "0  MOTOR VEHICLE STRUCK MOTOR VEHICLE, FRONT END ...         UNKOWN         N   \n",
       "1  MOTOR VEHICLE STRUCK MOTOR VEHICLE, LEFT SIDE ...         UNKOWN         0   \n",
       "2       MOTOR VEHICLE STRUCK MOTOR VEHICLE, REAR END         UNKOWN         0   \n",
       "\n",
       "    WEATHER ROADCOND                LIGHTCOND SPEEDING  \n",
       "0  Overcast      Wet                 Daylight   UNKOWN  \n",
       "1   Raining      Wet  Dark - Street Lights On   UNKOWN  \n",
       "2  Overcast      Dry                 Daylight   UNKOWN  "
      ]
     },
     "execution_count": 61,
     "metadata": {},
     "output_type": "execute_result"
    }
   ],
   "source": [
    "d1.head(3)"
   ]
  },
  {
   "cell_type": "code",
   "execution_count": 47,
   "metadata": {},
   "outputs": [
    {
     "data": {
      "text/plain": [
       "Index(['Mid-Block (not related to intersection)',\n",
       "       'Mid-Block (but intersection related)',\n",
       "       'At Intersection (intersection related)',\n",
       "       'At Intersection (but not related to intersection)',\n",
       "       'Driveway Junction', 'UNKOWN', 'Ramp Junction'],\n",
       "      dtype='object')"
      ]
     },
     "execution_count": 47,
     "metadata": {},
     "output_type": "execute_result"
    }
   ],
   "source": [
    "# Selecting the columns with only \"Rear Ended crashes\n",
    "rear_end = d1[d1['COLLISIONTYPE'] == 'Rear Ended']\n",
    "rear_end.JUNCTIONTYPE.value_counts().index"
   ]
  },
  {
   "cell_type": "code",
   "execution_count": null,
   "metadata": {
    "scrolled": true
   },
   "outputs": [],
   "source": []
  },
  {
   "cell_type": "markdown",
   "metadata": {},
   "source": [
    "### Visualizing the Impact of each major feature on rear End Type Crashes. Here are the top 3 reasons."
   ]
  },
  {
   "cell_type": "markdown",
   "metadata": {},
   "source": [
    "Junction Type : Category of junction at which collision took place "
   ]
  },
  {
   "cell_type": "code",
   "execution_count": 48,
   "metadata": {},
   "outputs": [
    {
     "data": {
      "image/png": "[encoded data removed]",
      "text/plain": [
       "<Figure size 576x576 with 1 Axes>"
      ]
     },
     "metadata": {
      "needs_background": "light"
     },
     "output_type": "display_data"
    }
   ],
   "source": [
    "# Bar graph of top 15 Junction Types\n",
    "\n",
    "plt.figure(figsize=(8,8))\n",
    "\n",
    "y= rear_end.JUNCTIONTYPE.value_counts().values[:15]\n",
    "x=rear_end.JUNCTIONTYPE.value_counts().index[:15]\n",
    "\n",
    "sn.barplot(y, x)\n",
    "plt.title('Top 15 Rear End Crashes Junction Type', size=25)\n",
    "plt.ylabel(\"(Contributory)\", size=20, rotation=0)\n",
    "plt.xlabel(\"(Quantity)\", size=20)\n",
    "plt.xticks(size=10)\n",
    "plt.yticks(size=10);"
   ]
  },
  {
   "cell_type": "code",
   "execution_count": 49,
   "metadata": {
    "scrolled": true
   },
   "outputs": [
    {
     "data": {
      "text/plain": [
       "Index(['Daylight', 'Dark - Street Lights On', 'Dusk', 'Unknown', 'Dawn',\n",
       "       'Dark - No Street Lights', 'Dark - Street Lights Off', 'Other',\n",
       "       'Dark - Unknown Lighting'],\n",
       "      dtype='object')"
      ]
     },
     "execution_count": 49,
     "metadata": {},
     "output_type": "execute_result"
    }
   ],
   "source": [
    "# Selecting the columns with only \"Rear Ended\" crashes\n",
    "rear_end = d1[d1['COLLISIONTYPE'] == 'Rear Ended']\n",
    "rear_end.LIGHTCOND.value_counts().index"
   ]
  },
  {
   "cell_type": "markdown",
   "metadata": {},
   "source": [
    "LightCond : The light conditions during the collision."
   ]
  },
  {
   "cell_type": "code",
   "execution_count": 50,
   "metadata": {
    "scrolled": true
   },
   "outputs": [
    {
     "data": {
      "image/png": "[encoded data removed]",
      "text/plain": [
       "<Figure size 576x576 with 1 Axes>"
      ]
     },
     "metadata": {
      "needs_background": "light"
     },
     "output_type": "display_data"
    }
   ],
   "source": [
    "# Bar graph of top 15 Light conditions\n",
    "\n",
    "plt.figure(figsize=(8,8))\n",
    "\n",
    "y= rear_end.LIGHTCOND.value_counts().values[:15]\n",
    "x=rear_end.LIGHTCOND.value_counts().index[:15]\n",
    "\n",
    "sn.barplot(y, x)\n",
    "plt.title('Top 15 Rear End Crashes Light Condition based', size=25)\n",
    "plt.ylabel(\"(Contributory)\", size=20, rotation=90)\n",
    "plt.xlabel(\"(Quantity)\", size=20)\n",
    "plt.xticks(size=10)\n",
    "plt.yticks(size=10);"
   ]
  },
  {
   "cell_type": "code",
   "execution_count": 66,
   "metadata": {},
   "outputs": [
    {
     "data": {
      "text/plain": [
       "Index(['Clear', 'Raining', 'Overcast', 'Unknown', 'Fog/Smog/Smoke', 'Snowing',\n",
       "       'Other', 'UNKOWN', 'Sleet/Hail/Freezing Rain', 'Blowing Sand/Dirt',\n",
       "       'Severe Crosswind'],\n",
       "      dtype='object')"
      ]
     },
     "execution_count": 66,
     "metadata": {},
     "output_type": "execute_result"
    }
   ],
   "source": [
    "# Selecting the columns with only \"Rear Ended\" crashes\n",
    "rear_end = d1[d1['COLLISIONTYPE'] == 'Rear Ended']\n",
    "rear_end.WEATHER.value_counts().index"
   ]
  },
  {
   "cell_type": "markdown",
   "metadata": {},
   "source": [
    "Weather : A description of the weather conditions during the time of the collision."
   ]
  },
  {
   "cell_type": "code",
   "execution_count": 116,
   "metadata": {},
   "outputs": [
    {
     "data": {
      "image/png": "[encoded data removed]",
      "text/plain": [
       "<Figure size 576x576 with 1 Axes>"
      ]
     },
     "metadata": {
      "needs_background": "light"
     },
     "output_type": "display_data"
    }
   ],
   "source": [
    "# Bar graph of top 15 Weather conditions\n",
    "\n",
    "plt.figure(figsize=(8,8))\n",
    "\n",
    "y= rear_end.WEATHER.value_counts().values[:15]\n",
    "x=rear_end.WEATHER.value_counts().index[:15]\n",
    "\n",
    "sn.barplot(y, x)\n",
    "plt.title('Top 15 Rear End Crashes Weather based', size=25)\n",
    "plt.ylabel(\"(Contributory)\", size=20, rotation=90)\n",
    "plt.xlabel(\"(Quantity)\", size=20)\n",
    "plt.xticks(size=10)\n",
    "plt.yticks(size=10);"
   ]
  },
  {
   "cell_type": "markdown",
   "metadata": {},
   "source": [
    "From the above analysis we understand that rear ended collisions have the most severity. Weather, light conditions and type of junction plays a crucial role in these type of collisions."
   ]
  }
 ],
 "metadata": {
  "kernelspec": {
   "display_name": "Python 3",
   "language": "python",
   "name": "python3"
  },
  "language_info": {
   "codemirror_mode": {
    "name": "ipython",
    "version": 3
   },
   "file_extension": ".py",
   "mimetype": "text/x-python",
   "name": "python",
   "nbconvert_exporter": "python",
   "pygments_lexer": "ipython3",
   "version": "3.7.6"
  }
 },
 "nbformat": 4,
 "nbformat_minor": 4
}
