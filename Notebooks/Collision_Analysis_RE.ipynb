{
 "cells": [
  {
   "cell_type": "markdown",
   "metadata": {},
   "source": [
    "# Collision Analysis"
   ]
  },
  {
   "cell_type": "markdown",
   "metadata": {},
   "source": [
    "### DATA EXPLORATION"
   ]
  },
  {
   "cell_type": "markdown",
   "metadata": {},
   "source": [
    " Importing all the required libraries"
   ]
  },
  {
   "cell_type": "code",
   "execution_count": 149,
   "metadata": {},
   "outputs": [],
   "source": [
    "# Importing libraries \n",
    "import pandas as pd \n",
    "import numpy as np\n",
    "import seaborn as sns \n",
    "from sklearn.preprocessing import OneHotEncoder, LabelEncoder\n",
    "from sklearn.model_selection import train_test_split, cross_val_score, GridSearchCV\n",
    "from sklearn.tree import DecisionTreeClassifier, export_graphviz\n",
    "from sklearn.metrics import accuracy_score, roc_auc_score\n",
    "\n",
    "#from mlxtend.evaluate import feature_importance_permutation\n",
    "\n",
    "import matplotlib.pyplot as plt\n",
    "%matplotlib inline\n",
    "\n",
    "import seaborn as sn"
   ]
  },
  {
   "cell_type": "markdown",
   "metadata": {},
   "source": [
    "Read the csv to a data frame"
   ]
  },
  {
   "cell_type": "code",
   "execution_count": 2,
   "metadata": {},
   "outputs": [
    {
     "name": "stderr",
     "output_type": "stream",
     "text": [
      "C:\\Users\\ShubhobrotoDey\\anaconda3\\lib\\site-packages\\IPython\\core\\interactiveshell.py:3063: DtypeWarning: Columns (33) have mixed types.Specify dtype option on import or set low_memory=False.\n",
      "  interactivity=interactivity, compiler=compiler, result=result)\n"
     ]
    }
   ],
   "source": [
    "d1=pd.read_csv(r\"C:\\Users\\ShubhobrotoDey\\Downloads\\IBM COURSERA\\C9_Capstone\\Data-Collisions.csv\")"
   ]
  },
  {
   "cell_type": "markdown",
   "metadata": {},
   "source": [
    "Take a peek into the data and its shape"
   ]
  },
  {
   "cell_type": "code",
   "execution_count": 3,
   "metadata": {},
   "outputs": [
    {
     "name": "stdout",
     "output_type": "stream",
     "text": [
      "<class 'pandas.core.frame.DataFrame'>\n",
      "RangeIndex: 194673 entries, 0 to 194672\n",
      "Data columns (total 38 columns):\n",
      " #   Column          Non-Null Count   Dtype  \n",
      "---  ------          --------------   -----  \n",
      " 0   SEVERITYCODE    194673 non-null  int64  \n",
      " 1   X               189339 non-null  float64\n",
      " 2   Y               189339 non-null  float64\n",
      " 3   OBJECTID        194673 non-null  int64  \n",
      " 4   INCKEY          194673 non-null  int64  \n",
      " 5   COLDETKEY       194673 non-null  int64  \n",
      " 6   REPORTNO        194673 non-null  object \n",
      " 7   STATUS          194673 non-null  object \n",
      " 8   ADDRTYPE        192747 non-null  object \n",
      " 9   INTKEY          65070 non-null   float64\n",
      " 10  LOCATION        191996 non-null  object \n",
      " 11  EXCEPTRSNCODE   84811 non-null   object \n",
      " 12  EXCEPTRSNDESC   5638 non-null    object \n",
      " 13  SEVERITYCODE.1  194673 non-null  int64  \n",
      " 14  SEVERITYDESC    194673 non-null  object \n",
      " 15  COLLISIONTYPE   189769 non-null  object \n",
      " 16  PERSONCOUNT     194673 non-null  int64  \n",
      " 17  PEDCOUNT        194673 non-null  int64  \n",
      " 18  PEDCYLCOUNT     194673 non-null  int64  \n",
      " 19  VEHCOUNT        194673 non-null  int64  \n",
      " 20  INCDATE         194673 non-null  object \n",
      " 21  INCDTTM         194673 non-null  object \n",
      " 22  JUNCTIONTYPE    188344 non-null  object \n",
      " 23  SDOT_COLCODE    194673 non-null  int64  \n",
      " 24  SDOT_COLDESC    194673 non-null  object \n",
      " 25  INATTENTIONIND  29805 non-null   object \n",
      " 26  UNDERINFL       189789 non-null  object \n",
      " 27  WEATHER         189592 non-null  object \n",
      " 28  ROADCOND        189661 non-null  object \n",
      " 29  LIGHTCOND       189503 non-null  object \n",
      " 30  PEDROWNOTGRNT   4667 non-null    object \n",
      " 31  SDOTCOLNUM      114936 non-null  float64\n",
      " 32  SPEEDING        9333 non-null    object \n",
      " 33  ST_COLCODE      194655 non-null  object \n",
      " 34  ST_COLDESC      189769 non-null  object \n",
      " 35  SEGLANEKEY      194673 non-null  int64  \n",
      " 36  CROSSWALKKEY    194673 non-null  int64  \n",
      " 37  HITPARKEDCAR    194673 non-null  object \n",
      "dtypes: float64(4), int64(12), object(22)\n",
      "memory usage: 56.4+ MB\n"
     ]
    }
   ],
   "source": [
    "d1.info()"
   ]
  },
  {
   "cell_type": "code",
   "execution_count": 4,
   "metadata": {},
   "outputs": [
    {
     "data": {
      "text/html": [
       "<div>\n",
       "<style scoped>\n",
       "    .dataframe tbody tr th:only-of-type {\n",
       "        vertical-align: middle;\n",
       "    }\n",
       "\n",
       "    .dataframe tbody tr th {\n",
       "        vertical-align: top;\n",
       "    }\n",
       "\n",
       "    .dataframe thead th {\n",
       "        text-align: right;\n",
       "    }\n",
       "</style>\n",
       "<table border=\"1\" class=\"dataframe\">\n",
       "  <thead>\n",
       "    <tr style=\"text-align: right;\">\n",
       "      <th></th>\n",
       "      <th>SEVERITYCODE</th>\n",
       "      <th>X</th>\n",
       "      <th>Y</th>\n",
       "      <th>OBJECTID</th>\n",
       "      <th>INCKEY</th>\n",
       "      <th>COLDETKEY</th>\n",
       "      <th>REPORTNO</th>\n",
       "      <th>STATUS</th>\n",
       "      <th>ADDRTYPE</th>\n",
       "      <th>INTKEY</th>\n",
       "      <th>...</th>\n",
       "      <th>ROADCOND</th>\n",
       "      <th>LIGHTCOND</th>\n",
       "      <th>PEDROWNOTGRNT</th>\n",
       "      <th>SDOTCOLNUM</th>\n",
       "      <th>SPEEDING</th>\n",
       "      <th>ST_COLCODE</th>\n",
       "      <th>ST_COLDESC</th>\n",
       "      <th>SEGLANEKEY</th>\n",
       "      <th>CROSSWALKKEY</th>\n",
       "      <th>HITPARKEDCAR</th>\n",
       "    </tr>\n",
       "  </thead>\n",
       "  <tbody>\n",
       "    <tr>\n",
       "      <th>0</th>\n",
       "      <td>2</td>\n",
       "      <td>-122.323148</td>\n",
       "      <td>47.703140</td>\n",
       "      <td>1</td>\n",
       "      <td>1307</td>\n",
       "      <td>1307</td>\n",
       "      <td>3502005</td>\n",
       "      <td>Matched</td>\n",
       "      <td>Intersection</td>\n",
       "      <td>37475.0</td>\n",
       "      <td>...</td>\n",
       "      <td>Wet</td>\n",
       "      <td>Daylight</td>\n",
       "      <td>NaN</td>\n",
       "      <td>NaN</td>\n",
       "      <td>NaN</td>\n",
       "      <td>10</td>\n",
       "      <td>Entering at angle</td>\n",
       "      <td>0</td>\n",
       "      <td>0</td>\n",
       "      <td>N</td>\n",
       "    </tr>\n",
       "    <tr>\n",
       "      <th>1</th>\n",
       "      <td>1</td>\n",
       "      <td>-122.347294</td>\n",
       "      <td>47.647172</td>\n",
       "      <td>2</td>\n",
       "      <td>52200</td>\n",
       "      <td>52200</td>\n",
       "      <td>2607959</td>\n",
       "      <td>Matched</td>\n",
       "      <td>Block</td>\n",
       "      <td>NaN</td>\n",
       "      <td>...</td>\n",
       "      <td>Wet</td>\n",
       "      <td>Dark - Street Lights On</td>\n",
       "      <td>NaN</td>\n",
       "      <td>6354039.0</td>\n",
       "      <td>NaN</td>\n",
       "      <td>11</td>\n",
       "      <td>From same direction - both going straight - bo...</td>\n",
       "      <td>0</td>\n",
       "      <td>0</td>\n",
       "      <td>N</td>\n",
       "    </tr>\n",
       "    <tr>\n",
       "      <th>2</th>\n",
       "      <td>1</td>\n",
       "      <td>-122.334540</td>\n",
       "      <td>47.607871</td>\n",
       "      <td>3</td>\n",
       "      <td>26700</td>\n",
       "      <td>26700</td>\n",
       "      <td>1482393</td>\n",
       "      <td>Matched</td>\n",
       "      <td>Block</td>\n",
       "      <td>NaN</td>\n",
       "      <td>...</td>\n",
       "      <td>Dry</td>\n",
       "      <td>Daylight</td>\n",
       "      <td>NaN</td>\n",
       "      <td>4323031.0</td>\n",
       "      <td>NaN</td>\n",
       "      <td>32</td>\n",
       "      <td>One parked--one moving</td>\n",
       "      <td>0</td>\n",
       "      <td>0</td>\n",
       "      <td>N</td>\n",
       "    </tr>\n",
       "  </tbody>\n",
       "</table>\n",
       "<p>3 rows × 38 columns</p>\n",
       "</div>"
      ],
      "text/plain": [
       "   SEVERITYCODE           X          Y  OBJECTID  INCKEY  COLDETKEY REPORTNO  \\\n",
       "0             2 -122.323148  47.703140         1    1307       1307  3502005   \n",
       "1             1 -122.347294  47.647172         2   52200      52200  2607959   \n",
       "2             1 -122.334540  47.607871         3   26700      26700  1482393   \n",
       "\n",
       "    STATUS      ADDRTYPE   INTKEY  ... ROADCOND                LIGHTCOND  \\\n",
       "0  Matched  Intersection  37475.0  ...      Wet                 Daylight   \n",
       "1  Matched         Block      NaN  ...      Wet  Dark - Street Lights On   \n",
       "2  Matched         Block      NaN  ...      Dry                 Daylight   \n",
       "\n",
       "  PEDROWNOTGRNT  SDOTCOLNUM SPEEDING ST_COLCODE  \\\n",
       "0           NaN         NaN      NaN         10   \n",
       "1           NaN   6354039.0      NaN         11   \n",
       "2           NaN   4323031.0      NaN         32   \n",
       "\n",
       "                                          ST_COLDESC  SEGLANEKEY  \\\n",
       "0                                  Entering at angle           0   \n",
       "1  From same direction - both going straight - bo...           0   \n",
       "2                             One parked--one moving           0   \n",
       "\n",
       "   CROSSWALKKEY  HITPARKEDCAR  \n",
       "0             0             N  \n",
       "1             0             N  \n",
       "2             0             N  \n",
       "\n",
       "[3 rows x 38 columns]"
      ]
     },
     "execution_count": 4,
     "metadata": {},
     "output_type": "execute_result"
    }
   ],
   "source": [
    "d1.head(3)"
   ]
  },
  {
   "cell_type": "code",
   "execution_count": 5,
   "metadata": {},
   "outputs": [
    {
     "data": {
      "text/plain": [
       "(194673, 38)"
      ]
     },
     "execution_count": 5,
     "metadata": {},
     "output_type": "execute_result"
    }
   ],
   "source": [
    "d1.shape"
   ]
  },
  {
   "cell_type": "code",
   "execution_count": 8,
   "metadata": {},
   "outputs": [
    {
     "data": {
      "text/plain": [
       "SEVERITYCODE           2\n",
       "X                  23563\n",
       "Y                  23839\n",
       "OBJECTID          194673\n",
       "INCKEY            194673\n",
       "COLDETKEY         194673\n",
       "REPORTNO          194670\n",
       "STATUS                 2\n",
       "ADDRTYPE               3\n",
       "INTKEY              7614\n",
       "LOCATION           24102\n",
       "EXCEPTRSNCODE          2\n",
       "EXCEPTRSNDESC          1\n",
       "SEVERITYCODE.1         2\n",
       "SEVERITYDESC           2\n",
       "COLLISIONTYPE         10\n",
       "PERSONCOUNT           47\n",
       "PEDCOUNT               7\n",
       "PEDCYLCOUNT            3\n",
       "VEHCOUNT              13\n",
       "INCDATE             5985\n",
       "INCDTTM           162058\n",
       "JUNCTIONTYPE           7\n",
       "SDOT_COLCODE          39\n",
       "SDOT_COLDESC          39\n",
       "INATTENTIONIND         1\n",
       "UNDERINFL              4\n",
       "WEATHER               11\n",
       "ROADCOND               9\n",
       "LIGHTCOND              9\n",
       "PEDROWNOTGRNT          1\n",
       "SDOTCOLNUM        114932\n",
       "SPEEDING               1\n",
       "ST_COLCODE           115\n",
       "ST_COLDESC            62\n",
       "SEGLANEKEY          1955\n",
       "CROSSWALKKEY        2198\n",
       "HITPARKEDCAR           2\n",
       "dtype: int64"
      ]
     },
     "execution_count": 8,
     "metadata": {},
     "output_type": "execute_result"
    }
   ],
   "source": [
    "d1.nunique() #Analysing number of unique values per column"
   ]
  },
  {
   "cell_type": "code",
   "execution_count": 9,
   "metadata": {},
   "outputs": [
    {
     "data": {
      "text/plain": [
       "SEVERITYCODE           0\n",
       "X                   5334\n",
       "Y                   5334\n",
       "OBJECTID               0\n",
       "INCKEY                 0\n",
       "COLDETKEY              0\n",
       "REPORTNO               0\n",
       "STATUS                 0\n",
       "ADDRTYPE            1926\n",
       "INTKEY            129603\n",
       "LOCATION            2677\n",
       "EXCEPTRSNCODE     109862\n",
       "EXCEPTRSNDESC     189035\n",
       "SEVERITYCODE.1         0\n",
       "SEVERITYDESC           0\n",
       "COLLISIONTYPE       4904\n",
       "PERSONCOUNT            0\n",
       "PEDCOUNT               0\n",
       "PEDCYLCOUNT            0\n",
       "VEHCOUNT               0\n",
       "INCDATE                0\n",
       "INCDTTM                0\n",
       "JUNCTIONTYPE        6329\n",
       "SDOT_COLCODE           0\n",
       "SDOT_COLDESC           0\n",
       "INATTENTIONIND    164868\n",
       "UNDERINFL           4884\n",
       "WEATHER             5081\n",
       "ROADCOND            5012\n",
       "LIGHTCOND           5170\n",
       "PEDROWNOTGRNT     190006\n",
       "SDOTCOLNUM         79737\n",
       "SPEEDING          185340\n",
       "ST_COLCODE            18\n",
       "ST_COLDESC          4904\n",
       "SEGLANEKEY             0\n",
       "CROSSWALKKEY           0\n",
       "HITPARKEDCAR           0\n",
       "dtype: int64"
      ]
     },
     "execution_count": 9,
     "metadata": {},
     "output_type": "execute_result"
    }
   ],
   "source": [
    "d1.isna().sum() #Finding total number of missing values in the data."
   ]
  },
  {
   "cell_type": "code",
   "execution_count": 12,
   "metadata": {},
   "outputs": [
    {
     "data": {
      "text/plain": [
       "<matplotlib.axes._subplots.AxesSubplot at 0x184cd6fb188>"
      ]
     },
     "execution_count": 12,
     "metadata": {},
     "output_type": "execute_result"
    },
    {
     "data": {
      "image/png": "[encoded data removed]",
      "text/plain": [
       "<Figure size 432x288 with 1 Axes>"
      ]
     },
     "metadata": {
      "needs_background": "light"
     },
     "output_type": "display_data"
    }
   ],
   "source": [
    "sns.heatmap(d1.isnull(), cbar=False) #Visualizing the missing values"
   ]
  },
  {
   "cell_type": "markdown",
   "metadata": {},
   "source": [
    "Now that we have underdstood the distribiution of the data, our agenda is to find out the various types od collisions that have occured and what was the most severe type amongst them."
   ]
  },
  {
   "cell_type": "code",
   "execution_count": 6,
   "metadata": {},
   "outputs": [
    {
     "data": {
      "text/plain": [
       "Index(['Parked Car', 'Angles', 'Rear Ended', 'Other', 'Sideswipe', 'Left Turn',\n",
       "       'Pedestrian', 'Cycles', 'Right Turn', 'Head On'],\n",
       "      dtype='object')"
      ]
     },
     "execution_count": 6,
     "metadata": {},
     "output_type": "execute_result"
    }
   ],
   "source": [
    "b=d1['COLLISIONTYPE'].value_counts().index\n",
    "b"
   ]
  },
  {
   "cell_type": "code",
   "execution_count": 13,
   "metadata": {},
   "outputs": [
    {
     "data": {
      "image/png": "[encoded data removed]",
      "text/plain": [
       "<Figure size 720x360 with 1 Axes>"
      ]
     },
     "metadata": {
      "needs_background": "light"
     },
     "output_type": "display_data"
    }
   ],
   "source": [
    "# Bar graph of top 10 type of collisions\n",
    "import seaborn as sns\n",
    "collision_count  = d1['COLLISIONTYPE'].value_counts()\n",
    "collision_count = collision_count[:10,]\n",
    "plt.figure(figsize=(10,5))\n",
    "sns.barplot(collision_count.index, collision_count.values, alpha=0.8)\n",
    "plt.title('Top 10 types of Collisions')\n",
    "plt.ylabel('Number of Occurrences', fontsize=12)\n",
    "plt.xlabel('Collision type', fontsize=12)\n",
    "plt.show()"
   ]
  },
  {
   "cell_type": "markdown",
   "metadata": {},
   "source": [
    "The above graph shows that Parked Car, Angles and Rear Ended collisions are the most frequest ones. Now we must find the severity of each type of collision to understand which has the most impact on life and property."
   ]
  },
  {
   "cell_type": "markdown",
   "metadata": {},
   "source": [
    "## DATA CLEANING"
   ]
  },
  {
   "cell_type": "markdown",
   "metadata": {},
   "source": [
    "Once we are clear with our goal, we must clean the data such that the NaN values do not cause any drastic impact on our analysis."
   ]
  },
  {
   "cell_type": "markdown",
   "metadata": {},
   "source": [
    "If we want to describe the most severe type of collision, we must split our datatset first into target and feature sets. To achieve this, we must undertsand what are the factors that could contribiute to a collision. Based on uderstanding the data, we find some useful columns like Road condition, Light condition, Weather, Under Influence etc.\n",
    "Once these columns are identified, we must make sure that these columns should have the least amount of unknown values."
   ]
  },
  {
   "cell_type": "code",
   "execution_count": 150,
   "metadata": {},
   "outputs": [],
   "source": [
    "# filling all na with the mode value in the columns that could be used a feature, so we can encode later\n",
    "d1[\"UNDERINFL\"] = d1[\"UNDERINFL\"].fillna(d1[\"UNDERINFL\"].mode()[0])\n",
    "d1[\"LIGHTCOND\"] = d1[\"LIGHTCOND\"].fillna(d1[\"LIGHTCOND\"].mode()[0])"
   ]
  },
  {
   "cell_type": "code",
   "execution_count": 17,
   "metadata": {},
   "outputs": [],
   "source": [
    "# dropping the unecessary columns that are not required for this analysis.\n",
    "d1.drop(['SEVERITYCODE','X','Y','OBJECTID','INCKEY','COLDETKEY','REPORTNO','STATUS',\n",
    "         'ADDRTYPE','INTKEY','LOCATION','EXCEPTRSNCODE','EXCEPTRSNDESC','INCDATE',\n",
    "         'INCDTTM','ST_COLCODE','SEGLANEKEY','CROSSWALKKEY','HITPARKEDCAR','PEDROWNOTGRNT','SDOTCOLNUM','ST_COLDESC','PERSONCOUNT','PEDCOUNT','PEDCYLCOUNT','VEHCOUNT'], axis=1, inplace=True)"
   ]
  },
  {
   "cell_type": "code",
   "execution_count": 18,
   "metadata": {},
   "outputs": [
    {
     "data": {
      "text/html": [
       "<div>\n",
       "<style scoped>\n",
       "    .dataframe tbody tr th:only-of-type {\n",
       "        vertical-align: middle;\n",
       "    }\n",
       "\n",
       "    .dataframe tbody tr th {\n",
       "        vertical-align: top;\n",
       "    }\n",
       "\n",
       "    .dataframe thead th {\n",
       "        text-align: right;\n",
       "    }\n",
       "</style>\n",
       "<table border=\"1\" class=\"dataframe\">\n",
       "  <thead>\n",
       "    <tr style=\"text-align: right;\">\n",
       "      <th></th>\n",
       "      <th>SEVERITYCODE.1</th>\n",
       "      <th>SEVERITYDESC</th>\n",
       "      <th>COLLISIONTYPE</th>\n",
       "      <th>JUNCTIONTYPE</th>\n",
       "      <th>SDOT_COLCODE</th>\n",
       "      <th>SDOT_COLDESC</th>\n",
       "      <th>INATTENTIONIND</th>\n",
       "      <th>UNDERINFL</th>\n",
       "      <th>WEATHER</th>\n",
       "      <th>ROADCOND</th>\n",
       "      <th>LIGHTCOND</th>\n",
       "      <th>SPEEDING</th>\n",
       "    </tr>\n",
       "  </thead>\n",
       "  <tbody>\n",
       "    <tr>\n",
       "      <th>0</th>\n",
       "      <td>2</td>\n",
       "      <td>Injury Collision</td>\n",
       "      <td>Angles</td>\n",
       "      <td>At Intersection (intersection related)</td>\n",
       "      <td>11</td>\n",
       "      <td>MOTOR VEHICLE STRUCK MOTOR VEHICLE, FRONT END ...</td>\n",
       "      <td>NaN</td>\n",
       "      <td>N</td>\n",
       "      <td>Overcast</td>\n",
       "      <td>Wet</td>\n",
       "      <td>Daylight</td>\n",
       "      <td>NaN</td>\n",
       "    </tr>\n",
       "    <tr>\n",
       "      <th>1</th>\n",
       "      <td>1</td>\n",
       "      <td>Property Damage Only Collision</td>\n",
       "      <td>Sideswipe</td>\n",
       "      <td>Mid-Block (not related to intersection)</td>\n",
       "      <td>16</td>\n",
       "      <td>MOTOR VEHICLE STRUCK MOTOR VEHICLE, LEFT SIDE ...</td>\n",
       "      <td>NaN</td>\n",
       "      <td>0</td>\n",
       "      <td>Raining</td>\n",
       "      <td>Wet</td>\n",
       "      <td>Dark - Street Lights On</td>\n",
       "      <td>NaN</td>\n",
       "    </tr>\n",
       "    <tr>\n",
       "      <th>2</th>\n",
       "      <td>1</td>\n",
       "      <td>Property Damage Only Collision</td>\n",
       "      <td>Parked Car</td>\n",
       "      <td>Mid-Block (not related to intersection)</td>\n",
       "      <td>14</td>\n",
       "      <td>MOTOR VEHICLE STRUCK MOTOR VEHICLE, REAR END</td>\n",
       "      <td>NaN</td>\n",
       "      <td>0</td>\n",
       "      <td>Overcast</td>\n",
       "      <td>Dry</td>\n",
       "      <td>Daylight</td>\n",
       "      <td>NaN</td>\n",
       "    </tr>\n",
       "    <tr>\n",
       "      <th>3</th>\n",
       "      <td>1</td>\n",
       "      <td>Property Damage Only Collision</td>\n",
       "      <td>Other</td>\n",
       "      <td>Mid-Block (not related to intersection)</td>\n",
       "      <td>11</td>\n",
       "      <td>MOTOR VEHICLE STRUCK MOTOR VEHICLE, FRONT END ...</td>\n",
       "      <td>NaN</td>\n",
       "      <td>N</td>\n",
       "      <td>Clear</td>\n",
       "      <td>Dry</td>\n",
       "      <td>Daylight</td>\n",
       "      <td>NaN</td>\n",
       "    </tr>\n",
       "    <tr>\n",
       "      <th>4</th>\n",
       "      <td>2</td>\n",
       "      <td>Injury Collision</td>\n",
       "      <td>Angles</td>\n",
       "      <td>At Intersection (intersection related)</td>\n",
       "      <td>11</td>\n",
       "      <td>MOTOR VEHICLE STRUCK MOTOR VEHICLE, FRONT END ...</td>\n",
       "      <td>NaN</td>\n",
       "      <td>0</td>\n",
       "      <td>Raining</td>\n",
       "      <td>Wet</td>\n",
       "      <td>Daylight</td>\n",
       "      <td>NaN</td>\n",
       "    </tr>\n",
       "  </tbody>\n",
       "</table>\n",
       "</div>"
      ],
      "text/plain": [
       "   SEVERITYCODE.1                    SEVERITYDESC COLLISIONTYPE  \\\n",
       "0               2                Injury Collision        Angles   \n",
       "1               1  Property Damage Only Collision     Sideswipe   \n",
       "2               1  Property Damage Only Collision    Parked Car   \n",
       "3               1  Property Damage Only Collision         Other   \n",
       "4               2                Injury Collision        Angles   \n",
       "\n",
       "                              JUNCTIONTYPE  SDOT_COLCODE  \\\n",
       "0   At Intersection (intersection related)            11   \n",
       "1  Mid-Block (not related to intersection)            16   \n",
       "2  Mid-Block (not related to intersection)            14   \n",
       "3  Mid-Block (not related to intersection)            11   \n",
       "4   At Intersection (intersection related)            11   \n",
       "\n",
       "                                        SDOT_COLDESC INATTENTIONIND UNDERINFL  \\\n",
       "0  MOTOR VEHICLE STRUCK MOTOR VEHICLE, FRONT END ...            NaN         N   \n",
       "1  MOTOR VEHICLE STRUCK MOTOR VEHICLE, LEFT SIDE ...            NaN         0   \n",
       "2       MOTOR VEHICLE STRUCK MOTOR VEHICLE, REAR END            NaN         0   \n",
       "3  MOTOR VEHICLE STRUCK MOTOR VEHICLE, FRONT END ...            NaN         N   \n",
       "4  MOTOR VEHICLE STRUCK MOTOR VEHICLE, FRONT END ...            NaN         0   \n",
       "\n",
       "    WEATHER ROADCOND                LIGHTCOND SPEEDING  \n",
       "0  Overcast      Wet                 Daylight      NaN  \n",
       "1   Raining      Wet  Dark - Street Lights On      NaN  \n",
       "2  Overcast      Dry                 Daylight      NaN  \n",
       "3     Clear      Dry                 Daylight      NaN  \n",
       "4   Raining      Wet                 Daylight      NaN  "
      ]
     },
     "execution_count": 18,
     "metadata": {},
     "output_type": "execute_result"
    }
   ],
   "source": [
    "d1.head(5)"
   ]
  },
  {
   "cell_type": "code",
   "execution_count": 19,
   "metadata": {},
   "outputs": [
    {
     "name": "stdout",
     "output_type": "stream",
     "text": [
      "<class 'pandas.core.frame.DataFrame'>\n",
      "RangeIndex: 194673 entries, 0 to 194672\n",
      "Data columns (total 12 columns):\n",
      " #   Column          Non-Null Count   Dtype \n",
      "---  ------          --------------   ----- \n",
      " 0   SEVERITYCODE.1  194673 non-null  int64 \n",
      " 1   SEVERITYDESC    194673 non-null  object\n",
      " 2   COLLISIONTYPE   189769 non-null  object\n",
      " 3   JUNCTIONTYPE    188344 non-null  object\n",
      " 4   SDOT_COLCODE    194673 non-null  int64 \n",
      " 5   SDOT_COLDESC    194673 non-null  object\n",
      " 6   INATTENTIONIND  29805 non-null   object\n",
      " 7   UNDERINFL       194673 non-null  object\n",
      " 8   WEATHER         189592 non-null  object\n",
      " 9   ROADCOND        189661 non-null  object\n",
      " 10  LIGHTCOND       194673 non-null  object\n",
      " 11  SPEEDING        9333 non-null    object\n",
      "dtypes: int64(2), object(10)\n",
      "memory usage: 17.8+ MB\n"
     ]
    }
   ],
   "source": [
    "d1.info()"
   ]
  },
  {
   "cell_type": "markdown",
   "metadata": {},
   "source": [
    "Filling up the remaining columns with UNKNOWN string "
   ]
  },
  {
   "cell_type": "code",
   "execution_count": 23,
   "metadata": {},
   "outputs": [],
   "source": [
    "# filling all na with UNKNOWN string, so we can encode later\n",
    "d1.fillna('UNKOWN', inplace=True)"
   ]
  },
  {
   "cell_type": "markdown",
   "metadata": {},
   "source": [
    "Renaming the Severity Code column"
   ]
  },
  {
   "cell_type": "code",
   "execution_count": 41,
   "metadata": {},
   "outputs": [],
   "source": [
    "d1.rename(columns={\"SEVERITYCODE.1\":\"SEVERITYCODE\"},inplace=True)"
   ]
  },
  {
   "cell_type": "markdown",
   "metadata": {},
   "source": [
    "\n",
    "## DATA PREPROCESSING: OneHotEncoding\n",
    "\n",
    "One hot encoding is a process by which categorical \n",
    "variables are converted into a form that could be provided to ML algorithms to do a better job in prediction.\n",
    "Since our target column is a categorical variable, we implent onehot encoding to build a decision tree.\n"
   ]
  },
  {
   "cell_type": "code",
   "execution_count": 30,
   "metadata": {},
   "outputs": [],
   "source": [
    "ohe = OneHotEncoder(handle_unknown='ignore')"
   ]
  },
  {
   "cell_type": "markdown",
   "metadata": {},
   "source": [
    "\n",
    "Building the target datframe. Since we want to analyse the Collision Types, we set the same as our Target Column.\n"
   ]
  },
  {
   "cell_type": "code",
   "execution_count": 31,
   "metadata": {},
   "outputs": [],
   "source": [
    "# Creating a new dataframe for COLLISION_TYPE\n",
    "# Then we will OneHotEncode the data to categories\n",
    "COLLISION_type1 = d1['COLLISIONTYPE']\n",
    "COLLISION_d1 = pd.DataFrame(COLLISION_type1, columns=['COLLISIONTYPE'])\n",
    "COLLISION_d1 = pd.DataFrame(ohe.fit_transform(COLLISION_d1[['COLLISIONTYPE']]).toarray())"
   ]
  },
  {
   "cell_type": "code",
   "execution_count": 32,
   "metadata": {},
   "outputs": [],
   "source": [
    "# Each column will be a COLLISION_TYPE, so we will need to label each column\n",
    "COLLISION_col1 = d1['COLLISIONTYPE'].unique()\n",
    "COLLISION_d1.columns = COLLISION_col1"
   ]
  },
  {
   "cell_type": "code",
   "execution_count": 33,
   "metadata": {},
   "outputs": [
    {
     "data": {
      "text/plain": [
       "Index(['Angles', 'Sideswipe', 'Parked Car', 'Other', 'Cycles', 'Rear Ended',\n",
       "       'Head On', 'UNKOWN', 'Left Turn', 'Pedestrian', 'Right Turn'],\n",
       "      dtype='object')"
      ]
     },
     "execution_count": 33,
     "metadata": {},
     "output_type": "execute_result"
    }
   ],
   "source": [
    "COLLISION_d1.columns"
   ]
  },
  {
   "cell_type": "markdown",
   "metadata": {},
   "source": [
    "\n",
    "Building the Features (label encoded) dataframe. This dataframe should contain all the causal factors that can contribute to the severity of a collision."
   ]
  },
  {
   "cell_type": "code",
   "execution_count": 34,
   "metadata": {},
   "outputs": [
    {
     "data": {
      "text/html": [
       "<div>\n",
       "<style scoped>\n",
       "    .dataframe tbody tr th:only-of-type {\n",
       "        vertical-align: middle;\n",
       "    }\n",
       "\n",
       "    .dataframe tbody tr th {\n",
       "        vertical-align: top;\n",
       "    }\n",
       "\n",
       "    .dataframe thead th {\n",
       "        text-align: right;\n",
       "    }\n",
       "</style>\n",
       "<table border=\"1\" class=\"dataframe\">\n",
       "  <thead>\n",
       "    <tr style=\"text-align: right;\">\n",
       "      <th></th>\n",
       "      <th>WEATHER</th>\n",
       "      <th>LIGHTCOND</th>\n",
       "      <th>JUNCTIONTYPE</th>\n",
       "      <th>UNDERINFL</th>\n",
       "      <th>ROADCOND</th>\n",
       "      <th>INATTENTIONIND</th>\n",
       "      <th>SPEEDING</th>\n",
       "    </tr>\n",
       "  </thead>\n",
       "  <tbody>\n",
       "    <tr>\n",
       "      <th>0</th>\n",
       "      <td>4</td>\n",
       "      <td>5</td>\n",
       "      <td>1</td>\n",
       "      <td>2</td>\n",
       "      <td>9</td>\n",
       "      <td>0</td>\n",
       "      <td>0</td>\n",
       "    </tr>\n",
       "    <tr>\n",
       "      <th>1</th>\n",
       "      <td>6</td>\n",
       "      <td>2</td>\n",
       "      <td>4</td>\n",
       "      <td>0</td>\n",
       "      <td>9</td>\n",
       "      <td>0</td>\n",
       "      <td>0</td>\n",
       "    </tr>\n",
       "    <tr>\n",
       "      <th>2</th>\n",
       "      <td>4</td>\n",
       "      <td>5</td>\n",
       "      <td>4</td>\n",
       "      <td>0</td>\n",
       "      <td>0</td>\n",
       "      <td>0</td>\n",
       "      <td>0</td>\n",
       "    </tr>\n",
       "    <tr>\n",
       "      <th>3</th>\n",
       "      <td>1</td>\n",
       "      <td>5</td>\n",
       "      <td>4</td>\n",
       "      <td>2</td>\n",
       "      <td>0</td>\n",
       "      <td>0</td>\n",
       "      <td>0</td>\n",
       "    </tr>\n",
       "    <tr>\n",
       "      <th>4</th>\n",
       "      <td>6</td>\n",
       "      <td>5</td>\n",
       "      <td>1</td>\n",
       "      <td>0</td>\n",
       "      <td>9</td>\n",
       "      <td>0</td>\n",
       "      <td>0</td>\n",
       "    </tr>\n",
       "    <tr>\n",
       "      <th>...</th>\n",
       "      <td>...</td>\n",
       "      <td>...</td>\n",
       "      <td>...</td>\n",
       "      <td>...</td>\n",
       "      <td>...</td>\n",
       "      <td>...</td>\n",
       "      <td>...</td>\n",
       "    </tr>\n",
       "    <tr>\n",
       "      <th>194668</th>\n",
       "      <td>1</td>\n",
       "      <td>5</td>\n",
       "      <td>4</td>\n",
       "      <td>2</td>\n",
       "      <td>0</td>\n",
       "      <td>0</td>\n",
       "      <td>0</td>\n",
       "    </tr>\n",
       "    <tr>\n",
       "      <th>194669</th>\n",
       "      <td>6</td>\n",
       "      <td>5</td>\n",
       "      <td>4</td>\n",
       "      <td>2</td>\n",
       "      <td>9</td>\n",
       "      <td>1</td>\n",
       "      <td>0</td>\n",
       "    </tr>\n",
       "    <tr>\n",
       "      <th>194670</th>\n",
       "      <td>1</td>\n",
       "      <td>5</td>\n",
       "      <td>1</td>\n",
       "      <td>2</td>\n",
       "      <td>0</td>\n",
       "      <td>0</td>\n",
       "      <td>0</td>\n",
       "    </tr>\n",
       "    <tr>\n",
       "      <th>194671</th>\n",
       "      <td>1</td>\n",
       "      <td>6</td>\n",
       "      <td>1</td>\n",
       "      <td>2</td>\n",
       "      <td>0</td>\n",
       "      <td>0</td>\n",
       "      <td>0</td>\n",
       "    </tr>\n",
       "    <tr>\n",
       "      <th>194672</th>\n",
       "      <td>1</td>\n",
       "      <td>5</td>\n",
       "      <td>4</td>\n",
       "      <td>2</td>\n",
       "      <td>9</td>\n",
       "      <td>0</td>\n",
       "      <td>0</td>\n",
       "    </tr>\n",
       "  </tbody>\n",
       "</table>\n",
       "<p>194673 rows × 7 columns</p>\n",
       "</div>"
      ],
      "text/plain": [
       "        WEATHER  LIGHTCOND  JUNCTIONTYPE  UNDERINFL  ROADCOND  INATTENTIONIND  \\\n",
       "0             4          5             1          2         9               0   \n",
       "1             6          2             4          0         9               0   \n",
       "2             4          5             4          0         0               0   \n",
       "3             1          5             4          2         0               0   \n",
       "4             6          5             1          0         9               0   \n",
       "...         ...        ...           ...        ...       ...             ...   \n",
       "194668        1          5             4          2         0               0   \n",
       "194669        6          5             4          2         9               1   \n",
       "194670        1          5             1          2         0               0   \n",
       "194671        1          6             1          2         0               0   \n",
       "194672        1          5             4          2         9               0   \n",
       "\n",
       "        SPEEDING  \n",
       "0              0  \n",
       "1              0  \n",
       "2              0  \n",
       "3              0  \n",
       "4              0  \n",
       "...          ...  \n",
       "194668         0  \n",
       "194669         0  \n",
       "194670         0  \n",
       "194671         0  \n",
       "194672         0  \n",
       "\n",
       "[194673 rows x 7 columns]"
      ]
     },
     "execution_count": 34,
     "metadata": {},
     "output_type": "execute_result"
    }
   ],
   "source": [
    "# Here we select the features we want to use and LabelEncode them using a for loop\n",
    "# We will also create a new dataframe for them\n",
    "text_col = ['WEATHER', 'LIGHTCOND', 'JUNCTIONTYPE', 'UNDERINFL', 'ROADCOND', 'INATTENTIONIND', 'SPEEDING']\n",
    "en_df1 = pd.DataFrame()\n",
    "for col in text_col:\n",
    "    encoder = LabelEncoder()\n",
    "    en_df1[col] = encoder.fit_transform(d1[col])\n",
    "    \n",
    "en_df1"
   ]
  },
  {
   "cell_type": "markdown",
   "metadata": {},
   "source": [
    "Building the severity dataframe"
   ]
  },
  {
   "cell_type": "code",
   "execution_count": 42,
   "metadata": {},
   "outputs": [
    {
     "data": {
      "text/html": [
       "<div>\n",
       "<style scoped>\n",
       "    .dataframe tbody tr th:only-of-type {\n",
       "        vertical-align: middle;\n",
       "    }\n",
       "\n",
       "    .dataframe tbody tr th {\n",
       "        vertical-align: top;\n",
       "    }\n",
       "\n",
       "    .dataframe thead th {\n",
       "        text-align: right;\n",
       "    }\n",
       "</style>\n",
       "<table border=\"1\" class=\"dataframe\">\n",
       "  <thead>\n",
       "    <tr style=\"text-align: right;\">\n",
       "      <th></th>\n",
       "      <th>SEVERITYCODE</th>\n",
       "      <th>SEVERITYDESC</th>\n",
       "    </tr>\n",
       "  </thead>\n",
       "  <tbody>\n",
       "    <tr>\n",
       "      <th>0</th>\n",
       "      <td>2</td>\n",
       "      <td>Injury Collision</td>\n",
       "    </tr>\n",
       "    <tr>\n",
       "      <th>1</th>\n",
       "      <td>1</td>\n",
       "      <td>Property Damage Only Collision</td>\n",
       "    </tr>\n",
       "    <tr>\n",
       "      <th>2</th>\n",
       "      <td>1</td>\n",
       "      <td>Property Damage Only Collision</td>\n",
       "    </tr>\n",
       "    <tr>\n",
       "      <th>3</th>\n",
       "      <td>1</td>\n",
       "      <td>Property Damage Only Collision</td>\n",
       "    </tr>\n",
       "    <tr>\n",
       "      <th>4</th>\n",
       "      <td>2</td>\n",
       "      <td>Injury Collision</td>\n",
       "    </tr>\n",
       "    <tr>\n",
       "      <th>...</th>\n",
       "      <td>...</td>\n",
       "      <td>...</td>\n",
       "    </tr>\n",
       "    <tr>\n",
       "      <th>194668</th>\n",
       "      <td>2</td>\n",
       "      <td>Injury Collision</td>\n",
       "    </tr>\n",
       "    <tr>\n",
       "      <th>194669</th>\n",
       "      <td>1</td>\n",
       "      <td>Property Damage Only Collision</td>\n",
       "    </tr>\n",
       "    <tr>\n",
       "      <th>194670</th>\n",
       "      <td>2</td>\n",
       "      <td>Injury Collision</td>\n",
       "    </tr>\n",
       "    <tr>\n",
       "      <th>194671</th>\n",
       "      <td>2</td>\n",
       "      <td>Injury Collision</td>\n",
       "    </tr>\n",
       "    <tr>\n",
       "      <th>194672</th>\n",
       "      <td>1</td>\n",
       "      <td>Property Damage Only Collision</td>\n",
       "    </tr>\n",
       "  </tbody>\n",
       "</table>\n",
       "<p>194673 rows × 2 columns</p>\n",
       "</div>"
      ],
      "text/plain": [
       "        SEVERITYCODE                    SEVERITYDESC\n",
       "0                  2                Injury Collision\n",
       "1                  1  Property Damage Only Collision\n",
       "2                  1  Property Damage Only Collision\n",
       "3                  1  Property Damage Only Collision\n",
       "4                  2                Injury Collision\n",
       "...              ...                             ...\n",
       "194668             2                Injury Collision\n",
       "194669             1  Property Damage Only Collision\n",
       "194670             2                Injury Collision\n",
       "194671             2                Injury Collision\n",
       "194672             1  Property Damage Only Collision\n",
       "\n",
       "[194673 rows x 2 columns]"
      ]
     },
     "execution_count": 42,
     "metadata": {},
     "output_type": "execute_result"
    }
   ],
   "source": [
    "sev_en_df = ['SEVERITYCODE','SEVERITYDESC']\n",
    "sev_en_df = pd.DataFrame(d1[sev_en_df])\n",
    "sev_en_df"
   ]
  },
  {
   "cell_type": "markdown",
   "metadata": {},
   "source": [
    "One Hot Encoding the Severity dataframe."
   ]
  },
  {
   "cell_type": "code",
   "execution_count": 43,
   "metadata": {},
   "outputs": [
    {
     "data": {
      "text/html": [
       "<div>\n",
       "<style scoped>\n",
       "    .dataframe tbody tr th:only-of-type {\n",
       "        vertical-align: middle;\n",
       "    }\n",
       "\n",
       "    .dataframe tbody tr th {\n",
       "        vertical-align: top;\n",
       "    }\n",
       "\n",
       "    .dataframe thead th {\n",
       "        text-align: right;\n",
       "    }\n",
       "</style>\n",
       "<table border=\"1\" class=\"dataframe\">\n",
       "  <thead>\n",
       "    <tr style=\"text-align: right;\">\n",
       "      <th></th>\n",
       "      <th>SEVERITYCODE</th>\n",
       "      <th>SEVERITYDESC</th>\n",
       "    </tr>\n",
       "  </thead>\n",
       "  <tbody>\n",
       "    <tr>\n",
       "      <th>0</th>\n",
       "      <td>1</td>\n",
       "      <td>0</td>\n",
       "    </tr>\n",
       "    <tr>\n",
       "      <th>1</th>\n",
       "      <td>0</td>\n",
       "      <td>1</td>\n",
       "    </tr>\n",
       "    <tr>\n",
       "      <th>2</th>\n",
       "      <td>0</td>\n",
       "      <td>1</td>\n",
       "    </tr>\n",
       "    <tr>\n",
       "      <th>3</th>\n",
       "      <td>0</td>\n",
       "      <td>1</td>\n",
       "    </tr>\n",
       "    <tr>\n",
       "      <th>4</th>\n",
       "      <td>1</td>\n",
       "      <td>0</td>\n",
       "    </tr>\n",
       "    <tr>\n",
       "      <th>...</th>\n",
       "      <td>...</td>\n",
       "      <td>...</td>\n",
       "    </tr>\n",
       "    <tr>\n",
       "      <th>194668</th>\n",
       "      <td>1</td>\n",
       "      <td>0</td>\n",
       "    </tr>\n",
       "    <tr>\n",
       "      <th>194669</th>\n",
       "      <td>0</td>\n",
       "      <td>1</td>\n",
       "    </tr>\n",
       "    <tr>\n",
       "      <th>194670</th>\n",
       "      <td>1</td>\n",
       "      <td>0</td>\n",
       "    </tr>\n",
       "    <tr>\n",
       "      <th>194671</th>\n",
       "      <td>1</td>\n",
       "      <td>0</td>\n",
       "    </tr>\n",
       "    <tr>\n",
       "      <th>194672</th>\n",
       "      <td>0</td>\n",
       "      <td>1</td>\n",
       "    </tr>\n",
       "  </tbody>\n",
       "</table>\n",
       "<p>194673 rows × 2 columns</p>\n",
       "</div>"
      ],
      "text/plain": [
       "        SEVERITYCODE  SEVERITYDESC\n",
       "0                  1             0\n",
       "1                  0             1\n",
       "2                  0             1\n",
       "3                  0             1\n",
       "4                  1             0\n",
       "...              ...           ...\n",
       "194668             1             0\n",
       "194669             0             1\n",
       "194670             1             0\n",
       "194671             1             0\n",
       "194672             0             1\n",
       "\n",
       "[194673 rows x 2 columns]"
      ]
     },
     "execution_count": 43,
     "metadata": {},
     "output_type": "execute_result"
    }
   ],
   "source": [
    "sev_df1 = pd.DataFrame()\n",
    "for col in sev_en_df:\n",
    "    encoder = LabelEncoder()\n",
    "    sev_df1[col] = encoder.fit_transform(d1[col])\n",
    "    \n",
    "sev_df1"
   ]
  },
  {
   "cell_type": "markdown",
   "metadata": {},
   "source": [
    " Merging the label encoded feature set with the target set"
   ]
  },
  {
   "cell_type": "code",
   "execution_count": 44,
   "metadata": {},
   "outputs": [],
   "source": [
    "# Merge the FIRST_CRASH_TYPE and the LabelEncoded dataframe together\n",
    "df_01 = pd.merge(COLLISION_d1, en_df1, left_index=True, right_index=True)"
   ]
  },
  {
   "cell_type": "code",
   "execution_count": 45,
   "metadata": {},
   "outputs": [
    {
     "data": {
      "text/plain": [
       "Index(['Angles', 'Sideswipe', 'Parked Car', 'Other', 'Cycles', 'Rear Ended',\n",
       "       'Head On', 'UNKOWN', 'Left Turn', 'Pedestrian', 'Right Turn', 'WEATHER',\n",
       "       'LIGHTCOND', 'JUNCTIONTYPE', 'UNDERINFL', 'ROADCOND', 'INATTENTIONIND',\n",
       "       'SPEEDING'],\n",
       "      dtype='object')"
      ]
     },
     "execution_count": 45,
     "metadata": {},
     "output_type": "execute_result"
    }
   ],
   "source": [
    "df_01.columns"
   ]
  },
  {
   "cell_type": "markdown",
   "metadata": {},
   "source": [
    "Here we are trying to understand which type of collision has more positive correlation with the severity of the crash.\n",
    "In other words, what is the most severe type of collision."
   ]
  },
  {
   "cell_type": "code",
   "execution_count": 72,
   "metadata": {},
   "outputs": [
    {
     "name": "stdout",
     "output_type": "stream",
     "text": [
      "0.3041475504360142\n"
     ]
    }
   ],
   "source": [
    "col1=sev_df1['SEVERITYDESC']\n",
    "col2=COLLISION_d1['Rear Ended']\n",
    "corr=col1.corr(col2)\n",
    "#corr.style.background_gradient(cmap='coolwarm')\n",
    "print(corr)"
   ]
  },
  {
   "cell_type": "code",
   "execution_count": 71,
   "metadata": {},
   "outputs": [
    {
     "name": "stdout",
     "output_type": "stream",
     "text": [
      "-0.029539833846440273\n"
     ]
    }
   ],
   "source": [
    "col1=sev_df1['SEVERITYDESC']\n",
    "col2=COLLISION_d1['Parked Car']\n",
    "corr=col1.corr(col2)\n",
    "#corr.style.background_gradient(cmap='coolwarm')\n",
    "print(corr)"
   ]
  },
  {
   "cell_type": "code",
   "execution_count": 70,
   "metadata": {},
   "outputs": [
    {
     "name": "stdout",
     "output_type": "stream",
     "text": [
      "-0.09560707447733263\n"
     ]
    }
   ],
   "source": [
    "col1=sev_df1['SEVERITYDESC']\n",
    "col2=COLLISION_d1['Angles']\n",
    "corr=col1.corr(col2)\n",
    "#corr.style.background_gradient(cmap='coolwarm')\n",
    "print(corr)"
   ]
  },
  {
   "cell_type": "markdown",
   "metadata": {},
   "source": [
    "We see that Rear Ended Collisions have a positive correlation with the Severity, while the others exhibit a negative value. \n",
    "Thus moving forward, we will try to describe the causal factors of a Rear Ended Collision and build a classification model that can predict such kind of collisions."
   ]
  },
  {
   "cell_type": "markdown",
   "metadata": {},
   "source": [
    "Define Features and Target"
   ]
  },
  {
   "cell_type": "code",
   "execution_count": 124,
   "metadata": {},
   "outputs": [],
   "source": [
    "# Defining our Features and Target\n",
    "# For X, we want to remove all of the other CRASH types and keep the features.\n",
    "y = df_01['Rear Ended']\n",
    "X = df_01.drop(columns=['Angles', 'Sideswipe', 'Parked Car', 'Other', 'Cycles', 'Rear Ended',\n",
    "       'Head On', 'UNKOWN', 'Left Turn', 'Pedestrian', 'Right Turn'], axis=1)"
   ]
  },
  {
   "cell_type": "code",
   "execution_count": 125,
   "metadata": {},
   "outputs": [
    {
     "data": {
      "text/plain": [
       "Index(['WEATHER', 'LIGHTCOND', 'JUNCTIONTYPE', 'UNDERINFL', 'ROADCOND',\n",
       "       'INATTENTIONIND', 'SPEEDING'],\n",
       "      dtype='object')"
      ]
     },
     "execution_count": 125,
     "metadata": {},
     "output_type": "execute_result"
    }
   ],
   "source": [
    "X.columns"
   ]
  },
  {
   "cell_type": "markdown",
   "metadata": {},
   "source": [
    "## Model Selection and Evaluation : Decision Tree Approach"
   ]
  },
  {
   "cell_type": "code",
   "execution_count": 126,
   "metadata": {},
   "outputs": [],
   "source": [
    "# Train and Test on a basic model (test size to 20%)\n",
    "dt_model = DecisionTreeClassifier(criterion=\"entropy\", random_state=1,max_depth=4)\n",
    "X_train, X_test, y_train, y_test = train_test_split(X, y, test_size=0.20, random_state=42, stratify=y)"
   ]
  },
  {
   "cell_type": "code",
   "execution_count": 141,
   "metadata": {},
   "outputs": [],
   "source": [
    "dt=dt_model.fit(X_train, y_train)"
   ]
  },
  {
   "cell_type": "code",
   "execution_count": 142,
   "metadata": {},
   "outputs": [],
   "source": [
    "y_train_pred = dt_model.predict(X_train)\n",
    "y_test_pred = dt_model.predict(X_test)"
   ]
  },
  {
   "cell_type": "code",
   "execution_count": 143,
   "metadata": {},
   "outputs": [
    {
     "name": "stdout",
     "output_type": "stream",
     "text": [
      "Accuracy Score Train: 0.8086722572525652\n",
      "Accuracy Score Test: 0.8098369076666239\n",
      "ROC_AUC Test: 0.629644421001453\n"
     ]
    }
   ],
   "source": [
    "print(f'Accuracy Score Train: {accuracy_score(y_train, y_train_pred)}')\n",
    "print(f'Accuracy Score Test: {accuracy_score(y_test, y_test_pred)}')\n",
    "print(f'ROC_AUC Test: {roc_auc_score(y_test, y_test_pred)}')"
   ]
  },
  {
   "cell_type": "markdown",
   "metadata": {},
   "source": [
    "AUC stands for \"Area under the ROC Curve.\" i.e, AUC measures the entire two-dimensional area underneath the entire ROC curve. AUC provides an aggregate measure of performance across all possible classification thresholds.\n",
    "\n",
    "\n",
    "Accuracy Score Train: 0.8086722572525652\n",
    "\n",
    "Accuracy Score Test: 0.8098369076666239\n",
    "\n",
    "ROC_AUC Test: 0.629644421001453"
   ]
  },
  {
   "cell_type": "code",
   "execution_count": 147,
   "metadata": {},
   "outputs": [
    {
     "name": "stdout",
     "output_type": "stream",
     "text": [
      "              precision    recall  f1-score   support\n",
      "\n",
      "         0.0       0.80      0.99      0.89    117348\n",
      "         1.0       0.86      0.27      0.41     38390\n",
      "\n",
      "    accuracy                           0.81    155738\n",
      "   macro avg       0.83      0.63      0.65    155738\n",
      "weighted avg       0.82      0.81      0.77    155738\n",
      "\n"
     ]
    },
    {
     "data": {
      "text/plain": [
       "<sklearn.metrics._plot.confusion_matrix.ConfusionMatrixDisplay at 0x184dab356c8>"
      ]
     },
     "execution_count": 147,
     "metadata": {},
     "output_type": "execute_result"
    },
    {
     "data": {
      "image/png": "[encoded data removed]",
      "text/plain": [
       "<Figure size 432x288 with 2 Axes>"
      ]
     },
     "metadata": {
      "needs_background": "light"
     },
     "output_type": "display_data"
    }
   ],
   "source": [
    "from sklearn.metrics import classification_report, confusion_matrix\n",
    "threshold = 0.1\n",
    "y_test_pred = y_train_pred >= threshold\n",
    "print(classification_report(y_train, y_test_pred))\n",
    "pd.DataFrame(confusion_matrix(y_train, y_test_pred), \n",
    "             columns=['Predicted Negative', 'Predicted Positive'], \n",
    "             index=['Actual Negative', 'Actual Positive'])\n",
    "plot_confusion_matrix(dt,X_test,y_test)"
   ]
  },
  {
   "cell_type": "code",
   "execution_count": 131,
   "metadata": {},
   "outputs": [
    {
     "name": "stdout",
     "output_type": "stream",
     "text": [
      "Area under the Receiver Operating Characteristic curve: 0.626481926800046\n"
     ]
    },
    {
     "data": {
      "text/plain": [
       "<matplotlib.collections.PathCollection at 0x184d2706a88>"
      ]
     },
     "execution_count": 131,
     "metadata": {},
     "output_type": "execute_result"
    },
    {
     "data": {
      "image/png": "[encoded data removed]",
      "text/plain": [
       "<Figure size 432x288 with 1 Axes>"
      ]
     },
     "metadata": {
      "needs_background": "light"
     },
     "output_type": "display_data"
    }
   ],
   "source": [
    "from sklearn.metrics import roc_auc_score, roc_curve\n",
    "fpr, tpr, thresholds = roc_curve(y_train, y_test_pred)\n",
    "plt.plot(fpr, tpr)\n",
    "plt.title('ROC curve')\n",
    "plt.xlabel('False Positive Rate')\n",
    "plt.ylabel('True Positive Rate')\n",
    "print('Area under the Receiver Operating Characteristic curve:', \n",
    "      roc_auc_score(y_train, y_test_pred))\n",
    "    \n",
    "# When threshold = 0.1\n",
    "false_positives = 28135\n",
    "true_positives = 10255\n",
    "actual_negative=115686\n",
    "actual_positive=1662\n",
    "false_positive_rate = false_positives/actual_negative\n",
    "true_positive_rate = true_positives/actual_positive\n",
    "plt.scatter(false_positive_rate, true_positive_rate)\n"
   ]
  },
  {
   "cell_type": "markdown",
   "metadata": {},
   "source": [
    "## Model Selection and Evaluation : Logistic Regression"
   ]
  },
  {
   "cell_type": "code",
   "execution_count": 137,
   "metadata": {},
   "outputs": [
    {
     "name": "stdout",
     "output_type": "stream",
     "text": [
      "0.7848208552716065\n",
      "              precision    recall  f1-score   support\n",
      "\n",
      "         0.0       0.80      0.95      0.87     29392\n",
      "         1.0       0.64      0.28      0.39      9543\n",
      "\n",
      "    accuracy                           0.78     38935\n",
      "   macro avg       0.72      0.61      0.63     38935\n",
      "weighted avg       0.76      0.78      0.75     38935\n",
      "\n"
     ]
    },
    {
     "data": {
      "image/png": "[encoded data removed]",
      "text/plain": [
       "<Figure size 432x288 with 2 Axes>"
      ]
     },
     "metadata": {
      "needs_background": "light"
     },
     "output_type": "display_data"
    }
   ],
   "source": [
    "from sklearn.linear_model import LogisticRegression\n",
    "from sklearn.metrics import plot_confusion_matrix\n",
    "from sklearn.model_selection import train_test_split\n",
    "from sklearn.metrics import classification_report\n",
    "\n",
    "\n",
    "LR = LogisticRegression(max_iter=100000)\n",
    "\n",
    "X_train1, X_test1, y_train1, y_test1 = train_test_split(X,y,test_size=0.20)\n",
    "\n",
    "LR.fit(X_train1,y_train1)\n",
    "score = LR.score(X_test1, y_test1)\n",
    "print(score)\n",
    "\n",
    "\n",
    "plot_confusion_matrix(LR,X_test1,y_test1)\n",
    "\n",
    "y_pred = LR.predict(X_test1) \n",
    "print(classification_report(y_test1, y_pred))"
   ]
  },
  {
   "cell_type": "code",
   "execution_count": 138,
   "metadata": {},
   "outputs": [],
   "source": [
    "y_train_pred1 = LR.predict(X_train1)\n",
    "y_test_pred1 = LR.predict(X_test1)"
   ]
  },
  {
   "cell_type": "code",
   "execution_count": 139,
   "metadata": {},
   "outputs": [
    {
     "name": "stdout",
     "output_type": "stream",
     "text": [
      "              precision    recall  f1-score   support\n",
      "\n",
      "         0.0       0.80      0.95      0.87    117294\n",
      "         1.0       0.65      0.28      0.39     38444\n",
      "\n",
      "    accuracy                           0.79    155738\n",
      "   macro avg       0.73      0.62      0.63    155738\n",
      "weighted avg       0.76      0.79      0.75    155738\n",
      "\n"
     ]
    },
    {
     "data": {
      "text/html": [
       "<div>\n",
       "<style scoped>\n",
       "    .dataframe tbody tr th:only-of-type {\n",
       "        vertical-align: middle;\n",
       "    }\n",
       "\n",
       "    .dataframe tbody tr th {\n",
       "        vertical-align: top;\n",
       "    }\n",
       "\n",
       "    .dataframe thead th {\n",
       "        text-align: right;\n",
       "    }\n",
       "</style>\n",
       "<table border=\"1\" class=\"dataframe\">\n",
       "  <thead>\n",
       "    <tr style=\"text-align: right;\">\n",
       "      <th></th>\n",
       "      <th>Predicted Negative</th>\n",
       "      <th>Predicted Positive</th>\n",
       "    </tr>\n",
       "  </thead>\n",
       "  <tbody>\n",
       "    <tr>\n",
       "      <th>Actual Negative</th>\n",
       "      <td>111529</td>\n",
       "      <td>5765</td>\n",
       "    </tr>\n",
       "    <tr>\n",
       "      <th>Actual Positive</th>\n",
       "      <td>27637</td>\n",
       "      <td>10807</td>\n",
       "    </tr>\n",
       "  </tbody>\n",
       "</table>\n",
       "</div>"
      ],
      "text/plain": [
       "                 Predicted Negative  Predicted Positive\n",
       "Actual Negative              111529                5765\n",
       "Actual Positive               27637               10807"
      ]
     },
     "execution_count": 139,
     "metadata": {},
     "output_type": "execute_result"
    }
   ],
   "source": [
    "from sklearn.metrics import classification_report, confusion_matrix\n",
    "threshold = 0.1\n",
    "y_test_pred1 = y_train_pred1 >= threshold\n",
    "print(classification_report(y_train1, y_test_pred1))\n",
    "pd.DataFrame(confusion_matrix(y_train1, y_test_pred1), \n",
    "             columns=['Predicted Negative', 'Predicted Positive'], \n",
    "             index=['Actual Negative', 'Actual Positive'])"
   ]
  },
  {
   "cell_type": "code",
   "execution_count": 140,
   "metadata": {},
   "outputs": [
    {
     "name": "stdout",
     "output_type": "stream",
     "text": [
      "Area under the Receiver Operating Characteristic curve: 0.6159800935487431\n"
     ]
    },
    {
     "data": {
      "text/plain": [
       "<matplotlib.collections.PathCollection at 0x184d36aa988>"
      ]
     },
     "execution_count": 140,
     "metadata": {},
     "output_type": "execute_result"
    },
    {
     "data": {
      "image/png": "[encoded data removed]",
      "text/plain": [
       "<Figure size 432x288 with 1 Axes>"
      ]
     },
     "metadata": {
      "needs_background": "light"
     },
     "output_type": "display_data"
    }
   ],
   "source": [
    "from sklearn.metrics import roc_auc_score, roc_curve\n",
    "fpr, tpr, thresholds = roc_curve(y_train, y_test_pred)\n",
    "plt.plot(fpr, tpr)\n",
    "plt.title('ROC curve')\n",
    "plt.xlabel('False Positive Rate')\n",
    "plt.ylabel('True Positive Rate')\n",
    "print('Area under the Receiver Operating Characteristic curve:', \n",
    "      roc_auc_score(y_train1, y_test_pred1))\n",
    "    \n",
    "# When threshold = 0.1\n",
    "false_positives = 27637\n",
    "true_positives = 10807\n",
    "actual_negative=111529\n",
    "actual_positive=5765\n",
    "false_positive_rate = false_positives/actual_negative\n",
    "true_positive_rate = true_positives/actual_positive\n",
    "plt.scatter(false_positive_rate, true_positive_rate)\n"
   ]
  },
  {
   "cell_type": "markdown",
   "metadata": {},
   "source": [
    "The ROC_AUC is more for the Decision Tree Model as compared to the LR model, which means the DT model is a better classifier to identify 'Rear Ended' crashes as compared to the LR model.\n",
    "Now we will see what are the factors that contribiute most to a rear-ended collision"
   ]
  },
  {
   "cell_type": "markdown",
   "metadata": {},
   "source": [
    "### Feature Analysis"
   ]
  },
  {
   "cell_type": "code",
   "execution_count": 100,
   "metadata": {},
   "outputs": [
    {
     "data": {
      "text/plain": [
       "array([7.74554443e-02, 2.34555424e-01, 6.84525321e-01, 0.00000000e+00,\n",
       "       1.08657169e-03, 6.69229010e-04, 1.70800961e-03])"
      ]
     },
     "execution_count": 100,
     "metadata": {},
     "output_type": "execute_result"
    }
   ],
   "source": [
    "# Lets look at which feature is the most important\n",
    "dt_model.feature_importances_"
   ]
  },
  {
   "cell_type": "code",
   "execution_count": 101,
   "metadata": {},
   "outputs": [
    {
     "data": {
      "text/html": [
       "<div>\n",
       "<style scoped>\n",
       "    .dataframe tbody tr th:only-of-type {\n",
       "        vertical-align: middle;\n",
       "    }\n",
       "\n",
       "    .dataframe tbody tr th {\n",
       "        vertical-align: top;\n",
       "    }\n",
       "\n",
       "    .dataframe thead th {\n",
       "        text-align: right;\n",
       "    }\n",
       "</style>\n",
       "<table border=\"1\" class=\"dataframe\">\n",
       "  <thead>\n",
       "    <tr style=\"text-align: right;\">\n",
       "      <th></th>\n",
       "      <th>WEATHER</th>\n",
       "      <th>LIGHTCOND</th>\n",
       "      <th>JUNCTIONTYPE</th>\n",
       "      <th>UNDERINFL</th>\n",
       "      <th>ROADCOND</th>\n",
       "      <th>INATTENTIONIND</th>\n",
       "      <th>SPEEDING</th>\n",
       "    </tr>\n",
       "  </thead>\n",
       "  <tbody>\n",
       "    <tr>\n",
       "      <th>0</th>\n",
       "      <td>4</td>\n",
       "      <td>5</td>\n",
       "      <td>1</td>\n",
       "      <td>2</td>\n",
       "      <td>9</td>\n",
       "      <td>0</td>\n",
       "      <td>0</td>\n",
       "    </tr>\n",
       "    <tr>\n",
       "      <th>1</th>\n",
       "      <td>6</td>\n",
       "      <td>2</td>\n",
       "      <td>4</td>\n",
       "      <td>0</td>\n",
       "      <td>9</td>\n",
       "      <td>0</td>\n",
       "      <td>0</td>\n",
       "    </tr>\n",
       "    <tr>\n",
       "      <th>2</th>\n",
       "      <td>4</td>\n",
       "      <td>5</td>\n",
       "      <td>4</td>\n",
       "      <td>0</td>\n",
       "      <td>0</td>\n",
       "      <td>0</td>\n",
       "      <td>0</td>\n",
       "    </tr>\n",
       "    <tr>\n",
       "      <th>3</th>\n",
       "      <td>1</td>\n",
       "      <td>5</td>\n",
       "      <td>4</td>\n",
       "      <td>2</td>\n",
       "      <td>0</td>\n",
       "      <td>0</td>\n",
       "      <td>0</td>\n",
       "    </tr>\n",
       "    <tr>\n",
       "      <th>4</th>\n",
       "      <td>6</td>\n",
       "      <td>5</td>\n",
       "      <td>1</td>\n",
       "      <td>0</td>\n",
       "      <td>9</td>\n",
       "      <td>0</td>\n",
       "      <td>0</td>\n",
       "    </tr>\n",
       "    <tr>\n",
       "      <th>...</th>\n",
       "      <td>...</td>\n",
       "      <td>...</td>\n",
       "      <td>...</td>\n",
       "      <td>...</td>\n",
       "      <td>...</td>\n",
       "      <td>...</td>\n",
       "      <td>...</td>\n",
       "    </tr>\n",
       "    <tr>\n",
       "      <th>194668</th>\n",
       "      <td>1</td>\n",
       "      <td>5</td>\n",
       "      <td>4</td>\n",
       "      <td>2</td>\n",
       "      <td>0</td>\n",
       "      <td>0</td>\n",
       "      <td>0</td>\n",
       "    </tr>\n",
       "    <tr>\n",
       "      <th>194669</th>\n",
       "      <td>6</td>\n",
       "      <td>5</td>\n",
       "      <td>4</td>\n",
       "      <td>2</td>\n",
       "      <td>9</td>\n",
       "      <td>1</td>\n",
       "      <td>0</td>\n",
       "    </tr>\n",
       "    <tr>\n",
       "      <th>194670</th>\n",
       "      <td>1</td>\n",
       "      <td>5</td>\n",
       "      <td>1</td>\n",
       "      <td>2</td>\n",
       "      <td>0</td>\n",
       "      <td>0</td>\n",
       "      <td>0</td>\n",
       "    </tr>\n",
       "    <tr>\n",
       "      <th>194671</th>\n",
       "      <td>1</td>\n",
       "      <td>6</td>\n",
       "      <td>1</td>\n",
       "      <td>2</td>\n",
       "      <td>0</td>\n",
       "      <td>0</td>\n",
       "      <td>0</td>\n",
       "    </tr>\n",
       "    <tr>\n",
       "      <th>194672</th>\n",
       "      <td>1</td>\n",
       "      <td>5</td>\n",
       "      <td>4</td>\n",
       "      <td>2</td>\n",
       "      <td>9</td>\n",
       "      <td>0</td>\n",
       "      <td>0</td>\n",
       "    </tr>\n",
       "  </tbody>\n",
       "</table>\n",
       "<p>194673 rows × 7 columns</p>\n",
       "</div>"
      ],
      "text/plain": [
       "        WEATHER  LIGHTCOND  JUNCTIONTYPE  UNDERINFL  ROADCOND  INATTENTIONIND  \\\n",
       "0             4          5             1          2         9               0   \n",
       "1             6          2             4          0         9               0   \n",
       "2             4          5             4          0         0               0   \n",
       "3             1          5             4          2         0               0   \n",
       "4             6          5             1          0         9               0   \n",
       "...         ...        ...           ...        ...       ...             ...   \n",
       "194668        1          5             4          2         0               0   \n",
       "194669        6          5             4          2         9               1   \n",
       "194670        1          5             1          2         0               0   \n",
       "194671        1          6             1          2         0               0   \n",
       "194672        1          5             4          2         9               0   \n",
       "\n",
       "        SPEEDING  \n",
       "0              0  \n",
       "1              0  \n",
       "2              0  \n",
       "3              0  \n",
       "4              0  \n",
       "...          ...  \n",
       "194668         0  \n",
       "194669         0  \n",
       "194670         0  \n",
       "194671         0  \n",
       "194672         0  \n",
       "\n",
       "[194673 rows x 7 columns]"
      ]
     },
     "execution_count": 101,
     "metadata": {},
     "output_type": "execute_result"
    }
   ],
   "source": [
    "# LIGHTING_CONDITION, JUNCTION TYPE\n",
    "# seems to be the most important\n",
    "X"
   ]
  },
  {
   "cell_type": "code",
   "execution_count": 102,
   "metadata": {},
   "outputs": [
    {
     "name": "stdout",
     "output_type": "stream",
     "text": [
      "Feature ranking:\n",
      "1. feature 2 (0.684525)\n",
      "2. feature 1 (0.234555)\n",
      "3. feature 0 (0.077455)\n",
      "4. feature 6 (0.001708)\n",
      "5. feature 4 (0.001087)\n",
      "6. feature 5 (0.000669)\n",
      "7. feature 3 (0.000000)\n"
     ]
    },
    {
     "data": {
      "image/png": "[encoded data removed]",
      "text/plain": [
       "<Figure size 432x288 with 1 Axes>"
      ]
     },
     "metadata": {
      "needs_background": "light"
     },
     "output_type": "display_data"
    }
   ],
   "source": [
    "# Here we graph out which feature is the most imporant.\n",
    "\n",
    "importances = dt_model.feature_importances_\n",
    "indices = np.argsort(importances)[::-1]\n",
    "\n",
    "# Print the feature ranking\n",
    "print(\"Feature ranking:\")\n",
    "\n",
    "for f in range(X.shape[1]):\n",
    "    print(\"%d. feature %d (%f)\" % (f + 1, indices[f], importances[indices[f]]))\n",
    "\n",
    "# Plot the feature importances of the forest\n",
    "plt.figure()\n",
    "plt.title(\"DecisionTree Feature importances\")\n",
    "plt.bar(range(X.shape[1]), importances[indices],\n",
    "       color=\"r\", align=\"center\")\n",
    "plt.xticks(range(X.shape[1]), indices)\n",
    "plt.xlim([-1, X.shape[1]])\n",
    "plt.show()"
   ]
  },
  {
   "cell_type": "markdown",
   "metadata": {},
   "source": [
    "We have determined the causal factors for rear end collisions. Nowe we try to visualise the decision tree, as how each of the factors contribute to a rear end collision."
   ]
  },
  {
   "cell_type": "markdown",
   "metadata": {},
   "source": [
    "### Building the Decision Tree"
   ]
  },
  {
   "cell_type": "code",
   "execution_count": 103,
   "metadata": {},
   "outputs": [
    {
     "name": "stdout",
     "output_type": "stream",
     "text": [
      "Collecting package metadata (current_repodata.json): ...working... done\n",
      "Solving environment: ...working... done\n",
      "\n",
      "# All requested packages already installed.\n",
      "\n",
      "Collecting package metadata (current_repodata.json): ...working... done\n",
      "Solving environment: ...working... done\n",
      "\n",
      "# All requested packages already installed.\n",
      "\n"
     ]
    }
   ],
   "source": [
    "!conda install -c conda-forge pydotplus -y\n",
    "!conda install -c conda-forge python-graphviz -y"
   ]
  },
  {
   "cell_type": "code",
   "execution_count": 104,
   "metadata": {},
   "outputs": [],
   "source": [
    "import os\n",
    "os.environ[\"PATH\"] += os.pathsep + r'C:\\Users\\ShubhobrotoDey\\anaconda3\\Library\\bin\\graphviz'"
   ]
  },
  {
   "cell_type": "code",
   "execution_count": 105,
   "metadata": {},
   "outputs": [],
   "source": [
    "import graphviz\n",
    "\n",
    "\n",
    "# This plot tree helper function can plot the DecisionTreeClassifier \n",
    "# We can check what feature our model is splitting on and what are the requirements\n",
    "def plot_tree(dt_model, used_cols, out_file='mytree.png'):\n",
    "    export_graphviz(dt_model, out_file=out_file, \n",
    "                    filled=True, feature_names=used_cols, \n",
    "                    leaves_parallel=True, node_ids=True)\n",
    "    with open(out_file) as f:\n",
    "        dot_graph = f.read()\n",
    "    return graphviz.Source(dot_graph)\n",
    "\n"
   ]
  },
  {
   "cell_type": "code",
   "execution_count": 106,
   "metadata": {},
   "outputs": [
    {
     "data": {
      "image/svg+xml": [
       "<?xml version=\"1.0\" encoding=\"UTF-8\" standalone=\"no\"?>\r\n",
       "<!DOCTYPE svg PUBLIC \"-//W3C//DTD SVG 1.1//EN\"\r\n",
       " \"http://www.w3.org/Graphics/SVG/1.1/DTD/svg11.dtd\">\r\n",
       "<!-- Generated by graphviz version 2.38.0 (20140413.2041)\r\n",
       " -->\r\n",
       "<!-- Title: Tree Pages: 1 -->\r\n",
       "<svg width=\"4137pt\" height=\"679pt\"\r\n",
       " viewBox=\"0.00 0.00 4137.00 678.50\" xmlns=\"http://www.w3.org/2000/svg\" xmlns:xlink=\"http://www.w3.org/1999/xlink\">\r\n",
       "<g id=\"graph0\" class=\"graph\" transform=\"scale(1 1) rotate(0) translate(4 674.5)\">\r\n",
       "<title>Tree</title>\r\n",
       "<polygon fill=\"white\" stroke=\"none\" points=\"-4,4 -4,-674.5 4133,-674.5 4133,4 -4,4\"/>\r\n",
       "<!-- 0 -->\r\n",
       "<g id=\"node1\" class=\"node\"><title>0</title>\r\n",
       "<polygon fill=\"#eeaa7a\" stroke=\"black\" points=\"2267,-670.5 2106,-670.5 2106,-587.5 2267,-587.5 2267,-670.5\"/>\r\n",
       "<text text-anchor=\"middle\" x=\"2186.5\" y=\"-655.3\" font-family=\"Times New Roman,serif\" font-size=\"14.00\">node #0</text>\r\n",
       "<text text-anchor=\"middle\" x=\"2186.5\" y=\"-640.3\" font-family=\"Times New Roman,serif\" font-size=\"14.00\">JUNCTIONTYPE &lt;= 3.5</text>\r\n",
       "<text text-anchor=\"middle\" x=\"2186.5\" y=\"-625.3\" font-family=\"Times New Roman,serif\" font-size=\"14.00\">gini = 0.372</text>\r\n",
       "<text text-anchor=\"middle\" x=\"2186.5\" y=\"-610.3\" font-family=\"Times New Roman,serif\" font-size=\"14.00\">samples = 136271</text>\r\n",
       "<text text-anchor=\"middle\" x=\"2186.5\" y=\"-595.3\" font-family=\"Times New Roman,serif\" font-size=\"14.00\">value = [102558, 33713]</text>\r\n",
       "</g>\r\n",
       "<!-- 1 -->\r\n",
       "<g id=\"node2\" class=\"node\"><title>1</title>\r\n",
       "<polygon fill=\"#e68844\" stroke=\"black\" points=\"1683,-551.5 1522,-551.5 1522,-468.5 1683,-468.5 1683,-551.5\"/>\r\n",
       "<text text-anchor=\"middle\" x=\"1602.5\" y=\"-536.3\" font-family=\"Times New Roman,serif\" font-size=\"14.00\">node #1</text>\r\n",
       "<text text-anchor=\"middle\" x=\"1602.5\" y=\"-521.3\" font-family=\"Times New Roman,serif\" font-size=\"14.00\">JUNCTIONTYPE &lt;= 1.5</text>\r\n",
       "<text text-anchor=\"middle\" x=\"1602.5\" y=\"-506.3\" font-family=\"Times New Roman,serif\" font-size=\"14.00\">gini = 0.101</text>\r\n",
       "<text text-anchor=\"middle\" x=\"1602.5\" y=\"-491.3\" font-family=\"Times New Roman,serif\" font-size=\"14.00\">samples = 68766</text>\r\n",
       "<text text-anchor=\"middle\" x=\"1602.5\" y=\"-476.3\" font-family=\"Times New Roman,serif\" font-size=\"14.00\">value = [65115, 3651]</text>\r\n",
       "</g>\r\n",
       "<!-- 0&#45;&gt;1 -->\r\n",
       "<g id=\"edge1\" class=\"edge\"><title>0&#45;&gt;1</title>\r\n",
       "<path fill=\"none\" stroke=\"black\" d=\"M2105.91,-611.854C1997.78,-590.191 1806.29,-551.827 1693.22,-529.175\"/>\r\n",
       "<polygon fill=\"black\" stroke=\"black\" points=\"1693.69,-525.7 1683.2,-527.168 1692.32,-532.564 1693.69,-525.7\"/>\r\n",
       "<text text-anchor=\"middle\" x=\"1697.06\" y=\"-544.273\" font-family=\"Times New Roman,serif\" font-size=\"14.00\">True</text>\r\n",
       "</g>\r\n",
       "<!-- 32 -->\r\n",
       "<g id=\"node33\" class=\"node\"><title>32</title>\r\n",
       "<polygon fill=\"#fae6d8\" stroke=\"black\" points=\"2731,-551.5 2586,-551.5 2586,-468.5 2731,-468.5 2731,-551.5\"/>\r\n",
       "<text text-anchor=\"middle\" x=\"2658.5\" y=\"-536.3\" font-family=\"Times New Roman,serif\" font-size=\"14.00\">node #32</text>\r\n",
       "<text text-anchor=\"middle\" x=\"2658.5\" y=\"-521.3\" font-family=\"Times New Roman,serif\" font-size=\"14.00\">LIGHTCOND &lt;= 7.5</text>\r\n",
       "<text text-anchor=\"middle\" x=\"2658.5\" y=\"-506.3\" font-family=\"Times New Roman,serif\" font-size=\"14.00\">gini = 0.494</text>\r\n",
       "<text text-anchor=\"middle\" x=\"2658.5\" y=\"-491.3\" font-family=\"Times New Roman,serif\" font-size=\"14.00\">samples = 67505</text>\r\n",
       "<text text-anchor=\"middle\" x=\"2658.5\" y=\"-476.3\" font-family=\"Times New Roman,serif\" font-size=\"14.00\">value = [37443, 30062]</text>\r\n",
       "</g>\r\n",
       "<!-- 0&#45;&gt;32 -->\r\n",
       "<g id=\"edge32\" class=\"edge\"><title>0&#45;&gt;32</title>\r\n",
       "<path fill=\"none\" stroke=\"black\" d=\"M2267.1,-608.02C2353.3,-586.653 2489.29,-552.943 2576.16,-531.412\"/>\r\n",
       "<polygon fill=\"black\" stroke=\"black\" points=\"2577.11,-534.781 2585.97,-528.978 2575.43,-527.987 2577.11,-534.781\"/>\r\n",
       "<text text-anchor=\"middle\" x=\"2573.07\" y=\"-546.69\" font-family=\"Times New Roman,serif\" font-size=\"14.00\">False</text>\r\n",
       "</g>\r\n",
       "<!-- 2 -->\r\n",
       "<g id=\"node3\" class=\"node\"><title>2</title>\r\n",
       "<polygon fill=\"#e6833d\" stroke=\"black\" points=\"842.5,-432.5 702.5,-432.5 702.5,-349.5 842.5,-349.5 842.5,-432.5\"/>\r\n",
       "<text text-anchor=\"middle\" x=\"772.5\" y=\"-417.3\" font-family=\"Times New Roman,serif\" font-size=\"14.00\">node #2</text>\r\n",
       "<text text-anchor=\"middle\" x=\"772.5\" y=\"-402.3\" font-family=\"Times New Roman,serif\" font-size=\"14.00\">LIGHTCOND &lt;= 7.5</text>\r\n",
       "<text text-anchor=\"middle\" x=\"772.5\" y=\"-387.3\" font-family=\"Times New Roman,serif\" font-size=\"14.00\">gini = 0.038</text>\r\n",
       "<text text-anchor=\"middle\" x=\"772.5\" y=\"-372.3\" font-family=\"Times New Roman,serif\" font-size=\"14.00\">samples = 45242</text>\r\n",
       "<text text-anchor=\"middle\" x=\"772.5\" y=\"-357.3\" font-family=\"Times New Roman,serif\" font-size=\"14.00\">value = [44364, 878]</text>\r\n",
       "</g>\r\n",
       "<!-- 1&#45;&gt;2 -->\r\n",
       "<g id=\"edge2\" class=\"edge\"><title>1&#45;&gt;2</title>\r\n",
       "<path fill=\"none\" stroke=\"black\" d=\"M1521.78,-497.622C1362.93,-475.23 1011.43,-425.681 852.867,-403.329\"/>\r\n",
       "<polygon fill=\"black\" stroke=\"black\" points=\"853.097,-399.827 842.706,-401.896 852.119,-406.758 853.097,-399.827\"/>\r\n",
       "</g>\r\n",
       "<!-- 17 -->\r\n",
       "<g id=\"node18\" class=\"node\"><title>17</title>\r\n",
       "<polygon fill=\"#e89253\" stroke=\"black\" points=\"1672.5,-432.5 1532.5,-432.5 1532.5,-349.5 1672.5,-349.5 1672.5,-432.5\"/>\r\n",
       "<text text-anchor=\"middle\" x=\"1602.5\" y=\"-417.3\" font-family=\"Times New Roman,serif\" font-size=\"14.00\">node #17</text>\r\n",
       "<text text-anchor=\"middle\" x=\"1602.5\" y=\"-402.3\" font-family=\"Times New Roman,serif\" font-size=\"14.00\">LIGHTCOND &lt;= 7.5</text>\r\n",
       "<text text-anchor=\"middle\" x=\"1602.5\" y=\"-387.3\" font-family=\"Times New Roman,serif\" font-size=\"14.00\">gini = 0.208</text>\r\n",
       "<text text-anchor=\"middle\" x=\"1602.5\" y=\"-372.3\" font-family=\"Times New Roman,serif\" font-size=\"14.00\">samples = 23524</text>\r\n",
       "<text text-anchor=\"middle\" x=\"1602.5\" y=\"-357.3\" font-family=\"Times New Roman,serif\" font-size=\"14.00\">value = [20751, 2773]</text>\r\n",
       "</g>\r\n",
       "<!-- 1&#45;&gt;17 -->\r\n",
       "<g id=\"edge17\" class=\"edge\"><title>1&#45;&gt;17</title>\r\n",
       "<path fill=\"none\" stroke=\"black\" d=\"M1602.5,-468.407C1602.5,-460.149 1602.5,-451.364 1602.5,-442.802\"/>\r\n",
       "<polygon fill=\"black\" stroke=\"black\" points=\"1606,-442.521 1602.5,-432.521 1599,-442.521 1606,-442.521\"/>\r\n",
       "</g>\r\n",
       "<!-- 3 -->\r\n",
       "<g id=\"node4\" class=\"node\"><title>3</title>\r\n",
       "<polygon fill=\"#e5833c\" stroke=\"black\" points=\"492,-313.5 331,-313.5 331,-230.5 492,-230.5 492,-313.5\"/>\r\n",
       "<text text-anchor=\"middle\" x=\"411.5\" y=\"-298.3\" font-family=\"Times New Roman,serif\" font-size=\"14.00\">node #3</text>\r\n",
       "<text text-anchor=\"middle\" x=\"411.5\" y=\"-283.3\" font-family=\"Times New Roman,serif\" font-size=\"14.00\">JUNCTIONTYPE &lt;= 0.5</text>\r\n",
       "<text text-anchor=\"middle\" x=\"411.5\" y=\"-268.3\" font-family=\"Times New Roman,serif\" font-size=\"14.00\">gini = 0.029</text>\r\n",
       "<text text-anchor=\"middle\" x=\"411.5\" y=\"-253.3\" font-family=\"Times New Roman,serif\" font-size=\"14.00\">samples = 44409</text>\r\n",
       "<text text-anchor=\"middle\" x=\"411.5\" y=\"-238.3\" font-family=\"Times New Roman,serif\" font-size=\"14.00\">value = [43761, 648]</text>\r\n",
       "</g>\r\n",
       "<!-- 2&#45;&gt;3 -->\r\n",
       "<g id=\"edge3\" class=\"edge\"><title>2&#45;&gt;3</title>\r\n",
       "<path fill=\"none\" stroke=\"black\" d=\"M702.468,-367.302C645.247,-348.757 563.96,-322.412 501.842,-302.28\"/>\r\n",
       "<polygon fill=\"black\" stroke=\"black\" points=\"502.635,-298.858 492.043,-299.104 500.477,-305.517 502.635,-298.858\"/>\r\n",
       "</g>\r\n",
       "<!-- 10 -->\r\n",
       "<g id=\"node11\" class=\"node\"><title>10</title>\r\n",
       "<polygon fill=\"#efb185\" stroke=\"black\" points=\"853,-313.5 692,-313.5 692,-230.5 853,-230.5 853,-313.5\"/>\r\n",
       "<text text-anchor=\"middle\" x=\"772.5\" y=\"-298.3\" font-family=\"Times New Roman,serif\" font-size=\"14.00\">node #10</text>\r\n",
       "<text text-anchor=\"middle\" x=\"772.5\" y=\"-283.3\" font-family=\"Times New Roman,serif\" font-size=\"14.00\">JUNCTIONTYPE &lt;= 0.5</text>\r\n",
       "<text text-anchor=\"middle\" x=\"772.5\" y=\"-268.3\" font-family=\"Times New Roman,serif\" font-size=\"14.00\">gini = 0.4</text>\r\n",
       "<text text-anchor=\"middle\" x=\"772.5\" y=\"-253.3\" font-family=\"Times New Roman,serif\" font-size=\"14.00\">samples = 833</text>\r\n",
       "<text text-anchor=\"middle\" x=\"772.5\" y=\"-238.3\" font-family=\"Times New Roman,serif\" font-size=\"14.00\">value = [603, 230]</text>\r\n",
       "</g>\r\n",
       "<!-- 2&#45;&gt;10 -->\r\n",
       "<g id=\"edge10\" class=\"edge\"><title>2&#45;&gt;10</title>\r\n",
       "<path fill=\"none\" stroke=\"black\" d=\"M772.5,-349.407C772.5,-341.149 772.5,-332.364 772.5,-323.802\"/>\r\n",
       "<polygon fill=\"black\" stroke=\"black\" points=\"776,-323.521 772.5,-313.521 769,-323.521 776,-323.521\"/>\r\n",
       "</g>\r\n",
       "<!-- 4 -->\r\n",
       "<g id=\"node5\" class=\"node\"><title>4</title>\r\n",
       "<polygon fill=\"#e89153\" stroke=\"black\" points=\"255,-194.5 122,-194.5 122,-111.5 255,-111.5 255,-194.5\"/>\r\n",
       "<text text-anchor=\"middle\" x=\"188.5\" y=\"-179.3\" font-family=\"Times New Roman,serif\" font-size=\"14.00\">node #4</text>\r\n",
       "<text text-anchor=\"middle\" x=\"188.5\" y=\"-164.3\" font-family=\"Times New Roman,serif\" font-size=\"14.00\">WEATHER &lt;= 10.5</text>\r\n",
       "<text text-anchor=\"middle\" x=\"188.5\" y=\"-149.3\" font-family=\"Times New Roman,serif\" font-size=\"14.00\">gini = 0.205</text>\r\n",
       "<text text-anchor=\"middle\" x=\"188.5\" y=\"-134.3\" font-family=\"Times New Roman,serif\" font-size=\"14.00\">samples = 1296</text>\r\n",
       "<text text-anchor=\"middle\" x=\"188.5\" y=\"-119.3\" font-family=\"Times New Roman,serif\" font-size=\"14.00\">value = [1146, 150]</text>\r\n",
       "</g>\r\n",
       "<!-- 3&#45;&gt;4 -->\r\n",
       "<g id=\"edge4\" class=\"edge\"><title>3&#45;&gt;4</title>\r\n",
       "<path fill=\"none\" stroke=\"black\" d=\"M334.131,-230.407C311.576,-218.574 286.959,-205.658 264.49,-193.869\"/>\r\n",
       "<polygon fill=\"black\" stroke=\"black\" points=\"265.818,-190.613 255.337,-189.067 262.566,-196.812 265.818,-190.613\"/>\r\n",
       "</g>\r\n",
       "<!-- 7 -->\r\n",
       "<g id=\"node8\" class=\"node\"><title>7</title>\r\n",
       "<polygon fill=\"#e5823b\" stroke=\"black\" points=\"499.5,-194.5 323.5,-194.5 323.5,-111.5 499.5,-111.5 499.5,-194.5\"/>\r\n",
       "<text text-anchor=\"middle\" x=\"411.5\" y=\"-179.3\" font-family=\"Times New Roman,serif\" font-size=\"14.00\">node #7</text>\r\n",
       "<text text-anchor=\"middle\" x=\"411.5\" y=\"-164.3\" font-family=\"Times New Roman,serif\" font-size=\"14.00\">INATTENTIONIND &lt;= 0.5</text>\r\n",
       "<text text-anchor=\"middle\" x=\"411.5\" y=\"-149.3\" font-family=\"Times New Roman,serif\" font-size=\"14.00\">gini = 0.023</text>\r\n",
       "<text text-anchor=\"middle\" x=\"411.5\" y=\"-134.3\" font-family=\"Times New Roman,serif\" font-size=\"14.00\">samples = 43113</text>\r\n",
       "<text text-anchor=\"middle\" x=\"411.5\" y=\"-119.3\" font-family=\"Times New Roman,serif\" font-size=\"14.00\">value = [42615, 498]</text>\r\n",
       "</g>\r\n",
       "<!-- 3&#45;&gt;7 -->\r\n",
       "<g id=\"edge7\" class=\"edge\"><title>3&#45;&gt;7</title>\r\n",
       "<path fill=\"none\" stroke=\"black\" d=\"M411.5,-230.407C411.5,-222.149 411.5,-213.364 411.5,-204.802\"/>\r\n",
       "<polygon fill=\"black\" stroke=\"black\" points=\"415,-204.521 411.5,-194.521 408,-204.521 415,-204.521\"/>\r\n",
       "</g>\r\n",
       "<!-- 5 -->\r\n",
       "<g id=\"node6\" class=\"node\"><title>5</title>\r\n",
       "<polygon fill=\"#e89152\" stroke=\"black\" points=\"125,-68 0,-68 0,-0 125,-0 125,-68\"/>\r\n",
       "<text text-anchor=\"middle\" x=\"62.5\" y=\"-52.8\" font-family=\"Times New Roman,serif\" font-size=\"14.00\">node #5</text>\r\n",
       "<text text-anchor=\"middle\" x=\"62.5\" y=\"-37.8\" font-family=\"Times New Roman,serif\" font-size=\"14.00\">gini = 0.197</text>\r\n",
       "<text text-anchor=\"middle\" x=\"62.5\" y=\"-22.8\" font-family=\"Times New Roman,serif\" font-size=\"14.00\">samples = 1279</text>\r\n",
       "<text text-anchor=\"middle\" x=\"62.5\" y=\"-7.8\" font-family=\"Times New Roman,serif\" font-size=\"14.00\">value = [1137, 142]</text>\r\n",
       "</g>\r\n",
       "<!-- 4&#45;&gt;5 -->\r\n",
       "<g id=\"edge5\" class=\"edge\"><title>4&#45;&gt;5</title>\r\n",
       "<path fill=\"none\" stroke=\"black\" d=\"M144.785,-111.407C132.189,-99.7109 118.454,-86.9573 105.878,-75.2797\"/>\r\n",
       "<polygon fill=\"black\" stroke=\"black\" points=\"107.928,-72.4067 98.2182,-68.1669 103.165,-77.5363 107.928,-72.4067\"/>\r\n",
       "</g>\r\n",
       "<!-- 6 -->\r\n",
       "<g id=\"node7\" class=\"node\"><title>6</title>\r\n",
       "<polygon fill=\"#fcf1e9\" stroke=\"black\" points=\"234,-68 143,-68 143,-0 234,-0 234,-68\"/>\r\n",
       "<text text-anchor=\"middle\" x=\"188.5\" y=\"-52.8\" font-family=\"Times New Roman,serif\" font-size=\"14.00\">node #6</text>\r\n",
       "<text text-anchor=\"middle\" x=\"188.5\" y=\"-37.8\" font-family=\"Times New Roman,serif\" font-size=\"14.00\">gini = 0.498</text>\r\n",
       "<text text-anchor=\"middle\" x=\"188.5\" y=\"-22.8\" font-family=\"Times New Roman,serif\" font-size=\"14.00\">samples = 17</text>\r\n",
       "<text text-anchor=\"middle\" x=\"188.5\" y=\"-7.8\" font-family=\"Times New Roman,serif\" font-size=\"14.00\">value = [9, 8]</text>\r\n",
       "</g>\r\n",
       "<!-- 4&#45;&gt;6 -->\r\n",
       "<g id=\"edge6\" class=\"edge\"><title>4&#45;&gt;6</title>\r\n",
       "<path fill=\"none\" stroke=\"black\" d=\"M188.5,-111.407C188.5,-100.704 188.5,-89.1154 188.5,-78.2762\"/>\r\n",
       "<polygon fill=\"black\" stroke=\"black\" points=\"192,-78.1669 188.5,-68.1669 185,-78.167 192,-78.1669\"/>\r\n",
       "</g>\r\n",
       "<!-- 8 -->\r\n",
       "<g id=\"node9\" class=\"node\"><title>8</title>\r\n",
       "<polygon fill=\"#e5823b\" stroke=\"black\" points=\"383,-68 252,-68 252,-0 383,-0 383,-68\"/>\r\n",
       "<text text-anchor=\"middle\" x=\"317.5\" y=\"-52.8\" font-family=\"Times New Roman,serif\" font-size=\"14.00\">node #8</text>\r\n",
       "<text text-anchor=\"middle\" x=\"317.5\" y=\"-37.8\" font-family=\"Times New Roman,serif\" font-size=\"14.00\">gini = 0.021</text>\r\n",
       "<text text-anchor=\"middle\" x=\"317.5\" y=\"-22.8\" font-family=\"Times New Roman,serif\" font-size=\"14.00\">samples = 38231</text>\r\n",
       "<text text-anchor=\"middle\" x=\"317.5\" y=\"-7.8\" font-family=\"Times New Roman,serif\" font-size=\"14.00\">value = [37827, 404]</text>\r\n",
       "</g>\r\n",
       "<!-- 7&#45;&gt;8 -->\r\n",
       "<g id=\"edge8\" class=\"edge\"><title>7&#45;&gt;8</title>\r\n",
       "<path fill=\"none\" stroke=\"black\" d=\"M378.887,-111.407C369.756,-100.042 359.823,-87.6783 350.66,-76.2738\"/>\r\n",
       "<polygon fill=\"black\" stroke=\"black\" points=\"353.139,-73.7705 344.147,-68.1669 347.682,-78.1548 353.139,-73.7705\"/>\r\n",
       "</g>\r\n",
       "<!-- 9 -->\r\n",
       "<g id=\"node10\" class=\"node\"><title>9</title>\r\n",
       "<polygon fill=\"#e6833d\" stroke=\"black\" points=\"519.5,-68 401.5,-68 401.5,-0 519.5,-0 519.5,-68\"/>\r\n",
       "<text text-anchor=\"middle\" x=\"460.5\" y=\"-52.8\" font-family=\"Times New Roman,serif\" font-size=\"14.00\">node #9</text>\r\n",
       "<text text-anchor=\"middle\" x=\"460.5\" y=\"-37.8\" font-family=\"Times New Roman,serif\" font-size=\"14.00\">gini = 0.038</text>\r\n",
       "<text text-anchor=\"middle\" x=\"460.5\" y=\"-22.8\" font-family=\"Times New Roman,serif\" font-size=\"14.00\">samples = 4882</text>\r\n",
       "<text text-anchor=\"middle\" x=\"460.5\" y=\"-7.8\" font-family=\"Times New Roman,serif\" font-size=\"14.00\">value = [4788, 94]</text>\r\n",
       "</g>\r\n",
       "<!-- 7&#45;&gt;9 -->\r\n",
       "<g id=\"edge9\" class=\"edge\"><title>7&#45;&gt;9</title>\r\n",
       "<path fill=\"none\" stroke=\"black\" d=\"M428.5,-111.407C433.075,-100.483 438.037,-88.6371 442.656,-77.6067\"/>\r\n",
       "<polygon fill=\"black\" stroke=\"black\" points=\"445.975,-78.7428 446.61,-68.1669 439.518,-76.0387 445.975,-78.7428\"/>\r\n",
       "</g>\r\n",
       "<!-- 11 -->\r\n",
       "<g id=\"node12\" class=\"node\"><title>11</title>\r\n",
       "<polygon fill=\"#87c4ef\" stroke=\"black\" points=\"766,-194.5 629,-194.5 629,-111.5 766,-111.5 766,-194.5\"/>\r\n",
       "<text text-anchor=\"middle\" x=\"697.5\" y=\"-179.3\" font-family=\"Times New Roman,serif\" font-size=\"14.00\">node #11</text>\r\n",
       "<text text-anchor=\"middle\" x=\"697.5\" y=\"-164.3\" font-family=\"Times New Roman,serif\" font-size=\"14.00\">ROADCOND &lt;= 8.5</text>\r\n",
       "<text text-anchor=\"middle\" x=\"697.5\" y=\"-149.3\" font-family=\"Times New Roman,serif\" font-size=\"14.00\">gini = 0.406</text>\r\n",
       "<text text-anchor=\"middle\" x=\"697.5\" y=\"-134.3\" font-family=\"Times New Roman,serif\" font-size=\"14.00\">samples = 166</text>\r\n",
       "<text text-anchor=\"middle\" x=\"697.5\" y=\"-119.3\" font-family=\"Times New Roman,serif\" font-size=\"14.00\">value = [47, 119]</text>\r\n",
       "</g>\r\n",
       "<!-- 10&#45;&gt;11 -->\r\n",
       "<g id=\"edge11\" class=\"edge\"><title>10&#45;&gt;11</title>\r\n",
       "<path fill=\"none\" stroke=\"black\" d=\"M746.479,-230.407C740.836,-221.605 734.81,-212.203 728.982,-203.112\"/>\r\n",
       "<polygon fill=\"black\" stroke=\"black\" points=\"731.818,-201.051 723.475,-194.521 725.925,-204.828 731.818,-201.051\"/>\r\n",
       "</g>\r\n",
       "<!-- 14 -->\r\n",
       "<g id=\"node15\" class=\"node\"><title>14</title>\r\n",
       "<polygon fill=\"#ea9a61\" stroke=\"black\" points=\"910.5,-194.5 784.5,-194.5 784.5,-111.5 910.5,-111.5 910.5,-194.5\"/>\r\n",
       "<text text-anchor=\"middle\" x=\"847.5\" y=\"-179.3\" font-family=\"Times New Roman,serif\" font-size=\"14.00\">node #14</text>\r\n",
       "<text text-anchor=\"middle\" x=\"847.5\" y=\"-164.3\" font-family=\"Times New Roman,serif\" font-size=\"14.00\">WEATHER &lt;= 7.5</text>\r\n",
       "<text text-anchor=\"middle\" x=\"847.5\" y=\"-149.3\" font-family=\"Times New Roman,serif\" font-size=\"14.00\">gini = 0.277</text>\r\n",
       "<text text-anchor=\"middle\" x=\"847.5\" y=\"-134.3\" font-family=\"Times New Roman,serif\" font-size=\"14.00\">samples = 667</text>\r\n",
       "<text text-anchor=\"middle\" x=\"847.5\" y=\"-119.3\" font-family=\"Times New Roman,serif\" font-size=\"14.00\">value = [556, 111]</text>\r\n",
       "</g>\r\n",
       "<!-- 10&#45;&gt;14 -->\r\n",
       "<g id=\"edge14\" class=\"edge\"><title>10&#45;&gt;14</title>\r\n",
       "<path fill=\"none\" stroke=\"black\" d=\"M798.521,-230.407C804.164,-221.605 810.19,-212.203 816.018,-203.112\"/>\r\n",
       "<polygon fill=\"black\" stroke=\"black\" points=\"819.075,-204.828 821.525,-194.521 813.182,-201.051 819.075,-204.828\"/>\r\n",
       "</g>\r\n",
       "<!-- 12 -->\r\n",
       "<g id=\"node13\" class=\"node\"><title>12</title>\r\n",
       "<polygon fill=\"#81c0ee\" stroke=\"black\" points=\"649,-68 538,-68 538,-0 649,-0 649,-68\"/>\r\n",
       "<text text-anchor=\"middle\" x=\"593.5\" y=\"-52.8\" font-family=\"Times New Roman,serif\" font-size=\"14.00\">node #12</text>\r\n",
       "<text text-anchor=\"middle\" x=\"593.5\" y=\"-37.8\" font-family=\"Times New Roman,serif\" font-size=\"14.00\">gini = 0.39</text>\r\n",
       "<text text-anchor=\"middle\" x=\"593.5\" y=\"-22.8\" font-family=\"Times New Roman,serif\" font-size=\"14.00\">samples = 158</text>\r\n",
       "<text text-anchor=\"middle\" x=\"593.5\" y=\"-7.8\" font-family=\"Times New Roman,serif\" font-size=\"14.00\">value = [42, 116]</text>\r\n",
       "</g>\r\n",
       "<!-- 11&#45;&gt;12 -->\r\n",
       "<g id=\"edge12\" class=\"edge\"><title>11&#45;&gt;12</title>\r\n",
       "<path fill=\"none\" stroke=\"black\" d=\"M661.418,-111.407C651.217,-99.9316 640.112,-87.4382 629.893,-75.9419\"/>\r\n",
       "<polygon fill=\"black\" stroke=\"black\" points=\"632.241,-73.3158 622.982,-68.1669 627.009,-77.9663 632.241,-73.3158\"/>\r\n",
       "</g>\r\n",
       "<!-- 13 -->\r\n",
       "<g id=\"node14\" class=\"node\"><title>13</title>\r\n",
       "<polygon fill=\"#f5cdb0\" stroke=\"black\" points=\"758,-68 667,-68 667,-0 758,-0 758,-68\"/>\r\n",
       "<text text-anchor=\"middle\" x=\"712.5\" y=\"-52.8\" font-family=\"Times New Roman,serif\" font-size=\"14.00\">node #13</text>\r\n",
       "<text text-anchor=\"middle\" x=\"712.5\" y=\"-37.8\" font-family=\"Times New Roman,serif\" font-size=\"14.00\">gini = 0.469</text>\r\n",
       "<text text-anchor=\"middle\" x=\"712.5\" y=\"-22.8\" font-family=\"Times New Roman,serif\" font-size=\"14.00\">samples = 8</text>\r\n",
       "<text text-anchor=\"middle\" x=\"712.5\" y=\"-7.8\" font-family=\"Times New Roman,serif\" font-size=\"14.00\">value = [5, 3]</text>\r\n",
       "</g>\r\n",
       "<!-- 11&#45;&gt;13 -->\r\n",
       "<g id=\"edge13\" class=\"edge\"><title>11&#45;&gt;13</title>\r\n",
       "<path fill=\"none\" stroke=\"black\" d=\"M702.704,-111.407C704.076,-100.704 705.562,-89.1154 706.952,-78.2762\"/>\r\n",
       "<polygon fill=\"black\" stroke=\"black\" points=\"710.448,-78.5309 708.248,-68.1669 703.505,-77.6406 710.448,-78.5309\"/>\r\n",
       "</g>\r\n",
       "<!-- 15 -->\r\n",
       "<g id=\"node16\" class=\"node\"><title>15</title>\r\n",
       "<polygon fill=\"#e78c4a\" stroke=\"black\" points=\"887,-68 776,-68 776,-0 887,-0 887,-68\"/>\r\n",
       "<text text-anchor=\"middle\" x=\"831.5\" y=\"-52.8\" font-family=\"Times New Roman,serif\" font-size=\"14.00\">node #15</text>\r\n",
       "<text text-anchor=\"middle\" x=\"831.5\" y=\"-37.8\" font-family=\"Times New Roman,serif\" font-size=\"14.00\">gini = 0.146</text>\r\n",
       "<text text-anchor=\"middle\" x=\"831.5\" y=\"-22.8\" font-family=\"Times New Roman,serif\" font-size=\"14.00\">samples = 227</text>\r\n",
       "<text text-anchor=\"middle\" x=\"831.5\" y=\"-7.8\" font-family=\"Times New Roman,serif\" font-size=\"14.00\">value = [209, 18]</text>\r\n",
       "</g>\r\n",
       "<!-- 14&#45;&gt;15 -->\r\n",
       "<g id=\"edge15\" class=\"edge\"><title>14&#45;&gt;15</title>\r\n",
       "<path fill=\"none\" stroke=\"black\" d=\"M841.949,-111.407C840.485,-100.704 838.9,-89.1154 837.418,-78.2762\"/>\r\n",
       "<polygon fill=\"black\" stroke=\"black\" points=\"840.858,-77.6005 836.036,-68.1669 833.923,-78.549 840.858,-77.6005\"/>\r\n",
       "</g>\r\n",
       "<!-- 16 -->\r\n",
       "<g id=\"node17\" class=\"node\"><title>16</title>\r\n",
       "<polygon fill=\"#eca36e\" stroke=\"black\" points=\"1016,-68 905,-68 905,-0 1016,-0 1016,-68\"/>\r\n",
       "<text text-anchor=\"middle\" x=\"960.5\" y=\"-52.8\" font-family=\"Times New Roman,serif\" font-size=\"14.00\">node #16</text>\r\n",
       "<text text-anchor=\"middle\" x=\"960.5\" y=\"-37.8\" font-family=\"Times New Roman,serif\" font-size=\"14.00\">gini = 0.333</text>\r\n",
       "<text text-anchor=\"middle\" x=\"960.5\" y=\"-22.8\" font-family=\"Times New Roman,serif\" font-size=\"14.00\">samples = 440</text>\r\n",
       "<text text-anchor=\"middle\" x=\"960.5\" y=\"-7.8\" font-family=\"Times New Roman,serif\" font-size=\"14.00\">value = [347, 93]</text>\r\n",
       "</g>\r\n",
       "<!-- 14&#45;&gt;16 -->\r\n",
       "<g id=\"edge16\" class=\"edge\"><title>14&#45;&gt;16</title>\r\n",
       "<path fill=\"none\" stroke=\"black\" d=\"M886.705,-111.407C897.895,-99.8212 910.087,-87.1978 921.278,-75.6105\"/>\r\n",
       "<polygon fill=\"black\" stroke=\"black\" points=\"924.037,-77.7914 928.467,-68.1669 919.002,-72.9284 924.037,-77.7914\"/>\r\n",
       "</g>\r\n",
       "<!-- 18 -->\r\n",
       "<g id=\"node19\" class=\"node\"><title>18</title>\r\n",
       "<polygon fill=\"#e89152\" stroke=\"black\" points=\"1531,-313.5 1370,-313.5 1370,-230.5 1531,-230.5 1531,-313.5\"/>\r\n",
       "<text text-anchor=\"middle\" x=\"1450.5\" y=\"-298.3\" font-family=\"Times New Roman,serif\" font-size=\"14.00\">node #18</text>\r\n",
       "<text text-anchor=\"middle\" x=\"1450.5\" y=\"-283.3\" font-family=\"Times New Roman,serif\" font-size=\"14.00\">JUNCTIONTYPE &lt;= 2.5</text>\r\n",
       "<text text-anchor=\"middle\" x=\"1450.5\" y=\"-268.3\" font-family=\"Times New Roman,serif\" font-size=\"14.00\">gini = 0.197</text>\r\n",
       "<text text-anchor=\"middle\" x=\"1450.5\" y=\"-253.3\" font-family=\"Times New Roman,serif\" font-size=\"14.00\">samples = 22854</text>\r\n",
       "<text text-anchor=\"middle\" x=\"1450.5\" y=\"-238.3\" font-family=\"Times New Roman,serif\" font-size=\"14.00\">value = [20327, 2527]</text>\r\n",
       "</g>\r\n",
       "<!-- 17&#45;&gt;18 -->\r\n",
       "<g id=\"edge18\" class=\"edge\"><title>17&#45;&gt;18</title>\r\n",
       "<path fill=\"none\" stroke=\"black\" d=\"M1549.76,-349.407C1537.38,-339.879 1524.09,-329.648 1511.39,-319.87\"/>\r\n",
       "<polygon fill=\"black\" stroke=\"black\" points=\"1513.2,-316.847 1503.14,-313.521 1508.93,-322.394 1513.2,-316.847\"/>\r\n",
       "</g>\r\n",
       "<!-- 25 -->\r\n",
       "<g id=\"node26\" class=\"node\"><title>25</title>\r\n",
       "<polygon fill=\"#f4caac\" stroke=\"black\" points=\"1774,-313.5 1613,-313.5 1613,-230.5 1774,-230.5 1774,-313.5\"/>\r\n",
       "<text text-anchor=\"middle\" x=\"1693.5\" y=\"-298.3\" font-family=\"Times New Roman,serif\" font-size=\"14.00\">node #25</text>\r\n",
       "<text text-anchor=\"middle\" x=\"1693.5\" y=\"-283.3\" font-family=\"Times New Roman,serif\" font-size=\"14.00\">JUNCTIONTYPE &lt;= 2.5</text>\r\n",
       "<text text-anchor=\"middle\" x=\"1693.5\" y=\"-268.3\" font-family=\"Times New Roman,serif\" font-size=\"14.00\">gini = 0.465</text>\r\n",
       "<text text-anchor=\"middle\" x=\"1693.5\" y=\"-253.3\" font-family=\"Times New Roman,serif\" font-size=\"14.00\">samples = 670</text>\r\n",
       "<text text-anchor=\"middle\" x=\"1693.5\" y=\"-238.3\" font-family=\"Times New Roman,serif\" font-size=\"14.00\">value = [424, 246]</text>\r\n",
       "</g>\r\n",
       "<!-- 17&#45;&gt;25 -->\r\n",
       "<g id=\"edge25\" class=\"edge\"><title>17&#45;&gt;25</title>\r\n",
       "<path fill=\"none\" stroke=\"black\" d=\"M1634.07,-349.407C1641.06,-340.423 1648.53,-330.815 1655.74,-321.55\"/>\r\n",
       "<polygon fill=\"black\" stroke=\"black\" points=\"1658.61,-323.563 1661.98,-313.521 1653.08,-319.266 1658.61,-323.563\"/>\r\n",
       "</g>\r\n",
       "<!-- 19 -->\r\n",
       "<g id=\"node20\" class=\"node\"><title>19</title>\r\n",
       "<polygon fill=\"#ea995f\" stroke=\"black\" points=\"1302,-194.5 1169,-194.5 1169,-111.5 1302,-111.5 1302,-194.5\"/>\r\n",
       "<text text-anchor=\"middle\" x=\"1235.5\" y=\"-179.3\" font-family=\"Times New Roman,serif\" font-size=\"14.00\">node #19</text>\r\n",
       "<text text-anchor=\"middle\" x=\"1235.5\" y=\"-164.3\" font-family=\"Times New Roman,serif\" font-size=\"14.00\">WEATHER &lt;= 10.5</text>\r\n",
       "<text text-anchor=\"middle\" x=\"1235.5\" y=\"-149.3\" font-family=\"Times New Roman,serif\" font-size=\"14.00\">gini = 0.271</text>\r\n",
       "<text text-anchor=\"middle\" x=\"1235.5\" y=\"-134.3\" font-family=\"Times New Roman,serif\" font-size=\"14.00\">samples = 7307</text>\r\n",
       "<text text-anchor=\"middle\" x=\"1235.5\" y=\"-119.3\" font-family=\"Times New Roman,serif\" font-size=\"14.00\">value = [6124, 1183]</text>\r\n",
       "</g>\r\n",
       "<!-- 18&#45;&gt;19 -->\r\n",
       "<g id=\"edge19\" class=\"edge\"><title>18&#45;&gt;19</title>\r\n",
       "<path fill=\"none\" stroke=\"black\" d=\"M1375.91,-230.407C1354.89,-218.973 1332.03,-206.528 1310.96,-195.066\"/>\r\n",
       "<polygon fill=\"black\" stroke=\"black\" points=\"1312.51,-191.925 1302.06,-190.22 1309.17,-198.074 1312.51,-191.925\"/>\r\n",
       "</g>\r\n",
       "<!-- 22 -->\r\n",
       "<g id=\"node23\" class=\"node\"><title>22</title>\r\n",
       "<polygon fill=\"#e78d4c\" stroke=\"black\" points=\"1519.5,-194.5 1381.5,-194.5 1381.5,-111.5 1519.5,-111.5 1519.5,-194.5\"/>\r\n",
       "<text text-anchor=\"middle\" x=\"1450.5\" y=\"-179.3\" font-family=\"Times New Roman,serif\" font-size=\"14.00\">node #22</text>\r\n",
       "<text text-anchor=\"middle\" x=\"1450.5\" y=\"-164.3\" font-family=\"Times New Roman,serif\" font-size=\"14.00\">UNDERINFL &lt;= 1.5</text>\r\n",
       "<text text-anchor=\"middle\" x=\"1450.5\" y=\"-149.3\" font-family=\"Times New Roman,serif\" font-size=\"14.00\">gini = 0.158</text>\r\n",
       "<text text-anchor=\"middle\" x=\"1450.5\" y=\"-134.3\" font-family=\"Times New Roman,serif\" font-size=\"14.00\">samples = 15547</text>\r\n",
       "<text text-anchor=\"middle\" x=\"1450.5\" y=\"-119.3\" font-family=\"Times New Roman,serif\" font-size=\"14.00\">value = [14203, 1344]</text>\r\n",
       "</g>\r\n",
       "<!-- 18&#45;&gt;22 -->\r\n",
       "<g id=\"edge22\" class=\"edge\"><title>18&#45;&gt;22</title>\r\n",
       "<path fill=\"none\" stroke=\"black\" d=\"M1450.5,-230.407C1450.5,-222.149 1450.5,-213.364 1450.5,-204.802\"/>\r\n",
       "<polygon fill=\"black\" stroke=\"black\" points=\"1454,-204.521 1450.5,-194.521 1447,-204.521 1454,-204.521\"/>\r\n",
       "</g>\r\n",
       "<!-- 20 -->\r\n",
       "<g id=\"node21\" class=\"node\"><title>20</title>\r\n",
       "<polygon fill=\"#ea985d\" stroke=\"black\" points=\"1165,-68 1034,-68 1034,-0 1165,-0 1165,-68\"/>\r\n",
       "<text text-anchor=\"middle\" x=\"1099.5\" y=\"-52.8\" font-family=\"Times New Roman,serif\" font-size=\"14.00\">node #20</text>\r\n",
       "<text text-anchor=\"middle\" x=\"1099.5\" y=\"-37.8\" font-family=\"Times New Roman,serif\" font-size=\"14.00\">gini = 0.262</text>\r\n",
       "<text text-anchor=\"middle\" x=\"1099.5\" y=\"-22.8\" font-family=\"Times New Roman,serif\" font-size=\"14.00\">samples = 7165</text>\r\n",
       "<text text-anchor=\"middle\" x=\"1099.5\" y=\"-7.8\" font-family=\"Times New Roman,serif\" font-size=\"14.00\">value = [6053, 1112]</text>\r\n",
       "</g>\r\n",
       "<!-- 19&#45;&gt;20 -->\r\n",
       "<g id=\"edge20\" class=\"edge\"><title>19&#45;&gt;20</title>\r\n",
       "<path fill=\"none\" stroke=\"black\" d=\"M1188.32,-111.407C1174.59,-99.6005 1159.61,-86.7166 1145.94,-74.9495\"/>\r\n",
       "<polygon fill=\"black\" stroke=\"black\" points=\"1147.92,-72.0354 1138.05,-68.1669 1143.35,-77.3419 1147.92,-72.0354\"/>\r\n",
       "</g>\r\n",
       "<!-- 21 -->\r\n",
       "<g id=\"node22\" class=\"node\"><title>21</title>\r\n",
       "<polygon fill=\"#ffffff\" stroke=\"black\" points=\"1287.5,-68 1183.5,-68 1183.5,-0 1287.5,-0 1287.5,-68\"/>\r\n",
       "<text text-anchor=\"middle\" x=\"1235.5\" y=\"-52.8\" font-family=\"Times New Roman,serif\" font-size=\"14.00\">node #21</text>\r\n",
       "<text text-anchor=\"middle\" x=\"1235.5\" y=\"-37.8\" font-family=\"Times New Roman,serif\" font-size=\"14.00\">gini = 0.5</text>\r\n",
       "<text text-anchor=\"middle\" x=\"1235.5\" y=\"-22.8\" font-family=\"Times New Roman,serif\" font-size=\"14.00\">samples = 142</text>\r\n",
       "<text text-anchor=\"middle\" x=\"1235.5\" y=\"-7.8\" font-family=\"Times New Roman,serif\" font-size=\"14.00\">value = [71, 71]</text>\r\n",
       "</g>\r\n",
       "<!-- 19&#45;&gt;21 -->\r\n",
       "<g id=\"edge21\" class=\"edge\"><title>19&#45;&gt;21</title>\r\n",
       "<path fill=\"none\" stroke=\"black\" d=\"M1235.5,-111.407C1235.5,-100.704 1235.5,-89.1154 1235.5,-78.2762\"/>\r\n",
       "<polygon fill=\"black\" stroke=\"black\" points=\"1239,-78.1669 1235.5,-68.1669 1232,-78.167 1239,-78.1669\"/>\r\n",
       "</g>\r\n",
       "<!-- 23 -->\r\n",
       "<g id=\"node24\" class=\"node\"><title>23</title>\r\n",
       "<polygon fill=\"#e89050\" stroke=\"black\" points=\"1431,-68 1306,-68 1306,-0 1431,-0 1431,-68\"/>\r\n",
       "<text text-anchor=\"middle\" x=\"1368.5\" y=\"-52.8\" font-family=\"Times New Roman,serif\" font-size=\"14.00\">node #23</text>\r\n",
       "<text text-anchor=\"middle\" x=\"1368.5\" y=\"-37.8\" font-family=\"Times New Roman,serif\" font-size=\"14.00\">gini = 0.187</text>\r\n",
       "<text text-anchor=\"middle\" x=\"1368.5\" y=\"-22.8\" font-family=\"Times New Roman,serif\" font-size=\"14.00\">samples = 9043</text>\r\n",
       "<text text-anchor=\"middle\" x=\"1368.5\" y=\"-7.8\" font-family=\"Times New Roman,serif\" font-size=\"14.00\">value = [8098, 945]</text>\r\n",
       "</g>\r\n",
       "<!-- 22&#45;&gt;23 -->\r\n",
       "<g id=\"edge23\" class=\"edge\"><title>22&#45;&gt;23</title>\r\n",
       "<path fill=\"none\" stroke=\"black\" d=\"M1422.05,-111.407C1414.16,-100.152 1405.59,-87.9183 1397.66,-76.6062\"/>\r\n",
       "<polygon fill=\"black\" stroke=\"black\" points=\"1400.35,-74.3472 1391.75,-68.1669 1394.62,-78.3648 1400.35,-74.3472\"/>\r\n",
       "</g>\r\n",
       "<!-- 24 -->\r\n",
       "<g id=\"node25\" class=\"node\"><title>24</title>\r\n",
       "<polygon fill=\"#e78946\" stroke=\"black\" points=\"1574,-68 1449,-68 1449,-0 1574,-0 1574,-68\"/>\r\n",
       "<text text-anchor=\"middle\" x=\"1511.5\" y=\"-52.8\" font-family=\"Times New Roman,serif\" font-size=\"14.00\">node #24</text>\r\n",
       "<text text-anchor=\"middle\" x=\"1511.5\" y=\"-37.8\" font-family=\"Times New Roman,serif\" font-size=\"14.00\">gini = 0.115</text>\r\n",
       "<text text-anchor=\"middle\" x=\"1511.5\" y=\"-22.8\" font-family=\"Times New Roman,serif\" font-size=\"14.00\">samples = 6504</text>\r\n",
       "<text text-anchor=\"middle\" x=\"1511.5\" y=\"-7.8\" font-family=\"Times New Roman,serif\" font-size=\"14.00\">value = [6105, 399]</text>\r\n",
       "</g>\r\n",
       "<!-- 22&#45;&gt;24 -->\r\n",
       "<g id=\"edge24\" class=\"edge\"><title>22&#45;&gt;24</title>\r\n",
       "<path fill=\"none\" stroke=\"black\" d=\"M1471.66,-111.407C1477.42,-100.373 1483.66,-88.3977 1489.46,-77.2727\"/>\r\n",
       "<polygon fill=\"black\" stroke=\"black\" points=\"1492.69,-78.6522 1494.21,-68.1669 1486.48,-75.4161 1492.69,-78.6522\"/>\r\n",
       "</g>\r\n",
       "<!-- 26 -->\r\n",
       "<g id=\"node27\" class=\"node\"><title>26</title>\r\n",
       "<polygon fill=\"#acd6f4\" stroke=\"black\" points=\"1762,-194.5 1625,-194.5 1625,-111.5 1762,-111.5 1762,-194.5\"/>\r\n",
       "<text text-anchor=\"middle\" x=\"1693.5\" y=\"-179.3\" font-family=\"Times New Roman,serif\" font-size=\"14.00\">node #26</text>\r\n",
       "<text text-anchor=\"middle\" x=\"1693.5\" y=\"-164.3\" font-family=\"Times New Roman,serif\" font-size=\"14.00\">ROADCOND &lt;= 8.5</text>\r\n",
       "<text text-anchor=\"middle\" x=\"1693.5\" y=\"-149.3\" font-family=\"Times New Roman,serif\" font-size=\"14.00\">gini = 0.465</text>\r\n",
       "<text text-anchor=\"middle\" x=\"1693.5\" y=\"-134.3\" font-family=\"Times New Roman,serif\" font-size=\"14.00\">samples = 209</text>\r\n",
       "<text text-anchor=\"middle\" x=\"1693.5\" y=\"-119.3\" font-family=\"Times New Roman,serif\" font-size=\"14.00\">value = [77, 132]</text>\r\n",
       "</g>\r\n",
       "<!-- 25&#45;&gt;26 -->\r\n",
       "<g id=\"edge26\" class=\"edge\"><title>25&#45;&gt;26</title>\r\n",
       "<path fill=\"none\" stroke=\"black\" d=\"M1693.5,-230.407C1693.5,-222.149 1693.5,-213.364 1693.5,-204.802\"/>\r\n",
       "<polygon fill=\"black\" stroke=\"black\" points=\"1697,-204.521 1693.5,-194.521 1690,-204.521 1697,-204.521\"/>\r\n",
       "</g>\r\n",
       "<!-- 29 -->\r\n",
       "<g id=\"node30\" class=\"node\"><title>29</title>\r\n",
       "<polygon fill=\"#eeaa7a\" stroke=\"black\" points=\"1961.5,-194.5 1825.5,-194.5 1825.5,-111.5 1961.5,-111.5 1961.5,-194.5\"/>\r\n",
       "<text text-anchor=\"middle\" x=\"1893.5\" y=\"-179.3\" font-family=\"Times New Roman,serif\" font-size=\"14.00\">node #29</text>\r\n",
       "<text text-anchor=\"middle\" x=\"1893.5\" y=\"-164.3\" font-family=\"Times New Roman,serif\" font-size=\"14.00\">UNDERINFL &lt;= 1.5</text>\r\n",
       "<text text-anchor=\"middle\" x=\"1893.5\" y=\"-149.3\" font-family=\"Times New Roman,serif\" font-size=\"14.00\">gini = 0.372</text>\r\n",
       "<text text-anchor=\"middle\" x=\"1893.5\" y=\"-134.3\" font-family=\"Times New Roman,serif\" font-size=\"14.00\">samples = 461</text>\r\n",
       "<text text-anchor=\"middle\" x=\"1893.5\" y=\"-119.3\" font-family=\"Times New Roman,serif\" font-size=\"14.00\">value = [347, 114]</text>\r\n",
       "</g>\r\n",
       "<!-- 25&#45;&gt;29 -->\r\n",
       "<g id=\"edge29\" class=\"edge\"><title>25&#45;&gt;29</title>\r\n",
       "<path fill=\"none\" stroke=\"black\" d=\"M1762.89,-230.407C1780.09,-220.347 1798.62,-209.504 1816.17,-199.237\"/>\r\n",
       "<polygon fill=\"black\" stroke=\"black\" points=\"1818.38,-201.998 1825.25,-193.928 1814.85,-195.956 1818.38,-201.998\"/>\r\n",
       "</g>\r\n",
       "<!-- 27 -->\r\n",
       "<g id=\"node28\" class=\"node\"><title>27</title>\r\n",
       "<polygon fill=\"#a3d2f3\" stroke=\"black\" points=\"1703,-68 1592,-68 1592,-0 1703,-0 1703,-68\"/>\r\n",
       "<text text-anchor=\"middle\" x=\"1647.5\" y=\"-52.8\" font-family=\"Times New Roman,serif\" font-size=\"14.00\">node #27</text>\r\n",
       "<text text-anchor=\"middle\" x=\"1647.5\" y=\"-37.8\" font-family=\"Times New Roman,serif\" font-size=\"14.00\">gini = 0.455</text>\r\n",
       "<text text-anchor=\"middle\" x=\"1647.5\" y=\"-22.8\" font-family=\"Times New Roman,serif\" font-size=\"14.00\">samples = 189</text>\r\n",
       "<text text-anchor=\"middle\" x=\"1647.5\" y=\"-7.8\" font-family=\"Times New Roman,serif\" font-size=\"14.00\">value = [66, 123]</text>\r\n",
       "</g>\r\n",
       "<!-- 26&#45;&gt;27 -->\r\n",
       "<g id=\"edge27\" class=\"edge\"><title>26&#45;&gt;27</title>\r\n",
       "<path fill=\"none\" stroke=\"black\" d=\"M1677.54,-111.407C1673.25,-100.483 1668.59,-88.6371 1664.25,-77.6067\"/>\r\n",
       "<polygon fill=\"black\" stroke=\"black\" points=\"1667.46,-76.1928 1660.54,-68.1669 1660.94,-78.7542 1667.46,-76.1928\"/>\r\n",
       "</g>\r\n",
       "<!-- 28 -->\r\n",
       "<g id=\"node29\" class=\"node\"><title>28</title>\r\n",
       "<polygon fill=\"#fae8db\" stroke=\"black\" points=\"1819.5,-68 1721.5,-68 1721.5,-0 1819.5,-0 1819.5,-68\"/>\r\n",
       "<text text-anchor=\"middle\" x=\"1770.5\" y=\"-52.8\" font-family=\"Times New Roman,serif\" font-size=\"14.00\">node #28</text>\r\n",
       "<text text-anchor=\"middle\" x=\"1770.5\" y=\"-37.8\" font-family=\"Times New Roman,serif\" font-size=\"14.00\">gini = 0.495</text>\r\n",
       "<text text-anchor=\"middle\" x=\"1770.5\" y=\"-22.8\" font-family=\"Times New Roman,serif\" font-size=\"14.00\">samples = 20</text>\r\n",
       "<text text-anchor=\"middle\" x=\"1770.5\" y=\"-7.8\" font-family=\"Times New Roman,serif\" font-size=\"14.00\">value = [11, 9]</text>\r\n",
       "</g>\r\n",
       "<!-- 26&#45;&gt;28 -->\r\n",
       "<g id=\"edge28\" class=\"edge\"><title>26&#45;&gt;28</title>\r\n",
       "<path fill=\"none\" stroke=\"black\" d=\"M1720.21,-111.407C1727.62,-100.152 1735.67,-87.9183 1743.12,-76.6062\"/>\r\n",
       "<polygon fill=\"black\" stroke=\"black\" points=\"1746.1,-78.4444 1748.67,-68.1669 1740.25,-74.5961 1746.1,-78.4444\"/>\r\n",
       "</g>\r\n",
       "<!-- 30 -->\r\n",
       "<g id=\"node31\" class=\"node\"><title>30</title>\r\n",
       "<polygon fill=\"#f2c09d\" stroke=\"black\" points=\"1949,-68 1838,-68 1838,-0 1949,-0 1949,-68\"/>\r\n",
       "<text text-anchor=\"middle\" x=\"1893.5\" y=\"-52.8\" font-family=\"Times New Roman,serif\" font-size=\"14.00\">node #30</text>\r\n",
       "<text text-anchor=\"middle\" x=\"1893.5\" y=\"-37.8\" font-family=\"Times New Roman,serif\" font-size=\"14.00\">gini = 0.445</text>\r\n",
       "<text text-anchor=\"middle\" x=\"1893.5\" y=\"-22.8\" font-family=\"Times New Roman,serif\" font-size=\"14.00\">samples = 242</text>\r\n",
       "<text text-anchor=\"middle\" x=\"1893.5\" y=\"-7.8\" font-family=\"Times New Roman,serif\" font-size=\"14.00\">value = [161, 81]</text>\r\n",
       "</g>\r\n",
       "<!-- 29&#45;&gt;30 -->\r\n",
       "<g id=\"edge30\" class=\"edge\"><title>29&#45;&gt;30</title>\r\n",
       "<path fill=\"none\" stroke=\"black\" d=\"M1893.5,-111.407C1893.5,-100.704 1893.5,-89.1154 1893.5,-78.2762\"/>\r\n",
       "<polygon fill=\"black\" stroke=\"black\" points=\"1897,-78.1669 1893.5,-68.1669 1890,-78.167 1897,-78.1669\"/>\r\n",
       "</g>\r\n",
       "<!-- 31 -->\r\n",
       "<g id=\"node32\" class=\"node\"><title>31</title>\r\n",
       "<polygon fill=\"#ea975c\" stroke=\"black\" points=\"2078,-68 1967,-68 1967,-0 2078,-0 2078,-68\"/>\r\n",
       "<text text-anchor=\"middle\" x=\"2022.5\" y=\"-52.8\" font-family=\"Times New Roman,serif\" font-size=\"14.00\">node #31</text>\r\n",
       "<text text-anchor=\"middle\" x=\"2022.5\" y=\"-37.8\" font-family=\"Times New Roman,serif\" font-size=\"14.00\">gini = 0.256</text>\r\n",
       "<text text-anchor=\"middle\" x=\"2022.5\" y=\"-22.8\" font-family=\"Times New Roman,serif\" font-size=\"14.00\">samples = 219</text>\r\n",
       "<text text-anchor=\"middle\" x=\"2022.5\" y=\"-7.8\" font-family=\"Times New Roman,serif\" font-size=\"14.00\">value = [186, 33]</text>\r\n",
       "</g>\r\n",
       "<!-- 29&#45;&gt;31 -->\r\n",
       "<g id=\"edge31\" class=\"edge\"><title>29&#45;&gt;31</title>\r\n",
       "<path fill=\"none\" stroke=\"black\" d=\"M1938.26,-111.407C1951.27,-99.6005 1965.48,-86.7166 1978.45,-74.9495\"/>\r\n",
       "<polygon fill=\"black\" stroke=\"black\" points=\"1980.88,-77.4776 1985.93,-68.1669 1976.17,-72.2926 1980.88,-77.4776\"/>\r\n",
       "</g>\r\n",
       "<!-- 33 -->\r\n",
       "<g id=\"node34\" class=\"node\"><title>33</title>\r\n",
       "<polygon fill=\"#f5d0b6\" stroke=\"black\" points=\"2731,-432.5 2586,-432.5 2586,-349.5 2731,-349.5 2731,-432.5\"/>\r\n",
       "<text text-anchor=\"middle\" x=\"2658.5\" y=\"-417.3\" font-family=\"Times New Roman,serif\" font-size=\"14.00\">node #33</text>\r\n",
       "<text text-anchor=\"middle\" x=\"2658.5\" y=\"-402.3\" font-family=\"Times New Roman,serif\" font-size=\"14.00\">WEATHER &lt;= 10.5</text>\r\n",
       "<text text-anchor=\"middle\" x=\"2658.5\" y=\"-387.3\" font-family=\"Times New Roman,serif\" font-size=\"14.00\">gini = 0.474</text>\r\n",
       "<text text-anchor=\"middle\" x=\"2658.5\" y=\"-372.3\" font-family=\"Times New Roman,serif\" font-size=\"14.00\">samples = 59594</text>\r\n",
       "<text text-anchor=\"middle\" x=\"2658.5\" y=\"-357.3\" font-family=\"Times New Roman,serif\" font-size=\"14.00\">value = [36572, 23022]</text>\r\n",
       "</g>\r\n",
       "<!-- 32&#45;&gt;33 -->\r\n",
       "<g id=\"edge33\" class=\"edge\"><title>32&#45;&gt;33</title>\r\n",
       "<path fill=\"none\" stroke=\"black\" d=\"M2658.5,-468.407C2658.5,-460.149 2658.5,-451.364 2658.5,-442.802\"/>\r\n",
       "<polygon fill=\"black\" stroke=\"black\" points=\"2662,-442.521 2658.5,-432.521 2655,-442.521 2662,-442.521\"/>\r\n",
       "</g>\r\n",
       "<!-- 48 -->\r\n",
       "<g id=\"node49\" class=\"node\"><title>48</title>\r\n",
       "<polygon fill=\"#51a9e8\" stroke=\"black\" points=\"3499,-432.5 3374,-432.5 3374,-349.5 3499,-349.5 3499,-432.5\"/>\r\n",
       "<text text-anchor=\"middle\" x=\"3436.5\" y=\"-417.3\" font-family=\"Times New Roman,serif\" font-size=\"14.00\">node #48</text>\r\n",
       "<text text-anchor=\"middle\" x=\"3436.5\" y=\"-402.3\" font-family=\"Times New Roman,serif\" font-size=\"14.00\">SPEEDING &lt;= 0.5</text>\r\n",
       "<text text-anchor=\"middle\" x=\"3436.5\" y=\"-387.3\" font-family=\"Times New Roman,serif\" font-size=\"14.00\">gini = 0.196</text>\r\n",
       "<text text-anchor=\"middle\" x=\"3436.5\" y=\"-372.3\" font-family=\"Times New Roman,serif\" font-size=\"14.00\">samples = 7911</text>\r\n",
       "<text text-anchor=\"middle\" x=\"3436.5\" y=\"-357.3\" font-family=\"Times New Roman,serif\" font-size=\"14.00\">value = [871, 7040]</text>\r\n",
       "</g>\r\n",
       "<!-- 32&#45;&gt;48 -->\r\n",
       "<g id=\"edge48\" class=\"edge\"><title>32&#45;&gt;48</title>\r\n",
       "<path fill=\"none\" stroke=\"black\" d=\"M2731.34,-498.046C2879.79,-475.722 3215.76,-425.196 3363.95,-402.91\"/>\r\n",
       "<polygon fill=\"black\" stroke=\"black\" points=\"3364.5,-406.367 3373.87,-401.419 3363.46,-399.445 3364.5,-406.367\"/>\r\n",
       "</g>\r\n",
       "<!-- 34 -->\r\n",
       "<g id=\"node35\" class=\"node\"><title>34</title>\r\n",
       "<polygon fill=\"#f4cbae\" stroke=\"black\" points=\"2605,-313.5 2460,-313.5 2460,-230.5 2605,-230.5 2605,-313.5\"/>\r\n",
       "<text text-anchor=\"middle\" x=\"2532.5\" y=\"-298.3\" font-family=\"Times New Roman,serif\" font-size=\"14.00\">node #34</text>\r\n",
       "<text text-anchor=\"middle\" x=\"2532.5\" y=\"-283.3\" font-family=\"Times New Roman,serif\" font-size=\"14.00\">WEATHER &lt;= 9.5</text>\r\n",
       "<text text-anchor=\"middle\" x=\"2532.5\" y=\"-268.3\" font-family=\"Times New Roman,serif\" font-size=\"14.00\">gini = 0.467</text>\r\n",
       "<text text-anchor=\"middle\" x=\"2532.5\" y=\"-253.3\" font-family=\"Times New Roman,serif\" font-size=\"14.00\">samples = 57428</text>\r\n",
       "<text text-anchor=\"middle\" x=\"2532.5\" y=\"-238.3\" font-family=\"Times New Roman,serif\" font-size=\"14.00\">value = [36108, 21320]</text>\r\n",
       "</g>\r\n",
       "<!-- 33&#45;&gt;34 -->\r\n",
       "<g id=\"edge34\" class=\"edge\"><title>33&#45;&gt;34</title>\r\n",
       "<path fill=\"none\" stroke=\"black\" d=\"M2614.78,-349.407C2604.72,-340.06 2593.93,-330.038 2583.58,-320.429\"/>\r\n",
       "<polygon fill=\"black\" stroke=\"black\" points=\"2585.85,-317.761 2576.14,-313.521 2581.08,-322.89 2585.85,-317.761\"/>\r\n",
       "</g>\r\n",
       "<!-- 41 -->\r\n",
       "<g id=\"node42\" class=\"node\"><title>41</title>\r\n",
       "<polygon fill=\"#6fb8ec\" stroke=\"black\" points=\"2845,-313.5 2708,-313.5 2708,-230.5 2845,-230.5 2845,-313.5\"/>\r\n",
       "<text text-anchor=\"middle\" x=\"2776.5\" y=\"-298.3\" font-family=\"Times New Roman,serif\" font-size=\"14.00\">node #41</text>\r\n",
       "<text text-anchor=\"middle\" x=\"2776.5\" y=\"-283.3\" font-family=\"Times New Roman,serif\" font-size=\"14.00\">ROADCOND &lt;= 8.5</text>\r\n",
       "<text text-anchor=\"middle\" x=\"2776.5\" y=\"-268.3\" font-family=\"Times New Roman,serif\" font-size=\"14.00\">gini = 0.337</text>\r\n",
       "<text text-anchor=\"middle\" x=\"2776.5\" y=\"-253.3\" font-family=\"Times New Roman,serif\" font-size=\"14.00\">samples = 2166</text>\r\n",
       "<text text-anchor=\"middle\" x=\"2776.5\" y=\"-238.3\" font-family=\"Times New Roman,serif\" font-size=\"14.00\">value = [464, 1702]</text>\r\n",
       "</g>\r\n",
       "<!-- 33&#45;&gt;41 -->\r\n",
       "<g id=\"edge41\" class=\"edge\"><title>33&#45;&gt;41</title>\r\n",
       "<path fill=\"none\" stroke=\"black\" d=\"M2699.44,-349.407C2708.78,-340.151 2718.78,-330.232 2728.38,-320.709\"/>\r\n",
       "<polygon fill=\"black\" stroke=\"black\" points=\"2731,-323.047 2735.63,-313.521 2726.07,-318.076 2731,-323.047\"/>\r\n",
       "</g>\r\n",
       "<!-- 35 -->\r\n",
       "<g id=\"node36\" class=\"node\"><title>35</title>\r\n",
       "<polygon fill=\"#f5d0b5\" stroke=\"black\" points=\"2394,-194.5 2249,-194.5 2249,-111.5 2394,-111.5 2394,-194.5\"/>\r\n",
       "<text text-anchor=\"middle\" x=\"2321.5\" y=\"-179.3\" font-family=\"Times New Roman,serif\" font-size=\"14.00\">node #35</text>\r\n",
       "<text text-anchor=\"middle\" x=\"2321.5\" y=\"-164.3\" font-family=\"Times New Roman,serif\" font-size=\"14.00\">SPEEDING &lt;= 0.5</text>\r\n",
       "<text text-anchor=\"middle\" x=\"2321.5\" y=\"-149.3\" font-family=\"Times New Roman,serif\" font-size=\"14.00\">gini = 0.473</text>\r\n",
       "<text text-anchor=\"middle\" x=\"2321.5\" y=\"-134.3\" font-family=\"Times New Roman,serif\" font-size=\"14.00\">samples = 55369</text>\r\n",
       "<text text-anchor=\"middle\" x=\"2321.5\" y=\"-119.3\" font-family=\"Times New Roman,serif\" font-size=\"14.00\">value = [34091, 21278]</text>\r\n",
       "</g>\r\n",
       "<!-- 34&#45;&gt;35 -->\r\n",
       "<g id=\"edge35\" class=\"edge\"><title>34&#45;&gt;35</title>\r\n",
       "<path fill=\"none\" stroke=\"black\" d=\"M2459.89,-230.735C2441.57,-220.578 2421.78,-209.605 2403.05,-199.222\"/>\r\n",
       "<polygon fill=\"black\" stroke=\"black\" points=\"2404.69,-196.127 2394.25,-194.339 2401.3,-202.249 2404.69,-196.127\"/>\r\n",
       "</g>\r\n",
       "<!-- 38 -->\r\n",
       "<g id=\"node39\" class=\"node\"><title>38</title>\r\n",
       "<polygon fill=\"#e6843d\" stroke=\"black\" points=\"2601,-194.5 2464,-194.5 2464,-111.5 2601,-111.5 2601,-194.5\"/>\r\n",
       "<text text-anchor=\"middle\" x=\"2532.5\" y=\"-179.3\" font-family=\"Times New Roman,serif\" font-size=\"14.00\">node #38</text>\r\n",
       "<text text-anchor=\"middle\" x=\"2532.5\" y=\"-164.3\" font-family=\"Times New Roman,serif\" font-size=\"14.00\">ROADCOND &lt;= 5.5</text>\r\n",
       "<text text-anchor=\"middle\" x=\"2532.5\" y=\"-149.3\" font-family=\"Times New Roman,serif\" font-size=\"14.00\">gini = 0.04</text>\r\n",
       "<text text-anchor=\"middle\" x=\"2532.5\" y=\"-134.3\" font-family=\"Times New Roman,serif\" font-size=\"14.00\">samples = 2059</text>\r\n",
       "<text text-anchor=\"middle\" x=\"2532.5\" y=\"-119.3\" font-family=\"Times New Roman,serif\" font-size=\"14.00\">value = [2017, 42]</text>\r\n",
       "</g>\r\n",
       "<!-- 34&#45;&gt;38 -->\r\n",
       "<g id=\"edge38\" class=\"edge\"><title>34&#45;&gt;38</title>\r\n",
       "<path fill=\"none\" stroke=\"black\" d=\"M2532.5,-230.407C2532.5,-222.149 2532.5,-213.364 2532.5,-204.802\"/>\r\n",
       "<polygon fill=\"black\" stroke=\"black\" points=\"2536,-204.521 2532.5,-194.521 2529,-204.521 2536,-204.521\"/>\r\n",
       "</g>\r\n",
       "<!-- 36 -->\r\n",
       "<g id=\"node37\" class=\"node\"><title>36</title>\r\n",
       "<polygon fill=\"#f6d5bc\" stroke=\"black\" points=\"2241,-68 2096,-68 2096,-0 2241,-0 2241,-68\"/>\r\n",
       "<text text-anchor=\"middle\" x=\"2168.5\" y=\"-52.8\" font-family=\"Times New Roman,serif\" font-size=\"14.00\">node #36</text>\r\n",
       "<text text-anchor=\"middle\" x=\"2168.5\" y=\"-37.8\" font-family=\"Times New Roman,serif\" font-size=\"14.00\">gini = 0.48</text>\r\n",
       "<text text-anchor=\"middle\" x=\"2168.5\" y=\"-22.8\" font-family=\"Times New Roman,serif\" font-size=\"14.00\">samples = 51631</text>\r\n",
       "<text text-anchor=\"middle\" x=\"2168.5\" y=\"-7.8\" font-family=\"Times New Roman,serif\" font-size=\"14.00\">value = [31038, 20593]</text>\r\n",
       "</g>\r\n",
       "<!-- 35&#45;&gt;36 -->\r\n",
       "<g id=\"edge36\" class=\"edge\"><title>35&#45;&gt;36</title>\r\n",
       "<path fill=\"none\" stroke=\"black\" d=\"M2268.42,-111.407C2252.69,-99.3798 2235.5,-86.2345 2219.88,-74.2909\"/>\r\n",
       "<polygon fill=\"black\" stroke=\"black\" points=\"2221.94,-71.4612 2211.87,-68.1669 2217.69,-77.0217 2221.94,-71.4612\"/>\r\n",
       "</g>\r\n",
       "<!-- 37 -->\r\n",
       "<g id=\"node38\" class=\"node\"><title>37</title>\r\n",
       "<polygon fill=\"#eb9d65\" stroke=\"black\" points=\"2384,-68 2259,-68 2259,-0 2384,-0 2384,-68\"/>\r\n",
       "<text text-anchor=\"middle\" x=\"2321.5\" y=\"-52.8\" font-family=\"Times New Roman,serif\" font-size=\"14.00\">node #37</text>\r\n",
       "<text text-anchor=\"middle\" x=\"2321.5\" y=\"-37.8\" font-family=\"Times New Roman,serif\" font-size=\"14.00\">gini = 0.299</text>\r\n",
       "<text text-anchor=\"middle\" x=\"2321.5\" y=\"-22.8\" font-family=\"Times New Roman,serif\" font-size=\"14.00\">samples = 3738</text>\r\n",
       "<text text-anchor=\"middle\" x=\"2321.5\" y=\"-7.8\" font-family=\"Times New Roman,serif\" font-size=\"14.00\">value = [3053, 685]</text>\r\n",
       "</g>\r\n",
       "<!-- 35&#45;&gt;37 -->\r\n",
       "<g id=\"edge37\" class=\"edge\"><title>35&#45;&gt;37</title>\r\n",
       "<path fill=\"none\" stroke=\"black\" d=\"M2321.5,-111.407C2321.5,-100.704 2321.5,-89.1154 2321.5,-78.2762\"/>\r\n",
       "<polygon fill=\"black\" stroke=\"black\" points=\"2325,-78.1669 2321.5,-68.1669 2318,-78.167 2325,-78.1669\"/>\r\n",
       "</g>\r\n",
       "<!-- 39 -->\r\n",
       "<g id=\"node40\" class=\"node\"><title>39</title>\r\n",
       "<polygon fill=\"#f6d5bd\" stroke=\"black\" points=\"2506.5,-68 2402.5,-68 2402.5,-0 2506.5,-0 2506.5,-68\"/>\r\n",
       "<text text-anchor=\"middle\" x=\"2454.5\" y=\"-52.8\" font-family=\"Times New Roman,serif\" font-size=\"14.00\">node #39</text>\r\n",
       "<text text-anchor=\"middle\" x=\"2454.5\" y=\"-37.8\" font-family=\"Times New Roman,serif\" font-size=\"14.00\">gini = 0.48</text>\r\n",
       "<text text-anchor=\"middle\" x=\"2454.5\" y=\"-22.8\" font-family=\"Times New Roman,serif\" font-size=\"14.00\">samples = 40</text>\r\n",
       "<text text-anchor=\"middle\" x=\"2454.5\" y=\"-7.8\" font-family=\"Times New Roman,serif\" font-size=\"14.00\">value = [24, 16]</text>\r\n",
       "</g>\r\n",
       "<!-- 38&#45;&gt;39 -->\r\n",
       "<g id=\"edge39\" class=\"edge\"><title>38&#45;&gt;39</title>\r\n",
       "<path fill=\"none\" stroke=\"black\" d=\"M2505.44,-111.407C2497.93,-100.152 2489.78,-87.9183 2482.24,-76.6062\"/>\r\n",
       "<polygon fill=\"black\" stroke=\"black\" points=\"2485.07,-74.546 2476.61,-68.1669 2479.25,-78.4289 2485.07,-74.546\"/>\r\n",
       "</g>\r\n",
       "<!-- 40 -->\r\n",
       "<g id=\"node41\" class=\"node\"><title>40</title>\r\n",
       "<polygon fill=\"#e5833c\" stroke=\"black\" points=\"2642.5,-68 2524.5,-68 2524.5,-0 2642.5,-0 2642.5,-68\"/>\r\n",
       "<text text-anchor=\"middle\" x=\"2583.5\" y=\"-52.8\" font-family=\"Times New Roman,serif\" font-size=\"14.00\">node #40</text>\r\n",
       "<text text-anchor=\"middle\" x=\"2583.5\" y=\"-37.8\" font-family=\"Times New Roman,serif\" font-size=\"14.00\">gini = 0.025</text>\r\n",
       "<text text-anchor=\"middle\" x=\"2583.5\" y=\"-22.8\" font-family=\"Times New Roman,serif\" font-size=\"14.00\">samples = 2019</text>\r\n",
       "<text text-anchor=\"middle\" x=\"2583.5\" y=\"-7.8\" font-family=\"Times New Roman,serif\" font-size=\"14.00\">value = [1993, 26]</text>\r\n",
       "</g>\r\n",
       "<!-- 38&#45;&gt;40 -->\r\n",
       "<g id=\"edge40\" class=\"edge\"><title>38&#45;&gt;40</title>\r\n",
       "<path fill=\"none\" stroke=\"black\" d=\"M2550.19,-111.407C2554.96,-100.483 2560.12,-88.6371 2564.93,-77.6067\"/>\r\n",
       "<polygon fill=\"black\" stroke=\"black\" points=\"2568.26,-78.7325 2569.04,-68.1669 2561.84,-75.9353 2568.26,-78.7325\"/>\r\n",
       "</g>\r\n",
       "<!-- 42 -->\r\n",
       "<g id=\"node43\" class=\"node\"><title>42</title>\r\n",
       "<polygon fill=\"#6ab5eb\" stroke=\"black\" points=\"2845,-194.5 2708,-194.5 2708,-111.5 2845,-111.5 2845,-194.5\"/>\r\n",
       "<text text-anchor=\"middle\" x=\"2776.5\" y=\"-179.3\" font-family=\"Times New Roman,serif\" font-size=\"14.00\">node #42</text>\r\n",
       "<text text-anchor=\"middle\" x=\"2776.5\" y=\"-164.3\" font-family=\"Times New Roman,serif\" font-size=\"14.00\">ROADCOND &lt;= 3.5</text>\r\n",
       "<text text-anchor=\"middle\" x=\"2776.5\" y=\"-149.3\" font-family=\"Times New Roman,serif\" font-size=\"14.00\">gini = 0.32</text>\r\n",
       "<text text-anchor=\"middle\" x=\"2776.5\" y=\"-134.3\" font-family=\"Times New Roman,serif\" font-size=\"14.00\">samples = 2041</text>\r\n",
       "<text text-anchor=\"middle\" x=\"2776.5\" y=\"-119.3\" font-family=\"Times New Roman,serif\" font-size=\"14.00\">value = [408, 1633]</text>\r\n",
       "</g>\r\n",
       "<!-- 41&#45;&gt;42 -->\r\n",
       "<g id=\"edge42\" class=\"edge\"><title>41&#45;&gt;42</title>\r\n",
       "<path fill=\"none\" stroke=\"black\" d=\"M2776.5,-230.407C2776.5,-222.149 2776.5,-213.364 2776.5,-204.802\"/>\r\n",
       "<polygon fill=\"black\" stroke=\"black\" points=\"2780,-204.521 2776.5,-194.521 2773,-204.521 2780,-204.521\"/>\r\n",
       "</g>\r\n",
       "<!-- 45 -->\r\n",
       "<g id=\"node46\" class=\"node\"><title>45</title>\r\n",
       "<polygon fill=\"#daedfa\" stroke=\"black\" points=\"3048,-194.5 2923,-194.5 2923,-111.5 3048,-111.5 3048,-194.5\"/>\r\n",
       "<text text-anchor=\"middle\" x=\"2985.5\" y=\"-179.3\" font-family=\"Times New Roman,serif\" font-size=\"14.00\">node #45</text>\r\n",
       "<text text-anchor=\"middle\" x=\"2985.5\" y=\"-164.3\" font-family=\"Times New Roman,serif\" font-size=\"14.00\">SPEEDING &lt;= 0.5</text>\r\n",
       "<text text-anchor=\"middle\" x=\"2985.5\" y=\"-149.3\" font-family=\"Times New Roman,serif\" font-size=\"14.00\">gini = 0.495</text>\r\n",
       "<text text-anchor=\"middle\" x=\"2985.5\" y=\"-134.3\" font-family=\"Times New Roman,serif\" font-size=\"14.00\">samples = 125</text>\r\n",
       "<text text-anchor=\"middle\" x=\"2985.5\" y=\"-119.3\" font-family=\"Times New Roman,serif\" font-size=\"14.00\">value = [56, 69]</text>\r\n",
       "</g>\r\n",
       "<!-- 41&#45;&gt;45 -->\r\n",
       "<g id=\"edge45\" class=\"edge\"><title>41&#45;&gt;45</title>\r\n",
       "<path fill=\"none\" stroke=\"black\" d=\"M2845.22,-232.528C2867.28,-220.18 2891.76,-206.479 2914.01,-194.023\"/>\r\n",
       "<polygon fill=\"black\" stroke=\"black\" points=\"2915.72,-197.073 2922.74,-189.134 2912.3,-190.965 2915.72,-197.073\"/>\r\n",
       "</g>\r\n",
       "<!-- 43 -->\r\n",
       "<g id=\"node44\" class=\"node\"><title>43</title>\r\n",
       "<polygon fill=\"#b1d8f5\" stroke=\"black\" points=\"2772,-68 2661,-68 2661,-0 2772,-0 2772,-68\"/>\r\n",
       "<text text-anchor=\"middle\" x=\"2716.5\" y=\"-52.8\" font-family=\"Times New Roman,serif\" font-size=\"14.00\">node #43</text>\r\n",
       "<text text-anchor=\"middle\" x=\"2716.5\" y=\"-37.8\" font-family=\"Times New Roman,serif\" font-size=\"14.00\">gini = 0.47</text>\r\n",
       "<text text-anchor=\"middle\" x=\"2716.5\" y=\"-22.8\" font-family=\"Times New Roman,serif\" font-size=\"14.00\">samples = 233</text>\r\n",
       "<text text-anchor=\"middle\" x=\"2716.5\" y=\"-7.8\" font-family=\"Times New Roman,serif\" font-size=\"14.00\">value = [88, 145]</text>\r\n",
       "</g>\r\n",
       "<!-- 42&#45;&gt;43 -->\r\n",
       "<g id=\"edge43\" class=\"edge\"><title>42&#45;&gt;43</title>\r\n",
       "<path fill=\"none\" stroke=\"black\" d=\"M2755.68,-111.407C2750.02,-100.373 2743.88,-88.3977 2738.18,-77.2727\"/>\r\n",
       "<polygon fill=\"black\" stroke=\"black\" points=\"2741.19,-75.468 2733.51,-68.1669 2734.96,-78.6622 2741.19,-75.468\"/>\r\n",
       "</g>\r\n",
       "<!-- 44 -->\r\n",
       "<g id=\"node45\" class=\"node\"><title>44</title>\r\n",
       "<polygon fill=\"#64b2eb\" stroke=\"black\" points=\"2915,-68 2790,-68 2790,-0 2915,-0 2915,-68\"/>\r\n",
       "<text text-anchor=\"middle\" x=\"2852.5\" y=\"-52.8\" font-family=\"Times New Roman,serif\" font-size=\"14.00\">node #44</text>\r\n",
       "<text text-anchor=\"middle\" x=\"2852.5\" y=\"-37.8\" font-family=\"Times New Roman,serif\" font-size=\"14.00\">gini = 0.291</text>\r\n",
       "<text text-anchor=\"middle\" x=\"2852.5\" y=\"-22.8\" font-family=\"Times New Roman,serif\" font-size=\"14.00\">samples = 1808</text>\r\n",
       "<text text-anchor=\"middle\" x=\"2852.5\" y=\"-7.8\" font-family=\"Times New Roman,serif\" font-size=\"14.00\">value = [320, 1488]</text>\r\n",
       "</g>\r\n",
       "<!-- 42&#45;&gt;44 -->\r\n",
       "<g id=\"edge44\" class=\"edge\"><title>42&#45;&gt;44</title>\r\n",
       "<path fill=\"none\" stroke=\"black\" d=\"M2802.87,-111.407C2810.18,-100.152 2818.13,-87.9183 2825.47,-76.6062\"/>\r\n",
       "<polygon fill=\"black\" stroke=\"black\" points=\"2828.44,-78.4596 2830.96,-68.1669 2822.57,-74.6464 2828.44,-78.4596\"/>\r\n",
       "</g>\r\n",
       "<!-- 46 -->\r\n",
       "<g id=\"node47\" class=\"node\"><title>46</title>\r\n",
       "<polygon fill=\"#c5e2f7\" stroke=\"black\" points=\"3037.5,-68 2933.5,-68 2933.5,-0 3037.5,-0 3037.5,-68\"/>\r\n",
       "<text text-anchor=\"middle\" x=\"2985.5\" y=\"-52.8\" font-family=\"Times New Roman,serif\" font-size=\"14.00\">node #46</text>\r\n",
       "<text text-anchor=\"middle\" x=\"2985.5\" y=\"-37.8\" font-family=\"Times New Roman,serif\" font-size=\"14.00\">gini = 0.485</text>\r\n",
       "<text text-anchor=\"middle\" x=\"2985.5\" y=\"-22.8\" font-family=\"Times New Roman,serif\" font-size=\"14.00\">samples = 116</text>\r\n",
       "<text text-anchor=\"middle\" x=\"2985.5\" y=\"-7.8\" font-family=\"Times New Roman,serif\" font-size=\"14.00\">value = [48, 68]</text>\r\n",
       "</g>\r\n",
       "<!-- 45&#45;&gt;46 -->\r\n",
       "<g id=\"edge46\" class=\"edge\"><title>45&#45;&gt;46</title>\r\n",
       "<path fill=\"none\" stroke=\"black\" d=\"M2985.5,-111.407C2985.5,-100.704 2985.5,-89.1154 2985.5,-78.2762\"/>\r\n",
       "<polygon fill=\"black\" stroke=\"black\" points=\"2989,-78.1669 2985.5,-68.1669 2982,-78.167 2989,-78.1669\"/>\r\n",
       "</g>\r\n",
       "<!-- 47 -->\r\n",
       "<g id=\"node48\" class=\"node\"><title>47</title>\r\n",
       "<polygon fill=\"#e89152\" stroke=\"black\" points=\"3147,-68 3056,-68 3056,-0 3147,-0 3147,-68\"/>\r\n",
       "<text text-anchor=\"middle\" x=\"3101.5\" y=\"-52.8\" font-family=\"Times New Roman,serif\" font-size=\"14.00\">node #47</text>\r\n",
       "<text text-anchor=\"middle\" x=\"3101.5\" y=\"-37.8\" font-family=\"Times New Roman,serif\" font-size=\"14.00\">gini = 0.198</text>\r\n",
       "<text text-anchor=\"middle\" x=\"3101.5\" y=\"-22.8\" font-family=\"Times New Roman,serif\" font-size=\"14.00\">samples = 9</text>\r\n",
       "<text text-anchor=\"middle\" x=\"3101.5\" y=\"-7.8\" font-family=\"Times New Roman,serif\" font-size=\"14.00\">value = [8, 1]</text>\r\n",
       "</g>\r\n",
       "<!-- 45&#45;&gt;47 -->\r\n",
       "<g id=\"edge47\" class=\"edge\"><title>45&#45;&gt;47</title>\r\n",
       "<path fill=\"none\" stroke=\"black\" d=\"M3025.75,-111.407C3037.34,-99.7109 3049.99,-86.9573 3061.56,-75.2797\"/>\r\n",
       "<polygon fill=\"black\" stroke=\"black\" points=\"3064.06,-77.7326 3068.62,-68.1669 3059.09,-72.8041 3064.06,-77.7326\"/>\r\n",
       "</g>\r\n",
       "<!-- 49 -->\r\n",
       "<g id=\"node50\" class=\"node\"><title>49</title>\r\n",
       "<polygon fill=\"#51a9e8\" stroke=\"black\" points=\"3524.5,-313.5 3348.5,-313.5 3348.5,-230.5 3524.5,-230.5 3524.5,-313.5\"/>\r\n",
       "<text text-anchor=\"middle\" x=\"3436.5\" y=\"-298.3\" font-family=\"Times New Roman,serif\" font-size=\"14.00\">node #49</text>\r\n",
       "<text text-anchor=\"middle\" x=\"3436.5\" y=\"-283.3\" font-family=\"Times New Roman,serif\" font-size=\"14.00\">INATTENTIONIND &lt;= 0.5</text>\r\n",
       "<text text-anchor=\"middle\" x=\"3436.5\" y=\"-268.3\" font-family=\"Times New Roman,serif\" font-size=\"14.00\">gini = 0.191</text>\r\n",
       "<text text-anchor=\"middle\" x=\"3436.5\" y=\"-253.3\" font-family=\"Times New Roman,serif\" font-size=\"14.00\">samples = 7872</text>\r\n",
       "<text text-anchor=\"middle\" x=\"3436.5\" y=\"-238.3\" font-family=\"Times New Roman,serif\" font-size=\"14.00\">value = [844, 7028]</text>\r\n",
       "</g>\r\n",
       "<!-- 48&#45;&gt;49 -->\r\n",
       "<g id=\"edge49\" class=\"edge\"><title>48&#45;&gt;49</title>\r\n",
       "<path fill=\"none\" stroke=\"black\" d=\"M3436.5,-349.407C3436.5,-341.149 3436.5,-332.364 3436.5,-323.802\"/>\r\n",
       "<polygon fill=\"black\" stroke=\"black\" points=\"3440,-323.521 3436.5,-313.521 3433,-323.521 3440,-323.521\"/>\r\n",
       "</g>\r\n",
       "<!-- 56 -->\r\n",
       "<g id=\"node57\" class=\"node\"><title>56</title>\r\n",
       "<polygon fill=\"#f1b991\" stroke=\"black\" points=\"3864,-313.5 3703,-313.5 3703,-230.5 3864,-230.5 3864,-313.5\"/>\r\n",
       "<text text-anchor=\"middle\" x=\"3783.5\" y=\"-298.3\" font-family=\"Times New Roman,serif\" font-size=\"14.00\">node #56</text>\r\n",
       "<text text-anchor=\"middle\" x=\"3783.5\" y=\"-283.3\" font-family=\"Times New Roman,serif\" font-size=\"14.00\">JUNCTIONTYPE &lt;= 5.0</text>\r\n",
       "<text text-anchor=\"middle\" x=\"3783.5\" y=\"-268.3\" font-family=\"Times New Roman,serif\" font-size=\"14.00\">gini = 0.426</text>\r\n",
       "<text text-anchor=\"middle\" x=\"3783.5\" y=\"-253.3\" font-family=\"Times New Roman,serif\" font-size=\"14.00\">samples = 39</text>\r\n",
       "<text text-anchor=\"middle\" x=\"3783.5\" y=\"-238.3\" font-family=\"Times New Roman,serif\" font-size=\"14.00\">value = [27, 12]</text>\r\n",
       "</g>\r\n",
       "<!-- 48&#45;&gt;56 -->\r\n",
       "<g id=\"edge56\" class=\"edge\"><title>48&#45;&gt;56</title>\r\n",
       "<path fill=\"none\" stroke=\"black\" d=\"M3499.34,-368.812C3553.47,-350.56 3632.27,-323.991 3693.17,-303.458\"/>\r\n",
       "<polygon fill=\"black\" stroke=\"black\" points=\"3694.42,-306.728 3702.78,-300.217 3692.19,-300.095 3694.42,-306.728\"/>\r\n",
       "</g>\r\n",
       "<!-- 50 -->\r\n",
       "<g id=\"node51\" class=\"node\"><title>50</title>\r\n",
       "<polygon fill=\"#4fa8e8\" stroke=\"black\" points=\"3430.5,-194.5 3294.5,-194.5 3294.5,-111.5 3430.5,-111.5 3430.5,-194.5\"/>\r\n",
       "<text text-anchor=\"middle\" x=\"3362.5\" y=\"-179.3\" font-family=\"Times New Roman,serif\" font-size=\"14.00\">node #50</text>\r\n",
       "<text text-anchor=\"middle\" x=\"3362.5\" y=\"-164.3\" font-family=\"Times New Roman,serif\" font-size=\"14.00\">UNDERINFL &lt;= 0.5</text>\r\n",
       "<text text-anchor=\"middle\" x=\"3362.5\" y=\"-149.3\" font-family=\"Times New Roman,serif\" font-size=\"14.00\">gini = 0.181</text>\r\n",
       "<text text-anchor=\"middle\" x=\"3362.5\" y=\"-134.3\" font-family=\"Times New Roman,serif\" font-size=\"14.00\">samples = 7511</text>\r\n",
       "<text text-anchor=\"middle\" x=\"3362.5\" y=\"-119.3\" font-family=\"Times New Roman,serif\" font-size=\"14.00\">value = [757, 6754]</text>\r\n",
       "</g>\r\n",
       "<!-- 49&#45;&gt;50 -->\r\n",
       "<g id=\"edge50\" class=\"edge\"><title>49&#45;&gt;50</title>\r\n",
       "<path fill=\"none\" stroke=\"black\" d=\"M3410.83,-230.407C3405.26,-221.605 3399.31,-212.203 3393.56,-203.112\"/>\r\n",
       "<polygon fill=\"black\" stroke=\"black\" points=\"3396.43,-201.101 3388.13,-194.521 3390.52,-204.843 3396.43,-201.101\"/>\r\n",
       "</g>\r\n",
       "<!-- 53 -->\r\n",
       "<g id=\"node54\" class=\"node\"><title>53</title>\r\n",
       "<polygon fill=\"#78bced\" stroke=\"black\" points=\"3574.5,-194.5 3448.5,-194.5 3448.5,-111.5 3574.5,-111.5 3574.5,-194.5\"/>\r\n",
       "<text text-anchor=\"middle\" x=\"3511.5\" y=\"-179.3\" font-family=\"Times New Roman,serif\" font-size=\"14.00\">node #53</text>\r\n",
       "<text text-anchor=\"middle\" x=\"3511.5\" y=\"-164.3\" font-family=\"Times New Roman,serif\" font-size=\"14.00\">WEATHER &lt;= 2.0</text>\r\n",
       "<text text-anchor=\"middle\" x=\"3511.5\" y=\"-149.3\" font-family=\"Times New Roman,serif\" font-size=\"14.00\">gini = 0.366</text>\r\n",
       "<text text-anchor=\"middle\" x=\"3511.5\" y=\"-134.3\" font-family=\"Times New Roman,serif\" font-size=\"14.00\">samples = 361</text>\r\n",
       "<text text-anchor=\"middle\" x=\"3511.5\" y=\"-119.3\" font-family=\"Times New Roman,serif\" font-size=\"14.00\">value = [87, 274]</text>\r\n",
       "</g>\r\n",
       "<!-- 49&#45;&gt;53 -->\r\n",
       "<g id=\"edge53\" class=\"edge\"><title>49&#45;&gt;53</title>\r\n",
       "<path fill=\"none\" stroke=\"black\" d=\"M3462.52,-230.407C3468.16,-221.605 3474.19,-212.203 3480.02,-203.112\"/>\r\n",
       "<polygon fill=\"black\" stroke=\"black\" points=\"3483.07,-204.828 3485.53,-194.521 3477.18,-201.051 3483.07,-204.828\"/>\r\n",
       "</g>\r\n",
       "<!-- 51 -->\r\n",
       "<g id=\"node52\" class=\"node\"><title>51</title>\r\n",
       "<polygon fill=\"#4ba6e7\" stroke=\"black\" points=\"3290,-68 3165,-68 3165,-0 3290,-0 3290,-68\"/>\r\n",
       "<text text-anchor=\"middle\" x=\"3227.5\" y=\"-52.8\" font-family=\"Times New Roman,serif\" font-size=\"14.00\">node #51</text>\r\n",
       "<text text-anchor=\"middle\" x=\"3227.5\" y=\"-37.8\" font-family=\"Times New Roman,serif\" font-size=\"14.00\">gini = 0.15</text>\r\n",
       "<text text-anchor=\"middle\" x=\"3227.5\" y=\"-22.8\" font-family=\"Times New Roman,serif\" font-size=\"14.00\">samples = 3371</text>\r\n",
       "<text text-anchor=\"middle\" x=\"3227.5\" y=\"-7.8\" font-family=\"Times New Roman,serif\" font-size=\"14.00\">value = [275, 3096]</text>\r\n",
       "</g>\r\n",
       "<!-- 50&#45;&gt;51 -->\r\n",
       "<g id=\"edge51\" class=\"edge\"><title>50&#45;&gt;51</title>\r\n",
       "<path fill=\"none\" stroke=\"black\" d=\"M3315.66,-111.407C3302.04,-99.6005 3287.17,-86.7166 3273.6,-74.9495\"/>\r\n",
       "<polygon fill=\"black\" stroke=\"black\" points=\"3275.62,-72.0714 3265.77,-68.1669 3271.03,-77.3612 3275.62,-72.0714\"/>\r\n",
       "</g>\r\n",
       "<!-- 52 -->\r\n",
       "<g id=\"node53\" class=\"node\"><title>52</title>\r\n",
       "<polygon fill=\"#53aae8\" stroke=\"black\" points=\"3433,-68 3308,-68 3308,-0 3433,-0 3433,-68\"/>\r\n",
       "<text text-anchor=\"middle\" x=\"3370.5\" y=\"-52.8\" font-family=\"Times New Roman,serif\" font-size=\"14.00\">node #52</text>\r\n",
       "<text text-anchor=\"middle\" x=\"3370.5\" y=\"-37.8\" font-family=\"Times New Roman,serif\" font-size=\"14.00\">gini = 0.206</text>\r\n",
       "<text text-anchor=\"middle\" x=\"3370.5\" y=\"-22.8\" font-family=\"Times New Roman,serif\" font-size=\"14.00\">samples = 4140</text>\r\n",
       "<text text-anchor=\"middle\" x=\"3370.5\" y=\"-7.8\" font-family=\"Times New Roman,serif\" font-size=\"14.00\">value = [482, 3658]</text>\r\n",
       "</g>\r\n",
       "<!-- 50&#45;&gt;52 -->\r\n",
       "<g id=\"edge52\" class=\"edge\"><title>50&#45;&gt;52</title>\r\n",
       "<path fill=\"none\" stroke=\"black\" d=\"M3365.28,-111.407C3366.01,-100.704 3366.8,-89.1154 3367.54,-78.2762\"/>\r\n",
       "<polygon fill=\"black\" stroke=\"black\" points=\"3371.04,-78.3824 3368.23,-68.1669 3364.06,-77.9049 3371.04,-78.3824\"/>\r\n",
       "</g>\r\n",
       "<!-- 54 -->\r\n",
       "<g id=\"node55\" class=\"node\"><title>54</title>\r\n",
       "<polygon fill=\"#95cbf1\" stroke=\"black\" points=\"3555.5,-68 3451.5,-68 3451.5,-0 3555.5,-0 3555.5,-68\"/>\r\n",
       "<text text-anchor=\"middle\" x=\"3503.5\" y=\"-52.8\" font-family=\"Times New Roman,serif\" font-size=\"14.00\">node #54</text>\r\n",
       "<text text-anchor=\"middle\" x=\"3503.5\" y=\"-37.8\" font-family=\"Times New Roman,serif\" font-size=\"14.00\">gini = 0.434</text>\r\n",
       "<text text-anchor=\"middle\" x=\"3503.5\" y=\"-22.8\" font-family=\"Times New Roman,serif\" font-size=\"14.00\">samples = 66</text>\r\n",
       "<text text-anchor=\"middle\" x=\"3503.5\" y=\"-7.8\" font-family=\"Times New Roman,serif\" font-size=\"14.00\">value = [21, 45]</text>\r\n",
       "</g>\r\n",
       "<!-- 53&#45;&gt;54 -->\r\n",
       "<g id=\"edge54\" class=\"edge\"><title>53&#45;&gt;54</title>\r\n",
       "<path fill=\"none\" stroke=\"black\" d=\"M3508.72,-111.407C3507.99,-100.704 3507.2,-89.1154 3506.46,-78.2762\"/>\r\n",
       "<polygon fill=\"black\" stroke=\"black\" points=\"3509.94,-77.9049 3505.77,-68.1669 3502.96,-78.3824 3509.94,-77.9049\"/>\r\n",
       "</g>\r\n",
       "<!-- 55 -->\r\n",
       "<g id=\"node56\" class=\"node\"><title>55</title>\r\n",
       "<polygon fill=\"#72b9ec\" stroke=\"black\" points=\"3685,-68 3574,-68 3574,-0 3685,-0 3685,-68\"/>\r\n",
       "<text text-anchor=\"middle\" x=\"3629.5\" y=\"-52.8\" font-family=\"Times New Roman,serif\" font-size=\"14.00\">node #55</text>\r\n",
       "<text text-anchor=\"middle\" x=\"3629.5\" y=\"-37.8\" font-family=\"Times New Roman,serif\" font-size=\"14.00\">gini = 0.347</text>\r\n",
       "<text text-anchor=\"middle\" x=\"3629.5\" y=\"-22.8\" font-family=\"Times New Roman,serif\" font-size=\"14.00\">samples = 295</text>\r\n",
       "<text text-anchor=\"middle\" x=\"3629.5\" y=\"-7.8\" font-family=\"Times New Roman,serif\" font-size=\"14.00\">value = [66, 229]</text>\r\n",
       "</g>\r\n",
       "<!-- 53&#45;&gt;55 -->\r\n",
       "<g id=\"edge55\" class=\"edge\"><title>53&#45;&gt;55</title>\r\n",
       "<path fill=\"none\" stroke=\"black\" d=\"M3552.44,-111.407C3564.24,-99.7109 3577.1,-86.9573 3588.88,-75.2797\"/>\r\n",
       "<polygon fill=\"black\" stroke=\"black\" points=\"3591.41,-77.6933 3596.05,-68.1669 3586.48,-72.7225 3591.41,-77.6933\"/>\r\n",
       "</g>\r\n",
       "<!-- 57 -->\r\n",
       "<g id=\"node58\" class=\"node\"><title>57</title>\r\n",
       "<polygon fill=\"#f3c3a1\" stroke=\"black\" points=\"3852,-194.5 3715,-194.5 3715,-111.5 3852,-111.5 3852,-194.5\"/>\r\n",
       "<text text-anchor=\"middle\" x=\"3783.5\" y=\"-179.3\" font-family=\"Times New Roman,serif\" font-size=\"14.00\">node #57</text>\r\n",
       "<text text-anchor=\"middle\" x=\"3783.5\" y=\"-164.3\" font-family=\"Times New Roman,serif\" font-size=\"14.00\">ROADCOND &lt;= 6.5</text>\r\n",
       "<text text-anchor=\"middle\" x=\"3783.5\" y=\"-149.3\" font-family=\"Times New Roman,serif\" font-size=\"14.00\">gini = 0.451</text>\r\n",
       "<text text-anchor=\"middle\" x=\"3783.5\" y=\"-134.3\" font-family=\"Times New Roman,serif\" font-size=\"14.00\">samples = 32</text>\r\n",
       "<text text-anchor=\"middle\" x=\"3783.5\" y=\"-119.3\" font-family=\"Times New Roman,serif\" font-size=\"14.00\">value = [21, 11]</text>\r\n",
       "</g>\r\n",
       "<!-- 56&#45;&gt;57 -->\r\n",
       "<g id=\"edge57\" class=\"edge\"><title>56&#45;&gt;57</title>\r\n",
       "<path fill=\"none\" stroke=\"black\" d=\"M3783.5,-230.407C3783.5,-222.149 3783.5,-213.364 3783.5,-204.802\"/>\r\n",
       "<polygon fill=\"black\" stroke=\"black\" points=\"3787,-204.521 3783.5,-194.521 3780,-204.521 3787,-204.521\"/>\r\n",
       "</g>\r\n",
       "<!-- 60 -->\r\n",
       "<g id=\"node61\" class=\"node\"><title>60</title>\r\n",
       "<polygon fill=\"#e9965a\" stroke=\"black\" points=\"4042.5,-194.5 3906.5,-194.5 3906.5,-111.5 4042.5,-111.5 4042.5,-194.5\"/>\r\n",
       "<text text-anchor=\"middle\" x=\"3974.5\" y=\"-179.3\" font-family=\"Times New Roman,serif\" font-size=\"14.00\">node #60</text>\r\n",
       "<text text-anchor=\"middle\" x=\"3974.5\" y=\"-164.3\" font-family=\"Times New Roman,serif\" font-size=\"14.00\">UNDERINFL &lt;= 1.0</text>\r\n",
       "<text text-anchor=\"middle\" x=\"3974.5\" y=\"-149.3\" font-family=\"Times New Roman,serif\" font-size=\"14.00\">gini = 0.245</text>\r\n",
       "<text text-anchor=\"middle\" x=\"3974.5\" y=\"-134.3\" font-family=\"Times New Roman,serif\" font-size=\"14.00\">samples = 7</text>\r\n",
       "<text text-anchor=\"middle\" x=\"3974.5\" y=\"-119.3\" font-family=\"Times New Roman,serif\" font-size=\"14.00\">value = [6, 1]</text>\r\n",
       "</g>\r\n",
       "<!-- 56&#45;&gt;60 -->\r\n",
       "<g id=\"edge60\" class=\"edge\"><title>56&#45;&gt;60</title>\r\n",
       "<path fill=\"none\" stroke=\"black\" d=\"M3849.77,-230.407C3865.91,-220.516 3883.3,-209.868 3899.81,-199.754\"/>\r\n",
       "<polygon fill=\"black\" stroke=\"black\" points=\"3901.65,-202.729 3908.35,-194.521 3898,-196.76 3901.65,-202.729\"/>\r\n",
       "</g>\r\n",
       "<!-- 58 -->\r\n",
       "<g id=\"node59\" class=\"node\"><title>58</title>\r\n",
       "<polygon fill=\"#fbeade\" stroke=\"black\" points=\"3794,-68 3703,-68 3703,-0 3794,-0 3794,-68\"/>\r\n",
       "<text text-anchor=\"middle\" x=\"3748.5\" y=\"-52.8\" font-family=\"Times New Roman,serif\" font-size=\"14.00\">node #58</text>\r\n",
       "<text text-anchor=\"middle\" x=\"3748.5\" y=\"-37.8\" font-family=\"Times New Roman,serif\" font-size=\"14.00\">gini = 0.496</text>\r\n",
       "<text text-anchor=\"middle\" x=\"3748.5\" y=\"-22.8\" font-family=\"Times New Roman,serif\" font-size=\"14.00\">samples = 11</text>\r\n",
       "<text text-anchor=\"middle\" x=\"3748.5\" y=\"-7.8\" font-family=\"Times New Roman,serif\" font-size=\"14.00\">value = [6, 5]</text>\r\n",
       "</g>\r\n",
       "<!-- 57&#45;&gt;58 -->\r\n",
       "<g id=\"edge58\" class=\"edge\"><title>57&#45;&gt;58</title>\r\n",
       "<path fill=\"none\" stroke=\"black\" d=\"M3771.36,-111.407C3768.12,-100.594 3764.62,-88.8763 3761.35,-77.9412\"/>\r\n",
       "<polygon fill=\"black\" stroke=\"black\" points=\"3764.64,-76.7443 3758.42,-68.1669 3757.93,-78.7506 3764.64,-76.7443\"/>\r\n",
       "</g>\r\n",
       "<!-- 59 -->\r\n",
       "<g id=\"node60\" class=\"node\"><title>59</title>\r\n",
       "<polygon fill=\"#efb388\" stroke=\"black\" points=\"3910.5,-68 3812.5,-68 3812.5,-0 3910.5,-0 3910.5,-68\"/>\r\n",
       "<text text-anchor=\"middle\" x=\"3861.5\" y=\"-52.8\" font-family=\"Times New Roman,serif\" font-size=\"14.00\">node #59</text>\r\n",
       "<text text-anchor=\"middle\" x=\"3861.5\" y=\"-37.8\" font-family=\"Times New Roman,serif\" font-size=\"14.00\">gini = 0.408</text>\r\n",
       "<text text-anchor=\"middle\" x=\"3861.5\" y=\"-22.8\" font-family=\"Times New Roman,serif\" font-size=\"14.00\">samples = 21</text>\r\n",
       "<text text-anchor=\"middle\" x=\"3861.5\" y=\"-7.8\" font-family=\"Times New Roman,serif\" font-size=\"14.00\">value = [15, 6]</text>\r\n",
       "</g>\r\n",
       "<!-- 57&#45;&gt;59 -->\r\n",
       "<g id=\"edge59\" class=\"edge\"><title>57&#45;&gt;59</title>\r\n",
       "<path fill=\"none\" stroke=\"black\" d=\"M3810.56,-111.407C3818.07,-100.152 3826.22,-87.9183 3833.76,-76.6062\"/>\r\n",
       "<polygon fill=\"black\" stroke=\"black\" points=\"3836.75,-78.4289 3839.39,-68.1669 3830.93,-74.546 3836.75,-78.4289\"/>\r\n",
       "</g>\r\n",
       "<!-- 61 -->\r\n",
       "<g id=\"node62\" class=\"node\"><title>61</title>\r\n",
       "<polygon fill=\"#e58139\" stroke=\"black\" points=\"4020,-68 3929,-68 3929,-0 4020,-0 4020,-68\"/>\r\n",
       "<text text-anchor=\"middle\" x=\"3974.5\" y=\"-52.8\" font-family=\"Times New Roman,serif\" font-size=\"14.00\">node #61</text>\r\n",
       "<text text-anchor=\"middle\" x=\"3974.5\" y=\"-37.8\" font-family=\"Times New Roman,serif\" font-size=\"14.00\">gini = 0.0</text>\r\n",
       "<text text-anchor=\"middle\" x=\"3974.5\" y=\"-22.8\" font-family=\"Times New Roman,serif\" font-size=\"14.00\">samples = 5</text>\r\n",
       "<text text-anchor=\"middle\" x=\"3974.5\" y=\"-7.8\" font-family=\"Times New Roman,serif\" font-size=\"14.00\">value = [5, 0]</text>\r\n",
       "</g>\r\n",
       "<!-- 60&#45;&gt;61 -->\r\n",
       "<g id=\"edge61\" class=\"edge\"><title>60&#45;&gt;61</title>\r\n",
       "<path fill=\"none\" stroke=\"black\" d=\"M3974.5,-111.407C3974.5,-100.704 3974.5,-89.1154 3974.5,-78.2762\"/>\r\n",
       "<polygon fill=\"black\" stroke=\"black\" points=\"3978,-78.1669 3974.5,-68.1669 3971,-78.167 3978,-78.1669\"/>\r\n",
       "</g>\r\n",
       "<!-- 62 -->\r\n",
       "<g id=\"node63\" class=\"node\"><title>62</title>\r\n",
       "<polygon fill=\"#ffffff\" stroke=\"black\" points=\"4129,-68 4038,-68 4038,-0 4129,-0 4129,-68\"/>\r\n",
       "<text text-anchor=\"middle\" x=\"4083.5\" y=\"-52.8\" font-family=\"Times New Roman,serif\" font-size=\"14.00\">node #62</text>\r\n",
       "<text text-anchor=\"middle\" x=\"4083.5\" y=\"-37.8\" font-family=\"Times New Roman,serif\" font-size=\"14.00\">gini = 0.5</text>\r\n",
       "<text text-anchor=\"middle\" x=\"4083.5\" y=\"-22.8\" font-family=\"Times New Roman,serif\" font-size=\"14.00\">samples = 2</text>\r\n",
       "<text text-anchor=\"middle\" x=\"4083.5\" y=\"-7.8\" font-family=\"Times New Roman,serif\" font-size=\"14.00\">value = [1, 1]</text>\r\n",
       "</g>\r\n",
       "<!-- 60&#45;&gt;62 -->\r\n",
       "<g id=\"edge62\" class=\"edge\"><title>60&#45;&gt;62</title>\r\n",
       "<path fill=\"none\" stroke=\"black\" d=\"M4012.32,-111.407C4023.11,-99.8212 4034.87,-87.1978 4045.67,-75.6105\"/>\r\n",
       "<polygon fill=\"black\" stroke=\"black\" points=\"4048.35,-77.8695 4052.6,-68.1669 4043.22,-73.098 4048.35,-77.8695\"/>\r\n",
       "</g>\r\n",
       "</g>\r\n",
       "</svg>\r\n"
      ],
      "text/plain": [
       "<graphviz.files.Source at 0x184d2c38208>"
      ]
     },
     "execution_count": 106,
     "metadata": {},
     "output_type": "execute_result"
    }
   ],
   "source": [
    "# Since we have a lot of data, lets only set max_depth=5\n",
    "# This will speed up the process to graph\n",
    "dt_model2 = DecisionTreeClassifier(random_state=1, max_depth=5)\n",
    "dt_model2.fit(X_train, y_train)\n",
    "plot_tree(dt_model2, X.columns.tolist())"
   ]
  },
  {
   "cell_type": "code",
   "execution_count": 108,
   "metadata": {},
   "outputs": [
    {
     "data": {
      "text/plain": [
       "Mid-Block (not related to intersection)              89800\n",
       "At Intersection (intersection related)               62810\n",
       "Mid-Block (but intersection related)                 22790\n",
       "Driveway Junction                                    10671\n",
       "UNKOWN                                                6329\n",
       "At Intersection (but not related to intersection)     2098\n",
       "Ramp Junction                                          166\n",
       "Unknown                                                  9\n",
       "Name: JUNCTIONTYPE, dtype: int64"
      ]
     },
     "execution_count": 108,
     "metadata": {},
     "output_type": "execute_result"
    }
   ],
   "source": [
    "# Feature 2\n",
    "d1['JUNCTIONTYPE'].value_counts()"
   ]
  },
  {
   "cell_type": "code",
   "execution_count": 109,
   "metadata": {},
   "outputs": [
    {
     "data": {
      "text/html": [
       "<div>\n",
       "<style scoped>\n",
       "    .dataframe tbody tr th:only-of-type {\n",
       "        vertical-align: middle;\n",
       "    }\n",
       "\n",
       "    .dataframe tbody tr th {\n",
       "        vertical-align: top;\n",
       "    }\n",
       "\n",
       "    .dataframe thead th {\n",
       "        text-align: right;\n",
       "    }\n",
       "</style>\n",
       "<table border=\"1\" class=\"dataframe\">\n",
       "  <thead>\n",
       "    <tr style=\"text-align: right;\">\n",
       "      <th></th>\n",
       "      <th>SEVERITYCODE</th>\n",
       "      <th>SEVERITYDESC</th>\n",
       "      <th>COLLISIONTYPE</th>\n",
       "      <th>JUNCTIONTYPE</th>\n",
       "      <th>SDOT_COLCODE</th>\n",
       "      <th>SDOT_COLDESC</th>\n",
       "      <th>INATTENTIONIND</th>\n",
       "      <th>UNDERINFL</th>\n",
       "      <th>WEATHER</th>\n",
       "      <th>ROADCOND</th>\n",
       "      <th>LIGHTCOND</th>\n",
       "      <th>SPEEDING</th>\n",
       "    </tr>\n",
       "  </thead>\n",
       "  <tbody>\n",
       "    <tr>\n",
       "      <th>0</th>\n",
       "      <td>2</td>\n",
       "      <td>Injury Collision</td>\n",
       "      <td>Angles</td>\n",
       "      <td>At Intersection (intersection related)</td>\n",
       "      <td>11</td>\n",
       "      <td>MOTOR VEHICLE STRUCK MOTOR VEHICLE, FRONT END ...</td>\n",
       "      <td>UNKOWN</td>\n",
       "      <td>N</td>\n",
       "      <td>Overcast</td>\n",
       "      <td>Wet</td>\n",
       "      <td>Daylight</td>\n",
       "      <td>UNKOWN</td>\n",
       "    </tr>\n",
       "    <tr>\n",
       "      <th>1</th>\n",
       "      <td>1</td>\n",
       "      <td>Property Damage Only Collision</td>\n",
       "      <td>Sideswipe</td>\n",
       "      <td>Mid-Block (not related to intersection)</td>\n",
       "      <td>16</td>\n",
       "      <td>MOTOR VEHICLE STRUCK MOTOR VEHICLE, LEFT SIDE ...</td>\n",
       "      <td>UNKOWN</td>\n",
       "      <td>0</td>\n",
       "      <td>Raining</td>\n",
       "      <td>Wet</td>\n",
       "      <td>Dark - Street Lights On</td>\n",
       "      <td>UNKOWN</td>\n",
       "    </tr>\n",
       "    <tr>\n",
       "      <th>2</th>\n",
       "      <td>1</td>\n",
       "      <td>Property Damage Only Collision</td>\n",
       "      <td>Parked Car</td>\n",
       "      <td>Mid-Block (not related to intersection)</td>\n",
       "      <td>14</td>\n",
       "      <td>MOTOR VEHICLE STRUCK MOTOR VEHICLE, REAR END</td>\n",
       "      <td>UNKOWN</td>\n",
       "      <td>0</td>\n",
       "      <td>Overcast</td>\n",
       "      <td>Dry</td>\n",
       "      <td>Daylight</td>\n",
       "      <td>UNKOWN</td>\n",
       "    </tr>\n",
       "  </tbody>\n",
       "</table>\n",
       "</div>"
      ],
      "text/plain": [
       "   SEVERITYCODE                    SEVERITYDESC COLLISIONTYPE  \\\n",
       "0             2                Injury Collision        Angles   \n",
       "1             1  Property Damage Only Collision     Sideswipe   \n",
       "2             1  Property Damage Only Collision    Parked Car   \n",
       "\n",
       "                              JUNCTIONTYPE  SDOT_COLCODE  \\\n",
       "0   At Intersection (intersection related)            11   \n",
       "1  Mid-Block (not related to intersection)            16   \n",
       "2  Mid-Block (not related to intersection)            14   \n",
       "\n",
       "                                        SDOT_COLDESC INATTENTIONIND UNDERINFL  \\\n",
       "0  MOTOR VEHICLE STRUCK MOTOR VEHICLE, FRONT END ...         UNKOWN         N   \n",
       "1  MOTOR VEHICLE STRUCK MOTOR VEHICLE, LEFT SIDE ...         UNKOWN         0   \n",
       "2       MOTOR VEHICLE STRUCK MOTOR VEHICLE, REAR END         UNKOWN         0   \n",
       "\n",
       "    WEATHER ROADCOND                LIGHTCOND SPEEDING  \n",
       "0  Overcast      Wet                 Daylight   UNKOWN  \n",
       "1   Raining      Wet  Dark - Street Lights On   UNKOWN  \n",
       "2  Overcast      Dry                 Daylight   UNKOWN  "
      ]
     },
     "execution_count": 109,
     "metadata": {},
     "output_type": "execute_result"
    }
   ],
   "source": [
    "d1.head(3)"
   ]
  },
  {
   "cell_type": "code",
   "execution_count": 110,
   "metadata": {},
   "outputs": [
    {
     "data": {
      "text/plain": [
       "Index(['Mid-Block (not related to intersection)',\n",
       "       'Mid-Block (but intersection related)',\n",
       "       'At Intersection (intersection related)',\n",
       "       'At Intersection (but not related to intersection)',\n",
       "       'Driveway Junction', 'UNKOWN', 'Ramp Junction'],\n",
       "      dtype='object')"
      ]
     },
     "execution_count": 110,
     "metadata": {},
     "output_type": "execute_result"
    }
   ],
   "source": [
    "# Selecting the columns with only \"Rear Ended crashes\n",
    "rear_end = d1[d1['COLLISIONTYPE'] == 'Rear Ended']\n",
    "rear_end.JUNCTIONTYPE.value_counts().index"
   ]
  },
  {
   "cell_type": "markdown",
   "metadata": {},
   "source": [
    "### Visualizing the Impact of each major feature on rear End Type Crashes. Here are the top 3 reasons."
   ]
  },
  {
   "cell_type": "markdown",
   "metadata": {},
   "source": [
    "Junction Type : Category of junction at which collision took place "
   ]
  },
  {
   "cell_type": "code",
   "execution_count": 111,
   "metadata": {},
   "outputs": [
    {
     "data": {
      "image/png": "[encoded data removed]",
      "text/plain": [
       "<Figure size 576x576 with 1 Axes>"
      ]
     },
     "metadata": {
      "needs_background": "light"
     },
     "output_type": "display_data"
    }
   ],
   "source": [
    "# Bar graph of top 15 Junction Types\n",
    "\n",
    "plt.figure(figsize=(8,8))\n",
    "\n",
    "y= rear_end.JUNCTIONTYPE.value_counts().values[:15]\n",
    "x=rear_end.JUNCTIONTYPE.value_counts().index[:15]\n",
    "\n",
    "sn.barplot(y, x)\n",
    "plt.title('Top 15 Rear End Crashes Junction Type', size=25)\n",
    "plt.ylabel(\"(Contributory)\", size=20, rotation=0)\n",
    "plt.xlabel(\"(Quantity)\", size=20)\n",
    "plt.xticks(size=10)\n",
    "plt.yticks(size=10);"
   ]
  },
  {
   "cell_type": "code",
   "execution_count": 113,
   "metadata": {
    "scrolled": true
   },
   "outputs": [
    {
     "data": {
      "text/plain": [
       "Index(['Daylight', 'Dark - Street Lights On', 'Dusk', 'Unknown', 'Dawn',\n",
       "       'Dark - No Street Lights', 'Dark - Street Lights Off', 'Other',\n",
       "       'Dark - Unknown Lighting'],\n",
       "      dtype='object')"
      ]
     },
     "execution_count": 113,
     "metadata": {},
     "output_type": "execute_result"
    }
   ],
   "source": [
    "# Selecting the columns with only \"Rear Ended\" crashes\n",
    "rear_end = d1[d1['COLLISIONTYPE'] == 'Rear Ended']\n",
    "rear_end.LIGHTCOND.value_counts().index"
   ]
  },
  {
   "cell_type": "markdown",
   "metadata": {},
   "source": [
    "LightCond : The light conditions during the collision."
   ]
  },
  {
   "cell_type": "code",
   "execution_count": 114,
   "metadata": {
    "scrolled": true
   },
   "outputs": [
    {
     "data": {
      "image/png": "[encoded data removed]",
      "text/plain": [
       "<Figure size 576x576 with 1 Axes>"
      ]
     },
     "metadata": {
      "needs_background": "light"
     },
     "output_type": "display_data"
    }
   ],
   "source": [
    "# Bar graph of top 15 Light conditions\n",
    "\n",
    "plt.figure(figsize=(8,8))\n",
    "\n",
    "y= rear_end.LIGHTCOND.value_counts().values[:15]\n",
    "x=rear_end.LIGHTCOND.value_counts().index[:15]\n",
    "\n",
    "sn.barplot(y, x)\n",
    "plt.title('Top 15 Rear End Crashes Light Condition based', size=25)\n",
    "plt.ylabel(\"(Contributory)\", size=20, rotation=90)\n",
    "plt.xlabel(\"(Quantity)\", size=20)\n",
    "plt.xticks(size=10)\n",
    "plt.yticks(size=10);"
   ]
  },
  {
   "cell_type": "code",
   "execution_count": 115,
   "metadata": {},
   "outputs": [
    {
     "data": {
      "text/plain": [
       "Index(['Clear', 'Raining', 'Overcast', 'Unknown', 'Fog/Smog/Smoke', 'Snowing',\n",
       "       'Other', 'UNKOWN', 'Sleet/Hail/Freezing Rain', 'Blowing Sand/Dirt',\n",
       "       'Severe Crosswind'],\n",
       "      dtype='object')"
      ]
     },
     "execution_count": 115,
     "metadata": {},
     "output_type": "execute_result"
    }
   ],
   "source": [
    "# Selecting the columns with only \"Rear Ended\" crashes\n",
    "rear_end = d1[d1['COLLISIONTYPE'] == 'Rear Ended']\n",
    "rear_end.WEATHER.value_counts().index"
   ]
  },
  {
   "cell_type": "markdown",
   "metadata": {},
   "source": [
    "Weather : A description of the weather conditions during the time of the collision."
   ]
  },
  {
   "cell_type": "code",
   "execution_count": 116,
   "metadata": {},
   "outputs": [
    {
     "data": {
      "image/png": "[encoded data removed]",
      "text/plain": [
       "<Figure size 576x576 with 1 Axes>"
      ]
     },
     "metadata": {
      "needs_background": "light"
     },
     "output_type": "display_data"
    }
   ],
   "source": [
    "# Bar graph of top 15 Weather conditions\n",
    "\n",
    "plt.figure(figsize=(8,8))\n",
    "\n",
    "y= rear_end.WEATHER.value_counts().values[:15]\n",
    "x=rear_end.WEATHER.value_counts().index[:15]\n",
    "\n",
    "sn.barplot(y, x)\n",
    "plt.title('Top 15 Rear End Crashes Weather based', size=25)\n",
    "plt.ylabel(\"(Contributory)\", size=20, rotation=90)\n",
    "plt.xlabel(\"(Quantity)\", size=20)\n",
    "plt.xticks(size=10)\n",
    "plt.yticks(size=10);"
   ]
  },
  {
   "cell_type": "markdown",
   "metadata": {},
   "source": [
    "From the above analysis we understand that rear ended collisions have the most severity. Weather, light conditions and type of junction plays a crucial role in these type of collisions."
   ]
  }
 ],
 "metadata": {
  "kernelspec": {
   "display_name": "Python 3",
   "language": "python",
   "name": "python3"
  },
  "language_info": {
   "codemirror_mode": {
    "name": "ipython",
    "version": 3
   },
   "file_extension": ".py",
   "mimetype": "text/x-python",
   "name": "python",
   "nbconvert_exporter": "python",
   "pygments_lexer": "ipython3",
   "version": "3.7.6"
  }
 },
 "nbformat": 4,
 "nbformat_minor": 4
}
